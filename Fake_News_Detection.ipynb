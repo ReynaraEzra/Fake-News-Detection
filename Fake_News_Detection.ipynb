{
  "nbformat": 4,
  "nbformat_minor": 5,
  "metadata": {
    "kernelspec": {
      "name": "python3",
      "display_name": "Python 3"
    },
    "toc": {
      "base_numbering": 1,
      "nav_menu": {},
      "number_sections": false,
      "sideBar": true,
      "skip_h1_title": false,
      "title_cell": "Table of Contents",
      "title_sidebar": "Contents",
      "toc_cell": false,
      "toc_position": {},
      "toc_section_display": true,
      "toc_window_display": false
    },
    "varInspector": {
      "cols": {
        "lenName": 16,
        "lenType": 16,
        "lenVar": 40
      },
      "kernels_config": {
        "python": {
          "delete_cmd_postfix": "",
          "delete_cmd_prefix": "del ",
          "library": "var_list.py",
          "varRefreshCmd": "print(var_dic_list())"
        },
        "r": {
          "delete_cmd_postfix": ") ",
          "delete_cmd_prefix": "rm(",
          "library": "var_list.r",
          "varRefreshCmd": "cat(var_dic_list()) "
        }
      },
      "types_to_exclude": [
        "module",
        "function",
        "builtin_function_or_method",
        "instance",
        "_Feature"
      ],
      "window_display": false
    },
    "colab": {
      "name": "Fake News Detection.ipynb",
      "provenance": []
    },
    "language_info": {
      "name": "python"
    },
    "accelerator": "GPU"
  },
  "cells": [
    {
      "cell_type": "markdown",
      "metadata": {
        "id": "6d141687"
      },
      "source": [
        "# Fake News Detection Using Bidirectional LSTM\n",
        "## Reynara Ezra Pratama"
      ],
      "id": "6d141687"
    },
    {
      "cell_type": "markdown",
      "metadata": {
        "id": "c4a54063"
      },
      "source": [
        "## Introduction"
      ],
      "id": "c4a54063"
    },
    {
      "cell_type": "markdown",
      "metadata": {
        "id": "9596d7e4"
      },
      "source": [
        "## Learning Objective\n",
        "\n",
        "1. Mengetahui konsep dan cara kerja dari Bidirectional LSTM (BiLSTM)\n",
        "2. Implementasi BiLSTM pada permasalahan nyata"
      ],
      "id": "9596d7e4"
    },
    {
      "cell_type": "markdown",
      "metadata": {
        "id": "289fcc4d"
      },
      "source": [
        "## LSTM vs BiLSTM"
      ],
      "id": "289fcc4d"
    },
    {
      "cell_type": "markdown",
      "metadata": {
        "id": "13ffcd3c"
      },
      "source": [
        "## Case Example Using BiLSTM"
      ],
      "id": "13ffcd3c"
    },
    {
      "cell_type": "markdown",
      "metadata": {
        "id": "adbd58de"
      },
      "source": [
        "### Background"
      ],
      "id": "adbd58de"
    },
    {
      "cell_type": "markdown",
      "metadata": {
        "id": "889d5cd0"
      },
      "source": [
        ""
      ],
      "id": "889d5cd0"
    },
    {
      "cell_type": "markdown",
      "metadata": {
        "id": "3eb0fd30"
      },
      "source": [
        "### Business Understanding"
      ],
      "id": "3eb0fd30"
    },
    {
      "cell_type": "markdown",
      "metadata": {
        "id": "d49dc035"
      },
      "source": [
        ""
      ],
      "id": "d49dc035"
    },
    {
      "cell_type": "markdown",
      "metadata": {
        "id": "4d4c3c95"
      },
      "source": [
        "### Data Understanding"
      ],
      "id": "4d4c3c95"
    },
    {
      "cell_type": "markdown",
      "metadata": {
        "id": "63873cd1"
      },
      "source": [
        "Terdapat dua buah dataset yang kita gunakan yaitu `Fake.csv` dan `True.csv`. Dataset `Fake.csv` berisi kumpulan berita yang terindikasi *fake* atau hoax sementara dataset `True.csv` berisi kumpulan berita yang faktanya adalah benar.\n",
        "\n",
        "Terdapat 4 buah kolom pada kedua dataset yaitu `title`, `text`, `subject`, `date`.\n",
        "1. `title` : Judul berita \n",
        "2. `text` : Isi konten dari berita yang ada\n",
        "3. `subject` : Subjek dari artikel berita\n",
        "4. `date` : Tanggal artikel diterbitkan"
      ],
      "id": "63873cd1"
    },
    {
      "cell_type": "markdown",
      "metadata": {
        "id": "d24f1904"
      },
      "source": [
        "### Import Library"
      ],
      "id": "d24f1904"
    },
    {
      "cell_type": "code",
      "metadata": {
        "ExecuteTime": {
          "end_time": "2021-10-28T16:20:10.327644Z",
          "start_time": "2021-10-28T16:20:01.719184Z"
        },
        "colab": {
          "base_uri": "https://localhost:8080/"
        },
        "id": "0b8480c5",
        "outputId": "7472d091-ae18-45a5-cd0c-c986bca456db"
      },
      "source": [
        "import pandas as pd\n",
        "import numpy as np\n",
        "import matplotlib.pyplot as plt\n",
        "import seaborn as sns\n",
        "sns.set_theme()\n",
        "\n",
        "from sklearn.preprocessing import OneHotEncoder\n",
        "from sklearn.preprocessing import LabelEncoder\n",
        "from sklearn.model_selection import train_test_split\n",
        "from sklearn.metrics import confusion_matrix\n",
        "from sklearn.metrics import accuracy_score\n",
        "#from imblearn.over_sampling import RandomOverSampler\n",
        "\n",
        "import tensorflow as tf\n",
        "import nltk\n",
        "import re\n",
        "\n",
        "from tensorflow.keras.preprocessing.text import Tokenizer\n",
        "from tensorflow.keras.preprocessing.sequence import pad_sequences\n",
        "\n",
        "from nltk.corpus import stopwords\n",
        "from nltk.stem.porter import PorterStemmer\n",
        "from nltk.stem import WordNetLemmatizer\n",
        "nltk.download('stopwords')\n",
        "nltk.download('wordnet')\n",
        "\n",
        "import warnings \n",
        "warnings.filterwarnings('ignore')"
      ],
      "id": "0b8480c5",
      "execution_count": 1,
      "outputs": [
        {
          "output_type": "stream",
          "name": "stdout",
          "text": [
            "[nltk_data] Downloading package stopwords to /root/nltk_data...\n",
            "[nltk_data]   Package stopwords is already up-to-date!\n",
            "[nltk_data] Downloading package wordnet to /root/nltk_data...\n",
            "[nltk_data]   Package wordnet is already up-to-date!\n"
          ]
        }
      ]
    },
    {
      "cell_type": "markdown",
      "metadata": {
        "id": "c9629898"
      },
      "source": [
        "### Loading Dataset"
      ],
      "id": "c9629898"
    },
    {
      "cell_type": "markdown",
      "metadata": {
        "id": "b3b60370"
      },
      "source": [
        "**Load Data From Github**"
      ],
      "id": "b3b60370"
    },
    {
      "cell_type": "code",
      "metadata": {
        "id": "478bfcc3"
      },
      "source": [
        "url_fake = 'https://raw.githubusercontent.com/ReynaraEzra/Fake-News-Detection/main/data_input/Fake.csv'\n",
        "url_true = 'https://raw.githubusercontent.com/ReynaraEzra/Fake-News-Detection/main/data_input/True.csv'\n",
        "fake = pd.read_csv(url_fake)\n",
        "true = pd.read_csv(url_true)"
      ],
      "id": "478bfcc3",
      "execution_count": 2,
      "outputs": []
    },
    {
      "cell_type": "markdown",
      "metadata": {
        "id": "8557cecc"
      },
      "source": [
        "**Load Data From Local File**"
      ],
      "id": "8557cecc"
    },
    {
      "cell_type": "code",
      "metadata": {
        "ExecuteTime": {
          "end_time": "2021-10-28T12:43:26.279432Z",
          "start_time": "2021-10-28T12:43:24.504865Z"
        },
        "id": "eeb76eb4"
      },
      "source": [
        "# fake = pd.read_csv('data_input/Fake.csv')\n",
        "# true = pd.read_csv('data_input/True.csv')"
      ],
      "id": "eeb76eb4",
      "execution_count": 3,
      "outputs": []
    },
    {
      "cell_type": "markdown",
      "metadata": {
        "id": "ebac2f62"
      },
      "source": [
        "### Checking Dataset"
      ],
      "id": "ebac2f62"
    },
    {
      "cell_type": "code",
      "metadata": {
        "ExecuteTime": {
          "end_time": "2021-10-28T12:43:33.305082Z",
          "start_time": "2021-10-28T12:43:33.160079Z"
        },
        "colab": {
          "base_uri": "https://localhost:8080/",
          "height": 204
        },
        "id": "bb8801b4",
        "outputId": "b72c534a-ac98-45b2-8701-e186e527e3e0"
      },
      "source": [
        "fake.head()"
      ],
      "id": "bb8801b4",
      "execution_count": 4,
      "outputs": [
        {
          "output_type": "execute_result",
          "data": {
            "text/html": [
              "<div>\n",
              "<style scoped>\n",
              "    .dataframe tbody tr th:only-of-type {\n",
              "        vertical-align: middle;\n",
              "    }\n",
              "\n",
              "    .dataframe tbody tr th {\n",
              "        vertical-align: top;\n",
              "    }\n",
              "\n",
              "    .dataframe thead th {\n",
              "        text-align: right;\n",
              "    }\n",
              "</style>\n",
              "<table border=\"1\" class=\"dataframe\">\n",
              "  <thead>\n",
              "    <tr style=\"text-align: right;\">\n",
              "      <th></th>\n",
              "      <th>title</th>\n",
              "      <th>text</th>\n",
              "      <th>subject</th>\n",
              "      <th>date</th>\n",
              "    </tr>\n",
              "  </thead>\n",
              "  <tbody>\n",
              "    <tr>\n",
              "      <th>0</th>\n",
              "      <td>Donald Trump Sends Out Embarrassing New Year’...</td>\n",
              "      <td>Donald Trump just couldn t wish all Americans ...</td>\n",
              "      <td>News</td>\n",
              "      <td>December 31, 2017</td>\n",
              "    </tr>\n",
              "    <tr>\n",
              "      <th>1</th>\n",
              "      <td>Drunk Bragging Trump Staffer Started Russian ...</td>\n",
              "      <td>House Intelligence Committee Chairman Devin Nu...</td>\n",
              "      <td>News</td>\n",
              "      <td>December 31, 2017</td>\n",
              "    </tr>\n",
              "    <tr>\n",
              "      <th>2</th>\n",
              "      <td>Sheriff David Clarke Becomes An Internet Joke...</td>\n",
              "      <td>On Friday, it was revealed that former Milwauk...</td>\n",
              "      <td>News</td>\n",
              "      <td>December 30, 2017</td>\n",
              "    </tr>\n",
              "    <tr>\n",
              "      <th>3</th>\n",
              "      <td>Trump Is So Obsessed He Even Has Obama’s Name...</td>\n",
              "      <td>On Christmas day, Donald Trump announced that ...</td>\n",
              "      <td>News</td>\n",
              "      <td>December 29, 2017</td>\n",
              "    </tr>\n",
              "    <tr>\n",
              "      <th>4</th>\n",
              "      <td>Pope Francis Just Called Out Donald Trump Dur...</td>\n",
              "      <td>Pope Francis used his annual Christmas Day mes...</td>\n",
              "      <td>News</td>\n",
              "      <td>December 25, 2017</td>\n",
              "    </tr>\n",
              "  </tbody>\n",
              "</table>\n",
              "</div>"
            ],
            "text/plain": [
              "                                               title  ...               date\n",
              "0   Donald Trump Sends Out Embarrassing New Year’...  ...  December 31, 2017\n",
              "1   Drunk Bragging Trump Staffer Started Russian ...  ...  December 31, 2017\n",
              "2   Sheriff David Clarke Becomes An Internet Joke...  ...  December 30, 2017\n",
              "3   Trump Is So Obsessed He Even Has Obama’s Name...  ...  December 29, 2017\n",
              "4   Pope Francis Just Called Out Donald Trump Dur...  ...  December 25, 2017\n",
              "\n",
              "[5 rows x 4 columns]"
            ]
          },
          "metadata": {},
          "execution_count": 4
        }
      ]
    },
    {
      "cell_type": "code",
      "metadata": {
        "ExecuteTime": {
          "end_time": "2021-10-28T12:43:38.703968Z",
          "start_time": "2021-10-28T12:43:38.692438Z"
        },
        "colab": {
          "base_uri": "https://localhost:8080/",
          "height": 204
        },
        "id": "b2f0c0a7",
        "outputId": "e5e2e4e4-c706-4a29-8bb5-6596a7d28ec9"
      },
      "source": [
        "true.head()"
      ],
      "id": "b2f0c0a7",
      "execution_count": 5,
      "outputs": [
        {
          "output_type": "execute_result",
          "data": {
            "text/html": [
              "<div>\n",
              "<style scoped>\n",
              "    .dataframe tbody tr th:only-of-type {\n",
              "        vertical-align: middle;\n",
              "    }\n",
              "\n",
              "    .dataframe tbody tr th {\n",
              "        vertical-align: top;\n",
              "    }\n",
              "\n",
              "    .dataframe thead th {\n",
              "        text-align: right;\n",
              "    }\n",
              "</style>\n",
              "<table border=\"1\" class=\"dataframe\">\n",
              "  <thead>\n",
              "    <tr style=\"text-align: right;\">\n",
              "      <th></th>\n",
              "      <th>title</th>\n",
              "      <th>text</th>\n",
              "      <th>subject</th>\n",
              "      <th>date</th>\n",
              "    </tr>\n",
              "  </thead>\n",
              "  <tbody>\n",
              "    <tr>\n",
              "      <th>0</th>\n",
              "      <td>As U.S. budget fight looms, Republicans flip t...</td>\n",
              "      <td>WASHINGTON (Reuters) - The head of a conservat...</td>\n",
              "      <td>politicsNews</td>\n",
              "      <td>December 31, 2017</td>\n",
              "    </tr>\n",
              "    <tr>\n",
              "      <th>1</th>\n",
              "      <td>U.S. military to accept transgender recruits o...</td>\n",
              "      <td>WASHINGTON (Reuters) - Transgender people will...</td>\n",
              "      <td>politicsNews</td>\n",
              "      <td>December 29, 2017</td>\n",
              "    </tr>\n",
              "    <tr>\n",
              "      <th>2</th>\n",
              "      <td>Senior U.S. Republican senator: 'Let Mr. Muell...</td>\n",
              "      <td>WASHINGTON (Reuters) - The special counsel inv...</td>\n",
              "      <td>politicsNews</td>\n",
              "      <td>December 31, 2017</td>\n",
              "    </tr>\n",
              "    <tr>\n",
              "      <th>3</th>\n",
              "      <td>FBI Russia probe helped by Australian diplomat...</td>\n",
              "      <td>WASHINGTON (Reuters) - Trump campaign adviser ...</td>\n",
              "      <td>politicsNews</td>\n",
              "      <td>December 30, 2017</td>\n",
              "    </tr>\n",
              "    <tr>\n",
              "      <th>4</th>\n",
              "      <td>Trump wants Postal Service to charge 'much mor...</td>\n",
              "      <td>SEATTLE/WASHINGTON (Reuters) - President Donal...</td>\n",
              "      <td>politicsNews</td>\n",
              "      <td>December 29, 2017</td>\n",
              "    </tr>\n",
              "  </tbody>\n",
              "</table>\n",
              "</div>"
            ],
            "text/plain": [
              "                                               title  ...                date\n",
              "0  As U.S. budget fight looms, Republicans flip t...  ...  December 31, 2017 \n",
              "1  U.S. military to accept transgender recruits o...  ...  December 29, 2017 \n",
              "2  Senior U.S. Republican senator: 'Let Mr. Muell...  ...  December 31, 2017 \n",
              "3  FBI Russia probe helped by Australian diplomat...  ...  December 30, 2017 \n",
              "4  Trump wants Postal Service to charge 'much mor...  ...  December 29, 2017 \n",
              "\n",
              "[5 rows x 4 columns]"
            ]
          },
          "metadata": {},
          "execution_count": 5
        }
      ]
    },
    {
      "cell_type": "markdown",
      "metadata": {
        "id": "6CrRSEV0y9Xk"
      },
      "source": [
        "## Text Preprocessing"
      ],
      "id": "6CrRSEV0y9Xk"
    },
    {
      "cell_type": "code",
      "metadata": {
        "ExecuteTime": {
          "end_time": "2021-10-28T16:12:45.760982Z",
          "start_time": "2021-10-28T16:12:45.682058Z"
        },
        "colab": {
          "base_uri": "https://localhost:8080/",
          "height": 204
        },
        "id": "06ec7693",
        "outputId": "c3a2c24e-22a6-4495-ca63-087570c3a468"
      },
      "source": [
        "fake['label'] = 1\n",
        "true['label'] = 0\n",
        "data = pd.concat([fake, true])\n",
        "data = data.reset_index(drop=True)\n",
        "data.head()"
      ],
      "id": "06ec7693",
      "execution_count": 6,
      "outputs": [
        {
          "output_type": "execute_result",
          "data": {
            "text/html": [
              "<div>\n",
              "<style scoped>\n",
              "    .dataframe tbody tr th:only-of-type {\n",
              "        vertical-align: middle;\n",
              "    }\n",
              "\n",
              "    .dataframe tbody tr th {\n",
              "        vertical-align: top;\n",
              "    }\n",
              "\n",
              "    .dataframe thead th {\n",
              "        text-align: right;\n",
              "    }\n",
              "</style>\n",
              "<table border=\"1\" class=\"dataframe\">\n",
              "  <thead>\n",
              "    <tr style=\"text-align: right;\">\n",
              "      <th></th>\n",
              "      <th>title</th>\n",
              "      <th>text</th>\n",
              "      <th>subject</th>\n",
              "      <th>date</th>\n",
              "      <th>label</th>\n",
              "    </tr>\n",
              "  </thead>\n",
              "  <tbody>\n",
              "    <tr>\n",
              "      <th>0</th>\n",
              "      <td>Donald Trump Sends Out Embarrassing New Year’...</td>\n",
              "      <td>Donald Trump just couldn t wish all Americans ...</td>\n",
              "      <td>News</td>\n",
              "      <td>December 31, 2017</td>\n",
              "      <td>1</td>\n",
              "    </tr>\n",
              "    <tr>\n",
              "      <th>1</th>\n",
              "      <td>Drunk Bragging Trump Staffer Started Russian ...</td>\n",
              "      <td>House Intelligence Committee Chairman Devin Nu...</td>\n",
              "      <td>News</td>\n",
              "      <td>December 31, 2017</td>\n",
              "      <td>1</td>\n",
              "    </tr>\n",
              "    <tr>\n",
              "      <th>2</th>\n",
              "      <td>Sheriff David Clarke Becomes An Internet Joke...</td>\n",
              "      <td>On Friday, it was revealed that former Milwauk...</td>\n",
              "      <td>News</td>\n",
              "      <td>December 30, 2017</td>\n",
              "      <td>1</td>\n",
              "    </tr>\n",
              "    <tr>\n",
              "      <th>3</th>\n",
              "      <td>Trump Is So Obsessed He Even Has Obama’s Name...</td>\n",
              "      <td>On Christmas day, Donald Trump announced that ...</td>\n",
              "      <td>News</td>\n",
              "      <td>December 29, 2017</td>\n",
              "      <td>1</td>\n",
              "    </tr>\n",
              "    <tr>\n",
              "      <th>4</th>\n",
              "      <td>Pope Francis Just Called Out Donald Trump Dur...</td>\n",
              "      <td>Pope Francis used his annual Christmas Day mes...</td>\n",
              "      <td>News</td>\n",
              "      <td>December 25, 2017</td>\n",
              "      <td>1</td>\n",
              "    </tr>\n",
              "  </tbody>\n",
              "</table>\n",
              "</div>"
            ],
            "text/plain": [
              "                                               title  ... label\n",
              "0   Donald Trump Sends Out Embarrassing New Year’...  ...     1\n",
              "1   Drunk Bragging Trump Staffer Started Russian ...  ...     1\n",
              "2   Sheriff David Clarke Becomes An Internet Joke...  ...     1\n",
              "3   Trump Is So Obsessed He Even Has Obama’s Name...  ...     1\n",
              "4   Pope Francis Just Called Out Donald Trump Dur...  ...     1\n",
              "\n",
              "[5 rows x 5 columns]"
            ]
          },
          "metadata": {},
          "execution_count": 6
        }
      ]
    },
    {
      "cell_type": "code",
      "metadata": {
        "ExecuteTime": {
          "end_time": "2021-10-28T16:12:47.252764Z",
          "start_time": "2021-10-28T16:12:47.224223Z"
        },
        "colab": {
          "base_uri": "https://localhost:8080/"
        },
        "id": "aac20bb4",
        "outputId": "0f6279a5-45c8-4e9a-cf25-fa4f378e0a3a"
      },
      "source": [
        "data.info()"
      ],
      "id": "aac20bb4",
      "execution_count": 7,
      "outputs": [
        {
          "output_type": "stream",
          "name": "stdout",
          "text": [
            "<class 'pandas.core.frame.DataFrame'>\n",
            "RangeIndex: 44898 entries, 0 to 44897\n",
            "Data columns (total 5 columns):\n",
            " #   Column   Non-Null Count  Dtype \n",
            "---  ------   --------------  ----- \n",
            " 0   title    44898 non-null  object\n",
            " 1   text     44898 non-null  object\n",
            " 2   subject  44898 non-null  object\n",
            " 3   date     44898 non-null  object\n",
            " 4   label    44898 non-null  int64 \n",
            "dtypes: int64(1), object(4)\n",
            "memory usage: 1.7+ MB\n"
          ]
        }
      ]
    },
    {
      "cell_type": "markdown",
      "metadata": {
        "id": "c258b201"
      },
      "source": [
        "Terlihat bahwa terdapat 44898 artikel yang ada pada `data` dengan total 5 buah kolom yang terdiri atas 1 kolom bertipe *integer* dan 4 kolom bertipe *object*."
      ],
      "id": "c258b201"
    },
    {
      "cell_type": "code",
      "metadata": {
        "ExecuteTime": {
          "end_time": "2021-10-28T16:12:49.531635Z",
          "start_time": "2021-10-28T16:12:49.526118Z"
        },
        "id": "8aac8449"
      },
      "source": [
        "def make_count_plot(data, xlabel, size_x, size_y):\n",
        "    plt.figure(figsize=(size_x, size_y))\n",
        "    p = sns.countplot(data)\n",
        "    plt.xlabel(xlabel, fontsize=12)\n",
        "    p.set_xticklabels(['True News', 'Fake News'])\n",
        "    plt.ylabel('Frequency', fontsize=12)\n",
        "    plt.title(f'Number of Article Based on {xlabel}', fontsize=15)\n",
        "    plt.show()"
      ],
      "id": "8aac8449",
      "execution_count": 8,
      "outputs": []
    },
    {
      "cell_type": "code",
      "metadata": {
        "ExecuteTime": {
          "end_time": "2021-10-28T16:12:50.333389Z",
          "start_time": "2021-10-28T16:12:50.201121Z"
        },
        "colab": {
          "base_uri": "https://localhost:8080/",
          "height": 446
        },
        "id": "2a3a967b",
        "outputId": "4c6017f4-3d36-40a5-ca8f-8211cf1c0ec4"
      },
      "source": [
        "make_count_plot(data['label'], 'Label', 6, 6)\n",
        "print(f\"Jumlah Artikel yang dikategorikan Fake News : {data[data['label']==1].shape[0]}\")\n",
        "print(f\"Jumlah Artikel yang dikategorikan True News : {data[data['label']==0].shape[0]}\")"
      ],
      "id": "2a3a967b",
      "execution_count": 9,
      "outputs": [
        {
          "output_type": "display_data",
          "data": {
            "image/png": "[encoded data removed]",
            "text/plain": [
              "<Figure size 432x432 with 1 Axes>"
            ]
          },
          "metadata": {
            "needs_background": "light"
          }
        },
        {
          "output_type": "stream",
          "name": "stdout",
          "text": [
            "Jumlah Artikel yang dikategorikan Fake News : 23481\n",
            "Jumlah Artikel yang dikategorikan True News : 21417\n"
          ]
        }
      ]
    },
    {
      "cell_type": "markdown",
      "metadata": {
        "id": "444c63e4"
      },
      "source": [
        "Jumlah artikel yang dikategorikan ke dalam *Fake News* dan *True News* sudah seimbang, maka tidak perlu dilakukan proses *downsampling* atau *upsampling* pada data."
      ],
      "id": "444c63e4"
    },
    {
      "cell_type": "code",
      "metadata": {
        "ExecuteTime": {
          "end_time": "2021-10-28T16:14:17.197917Z",
          "start_time": "2021-10-28T16:14:17.182876Z"
        },
        "id": "3b4fb42c"
      },
      "source": [
        "df = data.drop(['subject', 'date'], axis=1)"
      ],
      "id": "3b4fb42c",
      "execution_count": 10,
      "outputs": []
    },
    {
      "cell_type": "code",
      "metadata": {
        "ExecuteTime": {
          "end_time": "2021-10-28T16:14:17.628645Z",
          "start_time": "2021-10-28T16:14:17.619158Z"
        },
        "colab": {
          "base_uri": "https://localhost:8080/",
          "height": 204
        },
        "id": "5a30cd7d",
        "outputId": "1977a962-7144-4cc8-e8f6-3c0bfeccf2b1"
      },
      "source": [
        "df.head()"
      ],
      "id": "5a30cd7d",
      "execution_count": 11,
      "outputs": [
        {
          "output_type": "execute_result",
          "data": {
            "text/html": [
              "<div>\n",
              "<style scoped>\n",
              "    .dataframe tbody tr th:only-of-type {\n",
              "        vertical-align: middle;\n",
              "    }\n",
              "\n",
              "    .dataframe tbody tr th {\n",
              "        vertical-align: top;\n",
              "    }\n",
              "\n",
              "    .dataframe thead th {\n",
              "        text-align: right;\n",
              "    }\n",
              "</style>\n",
              "<table border=\"1\" class=\"dataframe\">\n",
              "  <thead>\n",
              "    <tr style=\"text-align: right;\">\n",
              "      <th></th>\n",
              "      <th>title</th>\n",
              "      <th>text</th>\n",
              "      <th>label</th>\n",
              "    </tr>\n",
              "  </thead>\n",
              "  <tbody>\n",
              "    <tr>\n",
              "      <th>0</th>\n",
              "      <td>Donald Trump Sends Out Embarrassing New Year’...</td>\n",
              "      <td>Donald Trump just couldn t wish all Americans ...</td>\n",
              "      <td>1</td>\n",
              "    </tr>\n",
              "    <tr>\n",
              "      <th>1</th>\n",
              "      <td>Drunk Bragging Trump Staffer Started Russian ...</td>\n",
              "      <td>House Intelligence Committee Chairman Devin Nu...</td>\n",
              "      <td>1</td>\n",
              "    </tr>\n",
              "    <tr>\n",
              "      <th>2</th>\n",
              "      <td>Sheriff David Clarke Becomes An Internet Joke...</td>\n",
              "      <td>On Friday, it was revealed that former Milwauk...</td>\n",
              "      <td>1</td>\n",
              "    </tr>\n",
              "    <tr>\n",
              "      <th>3</th>\n",
              "      <td>Trump Is So Obsessed He Even Has Obama’s Name...</td>\n",
              "      <td>On Christmas day, Donald Trump announced that ...</td>\n",
              "      <td>1</td>\n",
              "    </tr>\n",
              "    <tr>\n",
              "      <th>4</th>\n",
              "      <td>Pope Francis Just Called Out Donald Trump Dur...</td>\n",
              "      <td>Pope Francis used his annual Christmas Day mes...</td>\n",
              "      <td>1</td>\n",
              "    </tr>\n",
              "  </tbody>\n",
              "</table>\n",
              "</div>"
            ],
            "text/plain": [
              "                                               title  ... label\n",
              "0   Donald Trump Sends Out Embarrassing New Year’...  ...     1\n",
              "1   Drunk Bragging Trump Staffer Started Russian ...  ...     1\n",
              "2   Sheriff David Clarke Becomes An Internet Joke...  ...     1\n",
              "3   Trump Is So Obsessed He Even Has Obama’s Name...  ...     1\n",
              "4   Pope Francis Just Called Out Donald Trump Dur...  ...     1\n",
              "\n",
              "[5 rows x 3 columns]"
            ]
          },
          "metadata": {},
          "execution_count": 11
        }
      ]
    },
    {
      "cell_type": "code",
      "metadata": {
        "ExecuteTime": {
          "end_time": "2021-10-28T16:14:18.278076Z",
          "start_time": "2021-10-28T16:14:18.153742Z"
        },
        "id": "8e200dd2"
      },
      "source": [
        "df['content'] = df['title'] + ' ' + df['text']"
      ],
      "id": "8e200dd2",
      "execution_count": 12,
      "outputs": []
    },
    {
      "cell_type": "code",
      "metadata": {
        "ExecuteTime": {
          "end_time": "2021-10-28T16:14:18.823551Z",
          "start_time": "2021-10-28T16:14:18.812020Z"
        },
        "colab": {
          "base_uri": "https://localhost:8080/",
          "height": 204
        },
        "id": "3d7194a6",
        "outputId": "0a34a5ed-97da-421c-b4f9-874174fdb9d9"
      },
      "source": [
        "df.head()"
      ],
      "id": "3d7194a6",
      "execution_count": 13,
      "outputs": [
        {
          "output_type": "execute_result",
          "data": {
            "text/html": [
              "<div>\n",
              "<style scoped>\n",
              "    .dataframe tbody tr th:only-of-type {\n",
              "        vertical-align: middle;\n",
              "    }\n",
              "\n",
              "    .dataframe tbody tr th {\n",
              "        vertical-align: top;\n",
              "    }\n",
              "\n",
              "    .dataframe thead th {\n",
              "        text-align: right;\n",
              "    }\n",
              "</style>\n",
              "<table border=\"1\" class=\"dataframe\">\n",
              "  <thead>\n",
              "    <tr style=\"text-align: right;\">\n",
              "      <th></th>\n",
              "      <th>title</th>\n",
              "      <th>text</th>\n",
              "      <th>label</th>\n",
              "      <th>content</th>\n",
              "    </tr>\n",
              "  </thead>\n",
              "  <tbody>\n",
              "    <tr>\n",
              "      <th>0</th>\n",
              "      <td>Donald Trump Sends Out Embarrassing New Year’...</td>\n",
              "      <td>Donald Trump just couldn t wish all Americans ...</td>\n",
              "      <td>1</td>\n",
              "      <td>Donald Trump Sends Out Embarrassing New Year’...</td>\n",
              "    </tr>\n",
              "    <tr>\n",
              "      <th>1</th>\n",
              "      <td>Drunk Bragging Trump Staffer Started Russian ...</td>\n",
              "      <td>House Intelligence Committee Chairman Devin Nu...</td>\n",
              "      <td>1</td>\n",
              "      <td>Drunk Bragging Trump Staffer Started Russian ...</td>\n",
              "    </tr>\n",
              "    <tr>\n",
              "      <th>2</th>\n",
              "      <td>Sheriff David Clarke Becomes An Internet Joke...</td>\n",
              "      <td>On Friday, it was revealed that former Milwauk...</td>\n",
              "      <td>1</td>\n",
              "      <td>Sheriff David Clarke Becomes An Internet Joke...</td>\n",
              "    </tr>\n",
              "    <tr>\n",
              "      <th>3</th>\n",
              "      <td>Trump Is So Obsessed He Even Has Obama’s Name...</td>\n",
              "      <td>On Christmas day, Donald Trump announced that ...</td>\n",
              "      <td>1</td>\n",
              "      <td>Trump Is So Obsessed He Even Has Obama’s Name...</td>\n",
              "    </tr>\n",
              "    <tr>\n",
              "      <th>4</th>\n",
              "      <td>Pope Francis Just Called Out Donald Trump Dur...</td>\n",
              "      <td>Pope Francis used his annual Christmas Day mes...</td>\n",
              "      <td>1</td>\n",
              "      <td>Pope Francis Just Called Out Donald Trump Dur...</td>\n",
              "    </tr>\n",
              "  </tbody>\n",
              "</table>\n",
              "</div>"
            ],
            "text/plain": [
              "                                               title  ...                                            content\n",
              "0   Donald Trump Sends Out Embarrassing New Year’...  ...   Donald Trump Sends Out Embarrassing New Year’...\n",
              "1   Drunk Bragging Trump Staffer Started Russian ...  ...   Drunk Bragging Trump Staffer Started Russian ...\n",
              "2   Sheriff David Clarke Becomes An Internet Joke...  ...   Sheriff David Clarke Becomes An Internet Joke...\n",
              "3   Trump Is So Obsessed He Even Has Obama’s Name...  ...   Trump Is So Obsessed He Even Has Obama’s Name...\n",
              "4   Pope Francis Just Called Out Donald Trump Dur...  ...   Pope Francis Just Called Out Donald Trump Dur...\n",
              "\n",
              "[5 rows x 4 columns]"
            ]
          },
          "metadata": {},
          "execution_count": 13
        }
      ]
    },
    {
      "cell_type": "code",
      "metadata": {
        "ExecuteTime": {
          "end_time": "2021-10-28T16:14:19.349598Z",
          "start_time": "2021-10-28T16:14:19.325070Z"
        },
        "id": "9ce1625e"
      },
      "source": [
        "df = df.drop(['title', 'text'], axis=1)[['content', 'label']]"
      ],
      "id": "9ce1625e",
      "execution_count": 14,
      "outputs": []
    },
    {
      "cell_type": "code",
      "metadata": {
        "ExecuteTime": {
          "end_time": "2021-10-28T16:14:22.472485Z",
          "start_time": "2021-10-28T16:14:22.464465Z"
        },
        "colab": {
          "base_uri": "https://localhost:8080/",
          "height": 204
        },
        "id": "daaafbf9",
        "outputId": "0de70215-a61c-4114-bf0c-f500d18760be"
      },
      "source": [
        "df.head()"
      ],
      "id": "daaafbf9",
      "execution_count": 15,
      "outputs": [
        {
          "output_type": "execute_result",
          "data": {
            "text/html": [
              "<div>\n",
              "<style scoped>\n",
              "    .dataframe tbody tr th:only-of-type {\n",
              "        vertical-align: middle;\n",
              "    }\n",
              "\n",
              "    .dataframe tbody tr th {\n",
              "        vertical-align: top;\n",
              "    }\n",
              "\n",
              "    .dataframe thead th {\n",
              "        text-align: right;\n",
              "    }\n",
              "</style>\n",
              "<table border=\"1\" class=\"dataframe\">\n",
              "  <thead>\n",
              "    <tr style=\"text-align: right;\">\n",
              "      <th></th>\n",
              "      <th>content</th>\n",
              "      <th>label</th>\n",
              "    </tr>\n",
              "  </thead>\n",
              "  <tbody>\n",
              "    <tr>\n",
              "      <th>0</th>\n",
              "      <td>Donald Trump Sends Out Embarrassing New Year’...</td>\n",
              "      <td>1</td>\n",
              "    </tr>\n",
              "    <tr>\n",
              "      <th>1</th>\n",
              "      <td>Drunk Bragging Trump Staffer Started Russian ...</td>\n",
              "      <td>1</td>\n",
              "    </tr>\n",
              "    <tr>\n",
              "      <th>2</th>\n",
              "      <td>Sheriff David Clarke Becomes An Internet Joke...</td>\n",
              "      <td>1</td>\n",
              "    </tr>\n",
              "    <tr>\n",
              "      <th>3</th>\n",
              "      <td>Trump Is So Obsessed He Even Has Obama’s Name...</td>\n",
              "      <td>1</td>\n",
              "    </tr>\n",
              "    <tr>\n",
              "      <th>4</th>\n",
              "      <td>Pope Francis Just Called Out Donald Trump Dur...</td>\n",
              "      <td>1</td>\n",
              "    </tr>\n",
              "  </tbody>\n",
              "</table>\n",
              "</div>"
            ],
            "text/plain": [
              "                                             content  label\n",
              "0   Donald Trump Sends Out Embarrassing New Year’...      1\n",
              "1   Drunk Bragging Trump Staffer Started Russian ...      1\n",
              "2   Sheriff David Clarke Becomes An Internet Joke...      1\n",
              "3   Trump Is So Obsessed He Even Has Obama’s Name...      1\n",
              "4   Pope Francis Just Called Out Donald Trump Dur...      1"
            ]
          },
          "metadata": {},
          "execution_count": 15
        }
      ]
    },
    {
      "cell_type": "code",
      "metadata": {
        "ExecuteTime": {
          "end_time": "2021-10-28T16:15:59.165639Z",
          "start_time": "2021-10-28T16:15:59.160125Z"
        },
        "colab": {
          "base_uri": "https://localhost:8080/",
          "height": 137
        },
        "id": "d11ba47a",
        "outputId": "612d94dd-abba-4d41-c514-22eda8551fc0"
      },
      "source": [
        "df.iloc[0,0]"
      ],
      "id": "d11ba47a",
      "execution_count": 16,
      "outputs": [
        {
          "output_type": "execute_result",
          "data": {
            "application/vnd.google.colaboratory.intrinsic+json": {
              "type": "string"
            },
            "text/plain": [
              "' Donald Trump Sends Out Embarrassing New Year’s Eve Message; This is Disturbing Donald Trump just couldn t wish all Americans a Happy New Year and leave it at that. Instead, he had to give a shout out to his enemies, haters and  the very dishonest fake news media.  The former reality show star had just one job to do and he couldn t do it. As our Country rapidly grows stronger and smarter, I want to wish all of my friends, supporters, enemies, haters, and even the very dishonest Fake News Media, a Happy and Healthy New Year,  President Angry Pants tweeted.  2018 will be a great year for America! As our Country rapidly grows stronger and smarter, I want to wish all of my friends, supporters, enemies, haters, and even the very dishonest Fake News Media, a Happy and Healthy New Year. 2018 will be a great year for America!  Donald J. Trump (@realDonaldTrump) December 31, 2017Trump s tweet went down about as welll as you d expect.What kind of president sends a New Year s greeting like this despicable, petty, infantile gibberish? Only Trump! His lack of decency won t even allow him to rise above the gutter long enough to wish the American citizens a happy new year!  Bishop Talbert Swan (@TalbertSwan) December 31, 2017no one likes you  Calvin (@calvinstowell) December 31, 2017Your impeachment would make 2018 a great year for America, but I ll also accept regaining control of Congress.  Miranda Yaver (@mirandayaver) December 31, 2017Do you hear yourself talk? When you have to include that many people that hate you you have to wonder? Why do the they all hate me?  Alan Sandoval (@AlanSandoval13) December 31, 2017Who uses the word Haters in a New Years wish??  Marlene (@marlene399) December 31, 2017You can t just say happy new year?  Koren pollitt (@Korencarpenter) December 31, 2017Here s Trump s New Year s Eve tweet from 2016.Happy New Year to all, including to my many enemies and those who have fought me and lost so badly they just don t know what to do. Love!  Donald J. Trump (@realDonaldTrump) December 31, 2016This is nothing new for Trump. He s been doing this for years.Trump has directed messages to his  enemies  and  haters  for New Year s, Easter, Thanksgiving, and the anniversary of 9/11. pic.twitter.com/4FPAe2KypA  Daniel Dale (@ddale8) December 31, 2017Trump s holiday tweets are clearly not presidential.How long did he work at Hallmark before becoming President?  Steven Goodine (@SGoodine) December 31, 2017He s always been like this . . . the only difference is that in the last few years, his filter has been breaking down.  Roy Schulze (@thbthttt) December 31, 2017Who, apart from a teenager uses the term haters?  Wendy (@WendyWhistles) December 31, 2017he s a fucking 5 year old  Who Knows (@rainyday80) December 31, 2017So, to all the people who voted for this a hole thinking he would change once he got into power, you were wrong! 70-year-old men don t change and now he s a year older.Photo by Andrew Burton/Getty Images.'"
            ]
          },
          "metadata": {},
          "execution_count": 16
        }
      ]
    },
    {
      "cell_type": "code",
      "metadata": {
        "ExecuteTime": {
          "end_time": "2021-10-28T16:29:48.946585Z",
          "start_time": "2021-10-28T16:29:48.943076Z"
        },
        "id": "cf82cdb4"
      },
      "source": [
        "test = df.iloc[0,0]"
      ],
      "id": "cf82cdb4",
      "execution_count": 17,
      "outputs": []
    },
    {
      "cell_type": "code",
      "metadata": {
        "ExecuteTime": {
          "end_time": "2021-10-28T16:29:49.473536Z",
          "start_time": "2021-10-28T16:29:49.457457Z"
        },
        "id": "a367d906"
      },
      "source": [
        "stop_en = stopwords.words('english')\n",
        "ps = PorterStemmer()\n",
        "lemmatizer = WordNetLemmatizer()"
      ],
      "id": "a367d906",
      "execution_count": 18,
      "outputs": []
    },
    {
      "cell_type": "code",
      "metadata": {
        "ExecuteTime": {
          "end_time": "2021-10-28T16:29:50.075134Z",
          "start_time": "2021-10-28T16:29:50.070623Z"
        },
        "id": "0706d729"
      },
      "source": [
        "text_process = re.sub('[^a-zA-Z]', ' ', test).lower().split()"
      ],
      "id": "0706d729",
      "execution_count": 19,
      "outputs": []
    },
    {
      "cell_type": "code",
      "metadata": {
        "ExecuteTime": {
          "end_time": "2021-10-28T16:29:50.702577Z",
          "start_time": "2021-10-28T16:29:50.689540Z"
        },
        "colab": {
          "base_uri": "https://localhost:8080/"
        },
        "id": "8cfe0be3",
        "outputId": "282ba633-a4eb-43c9-8055-cde4c521c2df"
      },
      "source": [
        "text_process"
      ],
      "id": "8cfe0be3",
      "execution_count": 20,
      "outputs": [
        {
          "output_type": "execute_result",
          "data": {
            "text/plain": [
              "['donald',\n",
              " 'trump',\n",
              " 'sends',\n",
              " 'out',\n",
              " 'embarrassing',\n",
              " 'new',\n",
              " 'year',\n",
              " 's',\n",
              " 'eve',\n",
              " 'message',\n",
              " 'this',\n",
              " 'is',\n",
              " 'disturbing',\n",
              " 'donald',\n",
              " 'trump',\n",
              " 'just',\n",
              " 'couldn',\n",
              " 't',\n",
              " 'wish',\n",
              " 'all',\n",
              " 'americans',\n",
              " 'a',\n",
              " 'happy',\n",
              " 'new',\n",
              " 'year',\n",
              " 'and',\n",
              " 'leave',\n",
              " 'it',\n",
              " 'at',\n",
              " 'that',\n",
              " 'instead',\n",
              " 'he',\n",
              " 'had',\n",
              " 'to',\n",
              " 'give',\n",
              " 'a',\n",
              " 'shout',\n",
              " 'out',\n",
              " 'to',\n",
              " 'his',\n",
              " 'enemies',\n",
              " 'haters',\n",
              " 'and',\n",
              " 'the',\n",
              " 'very',\n",
              " 'dishonest',\n",
              " 'fake',\n",
              " 'news',\n",
              " 'media',\n",
              " 'the',\n",
              " 'former',\n",
              " 'reality',\n",
              " 'show',\n",
              " 'star',\n",
              " 'had',\n",
              " 'just',\n",
              " 'one',\n",
              " 'job',\n",
              " 'to',\n",
              " 'do',\n",
              " 'and',\n",
              " 'he',\n",
              " 'couldn',\n",
              " 't',\n",
              " 'do',\n",
              " 'it',\n",
              " 'as',\n",
              " 'our',\n",
              " 'country',\n",
              " 'rapidly',\n",
              " 'grows',\n",
              " 'stronger',\n",
              " 'and',\n",
              " 'smarter',\n",
              " 'i',\n",
              " 'want',\n",
              " 'to',\n",
              " 'wish',\n",
              " 'all',\n",
              " 'of',\n",
              " 'my',\n",
              " 'friends',\n",
              " 'supporters',\n",
              " 'enemies',\n",
              " 'haters',\n",
              " 'and',\n",
              " 'even',\n",
              " 'the',\n",
              " 'very',\n",
              " 'dishonest',\n",
              " 'fake',\n",
              " 'news',\n",
              " 'media',\n",
              " 'a',\n",
              " 'happy',\n",
              " 'and',\n",
              " 'healthy',\n",
              " 'new',\n",
              " 'year',\n",
              " 'president',\n",
              " 'angry',\n",
              " 'pants',\n",
              " 'tweeted',\n",
              " 'will',\n",
              " 'be',\n",
              " 'a',\n",
              " 'great',\n",
              " 'year',\n",
              " 'for',\n",
              " 'america',\n",
              " 'as',\n",
              " 'our',\n",
              " 'country',\n",
              " 'rapidly',\n",
              " 'grows',\n",
              " 'stronger',\n",
              " 'and',\n",
              " 'smarter',\n",
              " 'i',\n",
              " 'want',\n",
              " 'to',\n",
              " 'wish',\n",
              " 'all',\n",
              " 'of',\n",
              " 'my',\n",
              " 'friends',\n",
              " 'supporters',\n",
              " 'enemies',\n",
              " 'haters',\n",
              " 'and',\n",
              " 'even',\n",
              " 'the',\n",
              " 'very',\n",
              " 'dishonest',\n",
              " 'fake',\n",
              " 'news',\n",
              " 'media',\n",
              " 'a',\n",
              " 'happy',\n",
              " 'and',\n",
              " 'healthy',\n",
              " 'new',\n",
              " 'year',\n",
              " 'will',\n",
              " 'be',\n",
              " 'a',\n",
              " 'great',\n",
              " 'year',\n",
              " 'for',\n",
              " 'america',\n",
              " 'donald',\n",
              " 'j',\n",
              " 'trump',\n",
              " 'realdonaldtrump',\n",
              " 'december',\n",
              " 'trump',\n",
              " 's',\n",
              " 'tweet',\n",
              " 'went',\n",
              " 'down',\n",
              " 'about',\n",
              " 'as',\n",
              " 'welll',\n",
              " 'as',\n",
              " 'you',\n",
              " 'd',\n",
              " 'expect',\n",
              " 'what',\n",
              " 'kind',\n",
              " 'of',\n",
              " 'president',\n",
              " 'sends',\n",
              " 'a',\n",
              " 'new',\n",
              " 'year',\n",
              " 's',\n",
              " 'greeting',\n",
              " 'like',\n",
              " 'this',\n",
              " 'despicable',\n",
              " 'petty',\n",
              " 'infantile',\n",
              " 'gibberish',\n",
              " 'only',\n",
              " 'trump',\n",
              " 'his',\n",
              " 'lack',\n",
              " 'of',\n",
              " 'decency',\n",
              " 'won',\n",
              " 't',\n",
              " 'even',\n",
              " 'allow',\n",
              " 'him',\n",
              " 'to',\n",
              " 'rise',\n",
              " 'above',\n",
              " 'the',\n",
              " 'gutter',\n",
              " 'long',\n",
              " 'enough',\n",
              " 'to',\n",
              " 'wish',\n",
              " 'the',\n",
              " 'american',\n",
              " 'citizens',\n",
              " 'a',\n",
              " 'happy',\n",
              " 'new',\n",
              " 'year',\n",
              " 'bishop',\n",
              " 'talbert',\n",
              " 'swan',\n",
              " 'talbertswan',\n",
              " 'december',\n",
              " 'no',\n",
              " 'one',\n",
              " 'likes',\n",
              " 'you',\n",
              " 'calvin',\n",
              " 'calvinstowell',\n",
              " 'december',\n",
              " 'your',\n",
              " 'impeachment',\n",
              " 'would',\n",
              " 'make',\n",
              " 'a',\n",
              " 'great',\n",
              " 'year',\n",
              " 'for',\n",
              " 'america',\n",
              " 'but',\n",
              " 'i',\n",
              " 'll',\n",
              " 'also',\n",
              " 'accept',\n",
              " 'regaining',\n",
              " 'control',\n",
              " 'of',\n",
              " 'congress',\n",
              " 'miranda',\n",
              " 'yaver',\n",
              " 'mirandayaver',\n",
              " 'december',\n",
              " 'do',\n",
              " 'you',\n",
              " 'hear',\n",
              " 'yourself',\n",
              " 'talk',\n",
              " 'when',\n",
              " 'you',\n",
              " 'have',\n",
              " 'to',\n",
              " 'include',\n",
              " 'that',\n",
              " 'many',\n",
              " 'people',\n",
              " 'that',\n",
              " 'hate',\n",
              " 'you',\n",
              " 'you',\n",
              " 'have',\n",
              " 'to',\n",
              " 'wonder',\n",
              " 'why',\n",
              " 'do',\n",
              " 'the',\n",
              " 'they',\n",
              " 'all',\n",
              " 'hate',\n",
              " 'me',\n",
              " 'alan',\n",
              " 'sandoval',\n",
              " 'alansandoval',\n",
              " 'december',\n",
              " 'who',\n",
              " 'uses',\n",
              " 'the',\n",
              " 'word',\n",
              " 'haters',\n",
              " 'in',\n",
              " 'a',\n",
              " 'new',\n",
              " 'years',\n",
              " 'wish',\n",
              " 'marlene',\n",
              " 'marlene',\n",
              " 'december',\n",
              " 'you',\n",
              " 'can',\n",
              " 't',\n",
              " 'just',\n",
              " 'say',\n",
              " 'happy',\n",
              " 'new',\n",
              " 'year',\n",
              " 'koren',\n",
              " 'pollitt',\n",
              " 'korencarpenter',\n",
              " 'december',\n",
              " 'here',\n",
              " 's',\n",
              " 'trump',\n",
              " 's',\n",
              " 'new',\n",
              " 'year',\n",
              " 's',\n",
              " 'eve',\n",
              " 'tweet',\n",
              " 'from',\n",
              " 'happy',\n",
              " 'new',\n",
              " 'year',\n",
              " 'to',\n",
              " 'all',\n",
              " 'including',\n",
              " 'to',\n",
              " 'my',\n",
              " 'many',\n",
              " 'enemies',\n",
              " 'and',\n",
              " 'those',\n",
              " 'who',\n",
              " 'have',\n",
              " 'fought',\n",
              " 'me',\n",
              " 'and',\n",
              " 'lost',\n",
              " 'so',\n",
              " 'badly',\n",
              " 'they',\n",
              " 'just',\n",
              " 'don',\n",
              " 't',\n",
              " 'know',\n",
              " 'what',\n",
              " 'to',\n",
              " 'do',\n",
              " 'love',\n",
              " 'donald',\n",
              " 'j',\n",
              " 'trump',\n",
              " 'realdonaldtrump',\n",
              " 'december',\n",
              " 'this',\n",
              " 'is',\n",
              " 'nothing',\n",
              " 'new',\n",
              " 'for',\n",
              " 'trump',\n",
              " 'he',\n",
              " 's',\n",
              " 'been',\n",
              " 'doing',\n",
              " 'this',\n",
              " 'for',\n",
              " 'years',\n",
              " 'trump',\n",
              " 'has',\n",
              " 'directed',\n",
              " 'messages',\n",
              " 'to',\n",
              " 'his',\n",
              " 'enemies',\n",
              " 'and',\n",
              " 'haters',\n",
              " 'for',\n",
              " 'new',\n",
              " 'year',\n",
              " 's',\n",
              " 'easter',\n",
              " 'thanksgiving',\n",
              " 'and',\n",
              " 'the',\n",
              " 'anniversary',\n",
              " 'of',\n",
              " 'pic',\n",
              " 'twitter',\n",
              " 'com',\n",
              " 'fpae',\n",
              " 'kypa',\n",
              " 'daniel',\n",
              " 'dale',\n",
              " 'ddale',\n",
              " 'december',\n",
              " 'trump',\n",
              " 's',\n",
              " 'holiday',\n",
              " 'tweets',\n",
              " 'are',\n",
              " 'clearly',\n",
              " 'not',\n",
              " 'presidential',\n",
              " 'how',\n",
              " 'long',\n",
              " 'did',\n",
              " 'he',\n",
              " 'work',\n",
              " 'at',\n",
              " 'hallmark',\n",
              " 'before',\n",
              " 'becoming',\n",
              " 'president',\n",
              " 'steven',\n",
              " 'goodine',\n",
              " 'sgoodine',\n",
              " 'december',\n",
              " 'he',\n",
              " 's',\n",
              " 'always',\n",
              " 'been',\n",
              " 'like',\n",
              " 'this',\n",
              " 'the',\n",
              " 'only',\n",
              " 'difference',\n",
              " 'is',\n",
              " 'that',\n",
              " 'in',\n",
              " 'the',\n",
              " 'last',\n",
              " 'few',\n",
              " 'years',\n",
              " 'his',\n",
              " 'filter',\n",
              " 'has',\n",
              " 'been',\n",
              " 'breaking',\n",
              " 'down',\n",
              " 'roy',\n",
              " 'schulze',\n",
              " 'thbthttt',\n",
              " 'december',\n",
              " 'who',\n",
              " 'apart',\n",
              " 'from',\n",
              " 'a',\n",
              " 'teenager',\n",
              " 'uses',\n",
              " 'the',\n",
              " 'term',\n",
              " 'haters',\n",
              " 'wendy',\n",
              " 'wendywhistles',\n",
              " 'december',\n",
              " 'he',\n",
              " 's',\n",
              " 'a',\n",
              " 'fucking',\n",
              " 'year',\n",
              " 'old',\n",
              " 'who',\n",
              " 'knows',\n",
              " 'rainyday',\n",
              " 'december',\n",
              " 'so',\n",
              " 'to',\n",
              " 'all',\n",
              " 'the',\n",
              " 'people',\n",
              " 'who',\n",
              " 'voted',\n",
              " 'for',\n",
              " 'this',\n",
              " 'a',\n",
              " 'hole',\n",
              " 'thinking',\n",
              " 'he',\n",
              " 'would',\n",
              " 'change',\n",
              " 'once',\n",
              " 'he',\n",
              " 'got',\n",
              " 'into',\n",
              " 'power',\n",
              " 'you',\n",
              " 'were',\n",
              " 'wrong',\n",
              " 'year',\n",
              " 'old',\n",
              " 'men',\n",
              " 'don',\n",
              " 't',\n",
              " 'change',\n",
              " 'and',\n",
              " 'now',\n",
              " 'he',\n",
              " 's',\n",
              " 'a',\n",
              " 'year',\n",
              " 'older',\n",
              " 'photo',\n",
              " 'by',\n",
              " 'andrew',\n",
              " 'burton',\n",
              " 'getty',\n",
              " 'images']"
            ]
          },
          "metadata": {},
          "execution_count": 20
        }
      ]
    },
    {
      "cell_type": "code",
      "metadata": {
        "ExecuteTime": {
          "end_time": "2021-10-28T16:29:51.470389Z",
          "start_time": "2021-10-28T16:29:51.465377Z"
        },
        "colab": {
          "base_uri": "https://localhost:8080/"
        },
        "id": "2f8ae8c3",
        "outputId": "588badad-12b4-4e16-d41b-ca023c675fd3"
      },
      "source": [
        "len(text_process)"
      ],
      "id": "2f8ae8c3",
      "execution_count": 21,
      "outputs": [
        {
          "output_type": "execute_result",
          "data": {
            "text/plain": [
              "497"
            ]
          },
          "metadata": {},
          "execution_count": 21
        }
      ]
    },
    {
      "cell_type": "code",
      "metadata": {
        "ExecuteTime": {
          "end_time": "2021-10-28T16:29:52.123875Z",
          "start_time": "2021-10-28T16:29:52.118862Z"
        },
        "id": "199a54db"
      },
      "source": [
        "text_process = [word for word in text_process if not word in stop_en]"
      ],
      "id": "199a54db",
      "execution_count": 22,
      "outputs": []
    },
    {
      "cell_type": "code",
      "metadata": {
        "ExecuteTime": {
          "end_time": "2021-10-28T16:29:52.779310Z",
          "start_time": "2021-10-28T16:29:52.769784Z"
        },
        "colab": {
          "base_uri": "https://localhost:8080/"
        },
        "id": "8eb84d07",
        "outputId": "cf3e52b5-aee4-40e4-dda0-0a3f517e96c9"
      },
      "source": [
        "text_process"
      ],
      "id": "8eb84d07",
      "execution_count": 23,
      "outputs": [
        {
          "output_type": "execute_result",
          "data": {
            "text/plain": [
              "['donald',\n",
              " 'trump',\n",
              " 'sends',\n",
              " 'embarrassing',\n",
              " 'new',\n",
              " 'year',\n",
              " 'eve',\n",
              " 'message',\n",
              " 'disturbing',\n",
              " 'donald',\n",
              " 'trump',\n",
              " 'wish',\n",
              " 'americans',\n",
              " 'happy',\n",
              " 'new',\n",
              " 'year',\n",
              " 'leave',\n",
              " 'instead',\n",
              " 'give',\n",
              " 'shout',\n",
              " 'enemies',\n",
              " 'haters',\n",
              " 'dishonest',\n",
              " 'fake',\n",
              " 'news',\n",
              " 'media',\n",
              " 'former',\n",
              " 'reality',\n",
              " 'show',\n",
              " 'star',\n",
              " 'one',\n",
              " 'job',\n",
              " 'country',\n",
              " 'rapidly',\n",
              " 'grows',\n",
              " 'stronger',\n",
              " 'smarter',\n",
              " 'want',\n",
              " 'wish',\n",
              " 'friends',\n",
              " 'supporters',\n",
              " 'enemies',\n",
              " 'haters',\n",
              " 'even',\n",
              " 'dishonest',\n",
              " 'fake',\n",
              " 'news',\n",
              " 'media',\n",
              " 'happy',\n",
              " 'healthy',\n",
              " 'new',\n",
              " 'year',\n",
              " 'president',\n",
              " 'angry',\n",
              " 'pants',\n",
              " 'tweeted',\n",
              " 'great',\n",
              " 'year',\n",
              " 'america',\n",
              " 'country',\n",
              " 'rapidly',\n",
              " 'grows',\n",
              " 'stronger',\n",
              " 'smarter',\n",
              " 'want',\n",
              " 'wish',\n",
              " 'friends',\n",
              " 'supporters',\n",
              " 'enemies',\n",
              " 'haters',\n",
              " 'even',\n",
              " 'dishonest',\n",
              " 'fake',\n",
              " 'news',\n",
              " 'media',\n",
              " 'happy',\n",
              " 'healthy',\n",
              " 'new',\n",
              " 'year',\n",
              " 'great',\n",
              " 'year',\n",
              " 'america',\n",
              " 'donald',\n",
              " 'j',\n",
              " 'trump',\n",
              " 'realdonaldtrump',\n",
              " 'december',\n",
              " 'trump',\n",
              " 'tweet',\n",
              " 'went',\n",
              " 'welll',\n",
              " 'expect',\n",
              " 'kind',\n",
              " 'president',\n",
              " 'sends',\n",
              " 'new',\n",
              " 'year',\n",
              " 'greeting',\n",
              " 'like',\n",
              " 'despicable',\n",
              " 'petty',\n",
              " 'infantile',\n",
              " 'gibberish',\n",
              " 'trump',\n",
              " 'lack',\n",
              " 'decency',\n",
              " 'even',\n",
              " 'allow',\n",
              " 'rise',\n",
              " 'gutter',\n",
              " 'long',\n",
              " 'enough',\n",
              " 'wish',\n",
              " 'american',\n",
              " 'citizens',\n",
              " 'happy',\n",
              " 'new',\n",
              " 'year',\n",
              " 'bishop',\n",
              " 'talbert',\n",
              " 'swan',\n",
              " 'talbertswan',\n",
              " 'december',\n",
              " 'one',\n",
              " 'likes',\n",
              " 'calvin',\n",
              " 'calvinstowell',\n",
              " 'december',\n",
              " 'impeachment',\n",
              " 'would',\n",
              " 'make',\n",
              " 'great',\n",
              " 'year',\n",
              " 'america',\n",
              " 'also',\n",
              " 'accept',\n",
              " 'regaining',\n",
              " 'control',\n",
              " 'congress',\n",
              " 'miranda',\n",
              " 'yaver',\n",
              " 'mirandayaver',\n",
              " 'december',\n",
              " 'hear',\n",
              " 'talk',\n",
              " 'include',\n",
              " 'many',\n",
              " 'people',\n",
              " 'hate',\n",
              " 'wonder',\n",
              " 'hate',\n",
              " 'alan',\n",
              " 'sandoval',\n",
              " 'alansandoval',\n",
              " 'december',\n",
              " 'uses',\n",
              " 'word',\n",
              " 'haters',\n",
              " 'new',\n",
              " 'years',\n",
              " 'wish',\n",
              " 'marlene',\n",
              " 'marlene',\n",
              " 'december',\n",
              " 'say',\n",
              " 'happy',\n",
              " 'new',\n",
              " 'year',\n",
              " 'koren',\n",
              " 'pollitt',\n",
              " 'korencarpenter',\n",
              " 'december',\n",
              " 'trump',\n",
              " 'new',\n",
              " 'year',\n",
              " 'eve',\n",
              " 'tweet',\n",
              " 'happy',\n",
              " 'new',\n",
              " 'year',\n",
              " 'including',\n",
              " 'many',\n",
              " 'enemies',\n",
              " 'fought',\n",
              " 'lost',\n",
              " 'badly',\n",
              " 'know',\n",
              " 'love',\n",
              " 'donald',\n",
              " 'j',\n",
              " 'trump',\n",
              " 'realdonaldtrump',\n",
              " 'december',\n",
              " 'nothing',\n",
              " 'new',\n",
              " 'trump',\n",
              " 'years',\n",
              " 'trump',\n",
              " 'directed',\n",
              " 'messages',\n",
              " 'enemies',\n",
              " 'haters',\n",
              " 'new',\n",
              " 'year',\n",
              " 'easter',\n",
              " 'thanksgiving',\n",
              " 'anniversary',\n",
              " 'pic',\n",
              " 'twitter',\n",
              " 'com',\n",
              " 'fpae',\n",
              " 'kypa',\n",
              " 'daniel',\n",
              " 'dale',\n",
              " 'ddale',\n",
              " 'december',\n",
              " 'trump',\n",
              " 'holiday',\n",
              " 'tweets',\n",
              " 'clearly',\n",
              " 'presidential',\n",
              " 'long',\n",
              " 'work',\n",
              " 'hallmark',\n",
              " 'becoming',\n",
              " 'president',\n",
              " 'steven',\n",
              " 'goodine',\n",
              " 'sgoodine',\n",
              " 'december',\n",
              " 'always',\n",
              " 'like',\n",
              " 'difference',\n",
              " 'last',\n",
              " 'years',\n",
              " 'filter',\n",
              " 'breaking',\n",
              " 'roy',\n",
              " 'schulze',\n",
              " 'thbthttt',\n",
              " 'december',\n",
              " 'apart',\n",
              " 'teenager',\n",
              " 'uses',\n",
              " 'term',\n",
              " 'haters',\n",
              " 'wendy',\n",
              " 'wendywhistles',\n",
              " 'december',\n",
              " 'fucking',\n",
              " 'year',\n",
              " 'old',\n",
              " 'knows',\n",
              " 'rainyday',\n",
              " 'december',\n",
              " 'people',\n",
              " 'voted',\n",
              " 'hole',\n",
              " 'thinking',\n",
              " 'would',\n",
              " 'change',\n",
              " 'got',\n",
              " 'power',\n",
              " 'wrong',\n",
              " 'year',\n",
              " 'old',\n",
              " 'men',\n",
              " 'change',\n",
              " 'year',\n",
              " 'older',\n",
              " 'photo',\n",
              " 'andrew',\n",
              " 'burton',\n",
              " 'getty',\n",
              " 'images']"
            ]
          },
          "metadata": {},
          "execution_count": 23
        }
      ]
    },
    {
      "cell_type": "code",
      "metadata": {
        "ExecuteTime": {
          "end_time": "2021-10-28T16:29:53.665930Z",
          "start_time": "2021-10-28T16:29:53.660915Z"
        },
        "colab": {
          "base_uri": "https://localhost:8080/"
        },
        "id": "6918fcfa",
        "outputId": "09bf9c4e-a1b8-4fb0-e077-2ef59f3e8f0e"
      },
      "source": [
        "len(text_process)"
      ],
      "id": "6918fcfa",
      "execution_count": 24,
      "outputs": [
        {
          "output_type": "execute_result",
          "data": {
            "text/plain": [
              "275"
            ]
          },
          "metadata": {},
          "execution_count": 24
        }
      ]
    },
    {
      "cell_type": "code",
      "metadata": {
        "ExecuteTime": {
          "end_time": "2021-10-28T16:29:54.373850Z",
          "start_time": "2021-10-28T16:29:54.368337Z"
        },
        "id": "c1867efd"
      },
      "source": [
        "text_process = [lemmatizer.lemmatize(word) for word in text_process]"
      ],
      "id": "c1867efd",
      "execution_count": 25,
      "outputs": []
    },
    {
      "cell_type": "code",
      "metadata": {
        "ExecuteTime": {
          "end_time": "2021-10-28T16:29:55.083586Z",
          "start_time": "2021-10-28T16:29:55.072593Z"
        },
        "colab": {
          "base_uri": "https://localhost:8080/"
        },
        "id": "f1080101",
        "outputId": "7abc0317-02b9-4538-e723-a0324fb9a8b4"
      },
      "source": [
        "text_process"
      ],
      "id": "f1080101",
      "execution_count": 26,
      "outputs": [
        {
          "output_type": "execute_result",
          "data": {
            "text/plain": [
              "['donald',\n",
              " 'trump',\n",
              " 'sends',\n",
              " 'embarrassing',\n",
              " 'new',\n",
              " 'year',\n",
              " 'eve',\n",
              " 'message',\n",
              " 'disturbing',\n",
              " 'donald',\n",
              " 'trump',\n",
              " 'wish',\n",
              " 'american',\n",
              " 'happy',\n",
              " 'new',\n",
              " 'year',\n",
              " 'leave',\n",
              " 'instead',\n",
              " 'give',\n",
              " 'shout',\n",
              " 'enemy',\n",
              " 'hater',\n",
              " 'dishonest',\n",
              " 'fake',\n",
              " 'news',\n",
              " 'medium',\n",
              " 'former',\n",
              " 'reality',\n",
              " 'show',\n",
              " 'star',\n",
              " 'one',\n",
              " 'job',\n",
              " 'country',\n",
              " 'rapidly',\n",
              " 'grows',\n",
              " 'stronger',\n",
              " 'smarter',\n",
              " 'want',\n",
              " 'wish',\n",
              " 'friend',\n",
              " 'supporter',\n",
              " 'enemy',\n",
              " 'hater',\n",
              " 'even',\n",
              " 'dishonest',\n",
              " 'fake',\n",
              " 'news',\n",
              " 'medium',\n",
              " 'happy',\n",
              " 'healthy',\n",
              " 'new',\n",
              " 'year',\n",
              " 'president',\n",
              " 'angry',\n",
              " 'pant',\n",
              " 'tweeted',\n",
              " 'great',\n",
              " 'year',\n",
              " 'america',\n",
              " 'country',\n",
              " 'rapidly',\n",
              " 'grows',\n",
              " 'stronger',\n",
              " 'smarter',\n",
              " 'want',\n",
              " 'wish',\n",
              " 'friend',\n",
              " 'supporter',\n",
              " 'enemy',\n",
              " 'hater',\n",
              " 'even',\n",
              " 'dishonest',\n",
              " 'fake',\n",
              " 'news',\n",
              " 'medium',\n",
              " 'happy',\n",
              " 'healthy',\n",
              " 'new',\n",
              " 'year',\n",
              " 'great',\n",
              " 'year',\n",
              " 'america',\n",
              " 'donald',\n",
              " 'j',\n",
              " 'trump',\n",
              " 'realdonaldtrump',\n",
              " 'december',\n",
              " 'trump',\n",
              " 'tweet',\n",
              " 'went',\n",
              " 'welll',\n",
              " 'expect',\n",
              " 'kind',\n",
              " 'president',\n",
              " 'sends',\n",
              " 'new',\n",
              " 'year',\n",
              " 'greeting',\n",
              " 'like',\n",
              " 'despicable',\n",
              " 'petty',\n",
              " 'infantile',\n",
              " 'gibberish',\n",
              " 'trump',\n",
              " 'lack',\n",
              " 'decency',\n",
              " 'even',\n",
              " 'allow',\n",
              " 'rise',\n",
              " 'gutter',\n",
              " 'long',\n",
              " 'enough',\n",
              " 'wish',\n",
              " 'american',\n",
              " 'citizen',\n",
              " 'happy',\n",
              " 'new',\n",
              " 'year',\n",
              " 'bishop',\n",
              " 'talbert',\n",
              " 'swan',\n",
              " 'talbertswan',\n",
              " 'december',\n",
              " 'one',\n",
              " 'like',\n",
              " 'calvin',\n",
              " 'calvinstowell',\n",
              " 'december',\n",
              " 'impeachment',\n",
              " 'would',\n",
              " 'make',\n",
              " 'great',\n",
              " 'year',\n",
              " 'america',\n",
              " 'also',\n",
              " 'accept',\n",
              " 'regaining',\n",
              " 'control',\n",
              " 'congress',\n",
              " 'miranda',\n",
              " 'yaver',\n",
              " 'mirandayaver',\n",
              " 'december',\n",
              " 'hear',\n",
              " 'talk',\n",
              " 'include',\n",
              " 'many',\n",
              " 'people',\n",
              " 'hate',\n",
              " 'wonder',\n",
              " 'hate',\n",
              " 'alan',\n",
              " 'sandoval',\n",
              " 'alansandoval',\n",
              " 'december',\n",
              " 'us',\n",
              " 'word',\n",
              " 'hater',\n",
              " 'new',\n",
              " 'year',\n",
              " 'wish',\n",
              " 'marlene',\n",
              " 'marlene',\n",
              " 'december',\n",
              " 'say',\n",
              " 'happy',\n",
              " 'new',\n",
              " 'year',\n",
              " 'koren',\n",
              " 'pollitt',\n",
              " 'korencarpenter',\n",
              " 'december',\n",
              " 'trump',\n",
              " 'new',\n",
              " 'year',\n",
              " 'eve',\n",
              " 'tweet',\n",
              " 'happy',\n",
              " 'new',\n",
              " 'year',\n",
              " 'including',\n",
              " 'many',\n",
              " 'enemy',\n",
              " 'fought',\n",
              " 'lost',\n",
              " 'badly',\n",
              " 'know',\n",
              " 'love',\n",
              " 'donald',\n",
              " 'j',\n",
              " 'trump',\n",
              " 'realdonaldtrump',\n",
              " 'december',\n",
              " 'nothing',\n",
              " 'new',\n",
              " 'trump',\n",
              " 'year',\n",
              " 'trump',\n",
              " 'directed',\n",
              " 'message',\n",
              " 'enemy',\n",
              " 'hater',\n",
              " 'new',\n",
              " 'year',\n",
              " 'easter',\n",
              " 'thanksgiving',\n",
              " 'anniversary',\n",
              " 'pic',\n",
              " 'twitter',\n",
              " 'com',\n",
              " 'fpae',\n",
              " 'kypa',\n",
              " 'daniel',\n",
              " 'dale',\n",
              " 'ddale',\n",
              " 'december',\n",
              " 'trump',\n",
              " 'holiday',\n",
              " 'tweet',\n",
              " 'clearly',\n",
              " 'presidential',\n",
              " 'long',\n",
              " 'work',\n",
              " 'hallmark',\n",
              " 'becoming',\n",
              " 'president',\n",
              " 'steven',\n",
              " 'goodine',\n",
              " 'sgoodine',\n",
              " 'december',\n",
              " 'always',\n",
              " 'like',\n",
              " 'difference',\n",
              " 'last',\n",
              " 'year',\n",
              " 'filter',\n",
              " 'breaking',\n",
              " 'roy',\n",
              " 'schulze',\n",
              " 'thbthttt',\n",
              " 'december',\n",
              " 'apart',\n",
              " 'teenager',\n",
              " 'us',\n",
              " 'term',\n",
              " 'hater',\n",
              " 'wendy',\n",
              " 'wendywhistles',\n",
              " 'december',\n",
              " 'fucking',\n",
              " 'year',\n",
              " 'old',\n",
              " 'know',\n",
              " 'rainyday',\n",
              " 'december',\n",
              " 'people',\n",
              " 'voted',\n",
              " 'hole',\n",
              " 'thinking',\n",
              " 'would',\n",
              " 'change',\n",
              " 'got',\n",
              " 'power',\n",
              " 'wrong',\n",
              " 'year',\n",
              " 'old',\n",
              " 'men',\n",
              " 'change',\n",
              " 'year',\n",
              " 'older',\n",
              " 'photo',\n",
              " 'andrew',\n",
              " 'burton',\n",
              " 'getty',\n",
              " 'image']"
            ]
          },
          "metadata": {},
          "execution_count": 26
        }
      ]
    },
    {
      "cell_type": "code",
      "metadata": {
        "ExecuteTime": {
          "end_time": "2021-10-28T16:30:00.316383Z",
          "start_time": "2021-10-28T16:30:00.311367Z"
        },
        "colab": {
          "base_uri": "https://localhost:8080/"
        },
        "id": "e6a21dcf",
        "outputId": "826dcaac-ed14-42c7-de6c-8220c7a75575"
      },
      "source": [
        "len(text_process)"
      ],
      "id": "e6a21dcf",
      "execution_count": 27,
      "outputs": [
        {
          "output_type": "execute_result",
          "data": {
            "text/plain": [
              "275"
            ]
          },
          "metadata": {},
          "execution_count": 27
        }
      ]
    },
    {
      "cell_type": "code",
      "metadata": {
        "ExecuteTime": {
          "end_time": "2021-10-28T16:30:09.602132Z",
          "start_time": "2021-10-28T16:30:09.583082Z"
        },
        "colab": {
          "base_uri": "https://localhost:8080/",
          "height": 137
        },
        "id": "f69f26a9",
        "outputId": "7d205dec-2983-4654-c425-da7e30e0cae8"
      },
      "source": [
        "combined = ''\n",
        "for text in text_process:\n",
        "    combined = combined + text + ' '\n",
        "combined"
      ],
      "id": "f69f26a9",
      "execution_count": 28,
      "outputs": [
        {
          "output_type": "execute_result",
          "data": {
            "application/vnd.google.colaboratory.intrinsic+json": {
              "type": "string"
            },
            "text/plain": [
              "'donald trump sends embarrassing new year eve message disturbing donald trump wish american happy new year leave instead give shout enemy hater dishonest fake news medium former reality show star one job country rapidly grows stronger smarter want wish friend supporter enemy hater even dishonest fake news medium happy healthy new year president angry pant tweeted great year america country rapidly grows stronger smarter want wish friend supporter enemy hater even dishonest fake news medium happy healthy new year great year america donald j trump realdonaldtrump december trump tweet went welll expect kind president sends new year greeting like despicable petty infantile gibberish trump lack decency even allow rise gutter long enough wish american citizen happy new year bishop talbert swan talbertswan december one like calvin calvinstowell december impeachment would make great year america also accept regaining control congress miranda yaver mirandayaver december hear talk include many people hate wonder hate alan sandoval alansandoval december us word hater new year wish marlene marlene december say happy new year koren pollitt korencarpenter december trump new year eve tweet happy new year including many enemy fought lost badly know love donald j trump realdonaldtrump december nothing new trump year trump directed message enemy hater new year easter thanksgiving anniversary pic twitter com fpae kypa daniel dale ddale december trump holiday tweet clearly presidential long work hallmark becoming president steven goodine sgoodine december always like difference last year filter breaking roy schulze thbthttt december apart teenager us term hater wendy wendywhistles december fucking year old know rainyday december people voted hole thinking would change got power wrong year old men change year older photo andrew burton getty image '"
            ]
          },
          "metadata": {},
          "execution_count": 28
        }
      ]
    },
    {
      "cell_type": "code",
      "metadata": {
        "ExecuteTime": {
          "end_time": "2021-10-28T16:30:55.720993Z",
          "start_time": "2021-10-28T16:30:55.683956Z"
        },
        "id": "6a30e867"
      },
      "source": [
        "def text_preprocessing(texts):\n",
        "    text_list = []\n",
        "    for i in range(len(texts)):\n",
        "        text_process = re.sub('[^a-zA-Z]', ' ', texts[i]).lower().split()\n",
        "        text_process = [word for word in text_process if not word in stop_en]\n",
        "        text_process = [lemmatizer.lemmatize(word) for word in text_process]\n",
        "        combined = ''\n",
        "        for text in text_process:\n",
        "            combined = combined + text + ' '\n",
        "        text_list.append(combined)\n",
        "    return text_list"
      ],
      "id": "6a30e867",
      "execution_count": 31,
      "outputs": []
    },
    {
      "cell_type": "code",
      "metadata": {
        "id": "nlD9T0Dj1Lft"
      },
      "source": [
        "df = df.sample(frac=1).reset_index(drop=True)"
      ],
      "id": "nlD9T0Dj1Lft",
      "execution_count": 32,
      "outputs": []
    },
    {
      "cell_type": "code",
      "metadata": {
        "ExecuteTime": {
          "end_time": "2021-10-28T16:31:34.735324Z",
          "start_time": "2021-10-28T16:31:34.667645Z"
        },
        "id": "becf964c"
      },
      "source": [
        "news = df['content'].copy()\n",
        "target = df['label'].copy()"
      ],
      "id": "becf964c",
      "execution_count": 33,
      "outputs": []
    },
    {
      "cell_type": "code",
      "metadata": {
        "ExecuteTime": {
          "start_time": "2021-10-28T16:31:50.443Z"
        },
        "id": "3a1b97e1"
      },
      "source": [
        "news = text_preprocessing(news)"
      ],
      "id": "3a1b97e1",
      "execution_count": 34,
      "outputs": []
    },
    {
      "cell_type": "code",
      "metadata": {
        "ExecuteTime": {
          "start_time": "2021-10-28T16:31:57.061Z"
        },
        "id": "7ed0f0d0"
      },
      "source": [
        "target = target.values"
      ],
      "id": "7ed0f0d0",
      "execution_count": 35,
      "outputs": []
    },
    {
      "cell_type": "code",
      "metadata": {
        "id": "982c4b33"
      },
      "source": [
        "X_train, X_test, y_train, y_test = train_test_split(news, target, test_size=0.2, random_state=0)"
      ],
      "id": "982c4b33",
      "execution_count": 36,
      "outputs": []
    },
    {
      "cell_type": "code",
      "metadata": {
        "id": "vYngazpSzlJi"
      },
      "source": [
        "tokenizer = Tokenizer(num_words=20000, oov_token='-')\n",
        "tokenizer.fit_on_texts(X_train)\n",
        "tokenizer.fit_on_texts(X_test)\n",
        "\n",
        "sequence_train = tokenizer.texts_to_sequences(X_train)\n",
        "sequence_test = tokenizer.texts_to_sequences(X_test)\n",
        "\n",
        "pad_train = pad_sequences(sequence_train)\n",
        "pad_test = pad_sequences(sequence_test)"
      ],
      "id": "vYngazpSzlJi",
      "execution_count": 37,
      "outputs": []
    },
    {
      "cell_type": "code",
      "metadata": {
        "id": "nktk3A-q09cy"
      },
      "source": [
        "reduce_LR = tf.keras.callbacks.ReduceLROnPlateau(\n",
        "    monitor=\"val_loss\",\n",
        "    factor=0.15,\n",
        "    patience=5,\n",
        "    min_lr=2.e-5\n",
        ")\n",
        "\n",
        "stop_early = tf.keras.callbacks.EarlyStopping(\n",
        "    monitor=\"val_loss\",\n",
        "    min_delta=0,\n",
        "    patience=10,\n",
        "    verbose=0,\n",
        "    mode=\"auto\",\n",
        "    baseline=None,\n",
        "    restore_best_weights=True\n",
        ")"
      ],
      "id": "nktk3A-q09cy",
      "execution_count": 38,
      "outputs": []
    },
    {
      "cell_type": "code",
      "metadata": {
        "id": "6ok57Hy-32aU"
      },
      "source": [
        "model = tf.keras.models.Sequential([\n",
        "   tf.keras.layers.Embedding(input_dim=20000, output_dim=64),\n",
        "   tf.keras.layers.Bidirectional(\n",
        "       tf.keras.layers.LSTM(64, return_sequences=True)\n",
        "       ),\n",
        "   tf.keras.layers.Dropout(0.2),\n",
        "   tf.keras.layers.LSTM(32),\n",
        "  #  tf.keras.layers.Bidirectional(\n",
        "  #      tf.keras.layers.LSTM(64)\n",
        "  #      ),\n",
        "   tf.keras.layers.Dense(16, activation='relu'),\n",
        "   tf.keras.layers.Dropout(0.25),\n",
        "   tf.keras.layers.Dense(8, activation='relu'),\n",
        "   tf.keras.layers.Dropout(0.5),\n",
        "   tf.keras.layers.Dense(1, activation='sigmoid')\n",
        "])"
      ],
      "id": "6ok57Hy-32aU",
      "execution_count": 56,
      "outputs": []
    },
    {
      "cell_type": "code",
      "metadata": {
        "colab": {
          "base_uri": "https://localhost:8080/"
        },
        "id": "VjR48r7p34Ib",
        "outputId": "e5b84228-b9d8-45de-925d-531948a67f38"
      },
      "source": [
        "model.summary()"
      ],
      "id": "VjR48r7p34Ib",
      "execution_count": 57,
      "outputs": [
        {
          "output_type": "stream",
          "name": "stdout",
          "text": [
            "Model: \"sequential_4\"\n",
            "_________________________________________________________________\n",
            "Layer (type)                 Output Shape              Param #   \n",
            "=================================================================\n",
            "embedding_8 (Embedding)      (None, None, 64)          1280000   \n",
            "_________________________________________________________________\n",
            "bidirectional_3 (Bidirection (None, None, 128)         66048     \n",
            "_________________________________________________________________\n",
            "dropout_12 (Dropout)         (None, None, 128)         0         \n",
            "_________________________________________________________________\n",
            "lstm_8 (LSTM)                (None, 32)                20608     \n",
            "_________________________________________________________________\n",
            "dense_12 (Dense)             (None, 16)                528       \n",
            "_________________________________________________________________\n",
            "dropout_13 (Dropout)         (None, 16)                0         \n",
            "_________________________________________________________________\n",
            "dense_13 (Dense)             (None, 8)                 136       \n",
            "_________________________________________________________________\n",
            "dropout_14 (Dropout)         (None, 8)                 0         \n",
            "_________________________________________________________________\n",
            "dense_14 (Dense)             (None, 1)                 9         \n",
            "=================================================================\n",
            "Total params: 1,367,329\n",
            "Trainable params: 1,367,329\n",
            "Non-trainable params: 0\n",
            "_________________________________________________________________\n"
          ]
        }
      ]
    },
    {
      "cell_type": "code",
      "metadata": {
        "id": "MM5cuDCn34Nv"
      },
      "source": [
        "model.compile(\n",
        "    optimizer= 'Adam',\n",
        "    loss = 'binary_crossentropy',\n",
        "    metrics = ['accuracy']\n",
        ")"
      ],
      "id": "MM5cuDCn34Nv",
      "execution_count": 59,
      "outputs": []
    },
    {
      "cell_type": "code",
      "metadata": {
        "colab": {
          "base_uri": "https://localhost:8080/",
          "height": 391
        },
        "id": "sQWq91pK34Q7",
        "outputId": "ae8e15f6-1d41-48ad-a115-23c71f54d449"
      },
      "source": [
        "history = model.fit(\n",
        "    pad_train,\n",
        "    y_train,\n",
        "    epochs = 10,\n",
        "    batch_size = 64,\n",
        "    #callbacks = [reduce_LR, stop_early],\n",
        "    validation_data = (pad_test, y_test),\n",
        "    verbose = 1\n",
        ")"
      ],
      "id": "sQWq91pK34Q7",
      "execution_count": 60,
      "outputs": [
        {
          "output_type": "stream",
          "name": "stdout",
          "text": [
            "Epoch 1/10\n",
            "350/562 [=================>............] - ETA: 4:48 - loss: 0.2593 - accuracy: 0.8915"
          ]
        },
        {
          "output_type": "error",
          "ename": "KeyboardInterrupt",
          "evalue": "ignored",
          "traceback": [
            "\u001b[0;31m---------------------------------------------------------------------------\u001b[0m",
            "\u001b[0;31mKeyboardInterrupt\u001b[0m                         Traceback (most recent call last)",
            "\u001b[0;32m<ipython-input-60-afb2485dbbda>\u001b[0m in \u001b[0;36m<module>\u001b[0;34m()\u001b[0m\n\u001b[1;32m      6\u001b[0m     \u001b[0;31m#callbacks = [reduce_LR, stop_early],\u001b[0m\u001b[0;34m\u001b[0m\u001b[0;34m\u001b[0m\u001b[0;34m\u001b[0m\u001b[0m\n\u001b[1;32m      7\u001b[0m     \u001b[0mvalidation_data\u001b[0m \u001b[0;34m=\u001b[0m \u001b[0;34m(\u001b[0m\u001b[0mpad_test\u001b[0m\u001b[0;34m,\u001b[0m \u001b[0my_test\u001b[0m\u001b[0;34m)\u001b[0m\u001b[0;34m,\u001b[0m\u001b[0;34m\u001b[0m\u001b[0;34m\u001b[0m\u001b[0m\n\u001b[0;32m----> 8\u001b[0;31m     \u001b[0mverbose\u001b[0m \u001b[0;34m=\u001b[0m \u001b[0;36m1\u001b[0m\u001b[0;34m\u001b[0m\u001b[0;34m\u001b[0m\u001b[0m\n\u001b[0m\u001b[1;32m      9\u001b[0m )\n",
            "\u001b[0;32m/usr/local/lib/python3.7/dist-packages/keras/engine/training.py\u001b[0m in \u001b[0;36mfit\u001b[0;34m(self, x, y, batch_size, epochs, verbose, callbacks, validation_split, validation_data, shuffle, class_weight, sample_weight, initial_epoch, steps_per_epoch, validation_steps, validation_batch_size, validation_freq, max_queue_size, workers, use_multiprocessing)\u001b[0m\n\u001b[1;32m   1182\u001b[0m                 _r=1):\n\u001b[1;32m   1183\u001b[0m               \u001b[0mcallbacks\u001b[0m\u001b[0;34m.\u001b[0m\u001b[0mon_train_batch_begin\u001b[0m\u001b[0;34m(\u001b[0m\u001b[0mstep\u001b[0m\u001b[0;34m)\u001b[0m\u001b[0;34m\u001b[0m\u001b[0;34m\u001b[0m\u001b[0m\n\u001b[0;32m-> 1184\u001b[0;31m               \u001b[0mtmp_logs\u001b[0m \u001b[0;34m=\u001b[0m \u001b[0mself\u001b[0m\u001b[0;34m.\u001b[0m\u001b[0mtrain_function\u001b[0m\u001b[0;34m(\u001b[0m\u001b[0miterator\u001b[0m\u001b[0;34m)\u001b[0m\u001b[0;34m\u001b[0m\u001b[0;34m\u001b[0m\u001b[0m\n\u001b[0m\u001b[1;32m   1185\u001b[0m               \u001b[0;32mif\u001b[0m \u001b[0mdata_handler\u001b[0m\u001b[0;34m.\u001b[0m\u001b[0mshould_sync\u001b[0m\u001b[0;34m:\u001b[0m\u001b[0;34m\u001b[0m\u001b[0;34m\u001b[0m\u001b[0m\n\u001b[1;32m   1186\u001b[0m                 \u001b[0mcontext\u001b[0m\u001b[0;34m.\u001b[0m\u001b[0masync_wait\u001b[0m\u001b[0;34m(\u001b[0m\u001b[0;34m)\u001b[0m\u001b[0;34m\u001b[0m\u001b[0;34m\u001b[0m\u001b[0m\n",
            "\u001b[0;32m/usr/local/lib/python3.7/dist-packages/tensorflow/python/eager/def_function.py\u001b[0m in \u001b[0;36m__call__\u001b[0;34m(self, *args, **kwds)\u001b[0m\n\u001b[1;32m    883\u001b[0m \u001b[0;34m\u001b[0m\u001b[0m\n\u001b[1;32m    884\u001b[0m       \u001b[0;32mwith\u001b[0m \u001b[0mOptionalXlaContext\u001b[0m\u001b[0;34m(\u001b[0m\u001b[0mself\u001b[0m\u001b[0;34m.\u001b[0m\u001b[0m_jit_compile\u001b[0m\u001b[0;34m)\u001b[0m\u001b[0;34m:\u001b[0m\u001b[0;34m\u001b[0m\u001b[0;34m\u001b[0m\u001b[0m\n\u001b[0;32m--> 885\u001b[0;31m         \u001b[0mresult\u001b[0m \u001b[0;34m=\u001b[0m \u001b[0mself\u001b[0m\u001b[0;34m.\u001b[0m\u001b[0m_call\u001b[0m\u001b[0;34m(\u001b[0m\u001b[0;34m*\u001b[0m\u001b[0margs\u001b[0m\u001b[0;34m,\u001b[0m \u001b[0;34m**\u001b[0m\u001b[0mkwds\u001b[0m\u001b[0;34m)\u001b[0m\u001b[0;34m\u001b[0m\u001b[0;34m\u001b[0m\u001b[0m\n\u001b[0m\u001b[1;32m    886\u001b[0m \u001b[0;34m\u001b[0m\u001b[0m\n\u001b[1;32m    887\u001b[0m       \u001b[0mnew_tracing_count\u001b[0m \u001b[0;34m=\u001b[0m \u001b[0mself\u001b[0m\u001b[0;34m.\u001b[0m\u001b[0mexperimental_get_tracing_count\u001b[0m\u001b[0;34m(\u001b[0m\u001b[0;34m)\u001b[0m\u001b[0;34m\u001b[0m\u001b[0;34m\u001b[0m\u001b[0m\n",
            "\u001b[0;32m/usr/local/lib/python3.7/dist-packages/tensorflow/python/eager/def_function.py\u001b[0m in \u001b[0;36m_call\u001b[0;34m(self, *args, **kwds)\u001b[0m\n\u001b[1;32m    915\u001b[0m       \u001b[0;31m# In this case we have created variables on the first call, so we run the\u001b[0m\u001b[0;34m\u001b[0m\u001b[0;34m\u001b[0m\u001b[0;34m\u001b[0m\u001b[0m\n\u001b[1;32m    916\u001b[0m       \u001b[0;31m# defunned version which is guaranteed to never create variables.\u001b[0m\u001b[0;34m\u001b[0m\u001b[0;34m\u001b[0m\u001b[0;34m\u001b[0m\u001b[0m\n\u001b[0;32m--> 917\u001b[0;31m       \u001b[0;32mreturn\u001b[0m \u001b[0mself\u001b[0m\u001b[0;34m.\u001b[0m\u001b[0m_stateless_fn\u001b[0m\u001b[0;34m(\u001b[0m\u001b[0;34m*\u001b[0m\u001b[0margs\u001b[0m\u001b[0;34m,\u001b[0m \u001b[0;34m**\u001b[0m\u001b[0mkwds\u001b[0m\u001b[0;34m)\u001b[0m  \u001b[0;31m# pylint: disable=not-callable\u001b[0m\u001b[0;34m\u001b[0m\u001b[0;34m\u001b[0m\u001b[0m\n\u001b[0m\u001b[1;32m    918\u001b[0m     \u001b[0;32melif\u001b[0m \u001b[0mself\u001b[0m\u001b[0;34m.\u001b[0m\u001b[0m_stateful_fn\u001b[0m \u001b[0;32mis\u001b[0m \u001b[0;32mnot\u001b[0m \u001b[0;32mNone\u001b[0m\u001b[0;34m:\u001b[0m\u001b[0;34m\u001b[0m\u001b[0;34m\u001b[0m\u001b[0m\n\u001b[1;32m    919\u001b[0m       \u001b[0;31m# Release the lock early so that multiple threads can perform the call\u001b[0m\u001b[0;34m\u001b[0m\u001b[0;34m\u001b[0m\u001b[0;34m\u001b[0m\u001b[0m\n",
            "\u001b[0;32m/usr/local/lib/python3.7/dist-packages/tensorflow/python/eager/function.py\u001b[0m in \u001b[0;36m__call__\u001b[0;34m(self, *args, **kwargs)\u001b[0m\n\u001b[1;32m   3038\u001b[0m        filtered_flat_args) = self._maybe_define_function(args, kwargs)\n\u001b[1;32m   3039\u001b[0m     return graph_function._call_flat(\n\u001b[0;32m-> 3040\u001b[0;31m         filtered_flat_args, captured_inputs=graph_function.captured_inputs)  # pylint: disable=protected-access\n\u001b[0m\u001b[1;32m   3041\u001b[0m \u001b[0;34m\u001b[0m\u001b[0m\n\u001b[1;32m   3042\u001b[0m   \u001b[0;34m@\u001b[0m\u001b[0mproperty\u001b[0m\u001b[0;34m\u001b[0m\u001b[0;34m\u001b[0m\u001b[0m\n",
            "\u001b[0;32m/usr/local/lib/python3.7/dist-packages/tensorflow/python/eager/function.py\u001b[0m in \u001b[0;36m_call_flat\u001b[0;34m(self, args, captured_inputs, cancellation_manager)\u001b[0m\n\u001b[1;32m   1962\u001b[0m       \u001b[0;31m# No tape is watching; skip to running the function.\u001b[0m\u001b[0;34m\u001b[0m\u001b[0;34m\u001b[0m\u001b[0;34m\u001b[0m\u001b[0m\n\u001b[1;32m   1963\u001b[0m       return self._build_call_outputs(self._inference_function.call(\n\u001b[0;32m-> 1964\u001b[0;31m           ctx, args, cancellation_manager=cancellation_manager))\n\u001b[0m\u001b[1;32m   1965\u001b[0m     forward_backward = self._select_forward_and_backward_functions(\n\u001b[1;32m   1966\u001b[0m         \u001b[0margs\u001b[0m\u001b[0;34m,\u001b[0m\u001b[0;34m\u001b[0m\u001b[0;34m\u001b[0m\u001b[0m\n",
            "\u001b[0;32m/usr/local/lib/python3.7/dist-packages/tensorflow/python/eager/function.py\u001b[0m in \u001b[0;36mcall\u001b[0;34m(self, ctx, args, cancellation_manager)\u001b[0m\n\u001b[1;32m    594\u001b[0m               \u001b[0minputs\u001b[0m\u001b[0;34m=\u001b[0m\u001b[0margs\u001b[0m\u001b[0;34m,\u001b[0m\u001b[0;34m\u001b[0m\u001b[0;34m\u001b[0m\u001b[0m\n\u001b[1;32m    595\u001b[0m               \u001b[0mattrs\u001b[0m\u001b[0;34m=\u001b[0m\u001b[0mattrs\u001b[0m\u001b[0;34m,\u001b[0m\u001b[0;34m\u001b[0m\u001b[0;34m\u001b[0m\u001b[0m\n\u001b[0;32m--> 596\u001b[0;31m               ctx=ctx)\n\u001b[0m\u001b[1;32m    597\u001b[0m         \u001b[0;32melse\u001b[0m\u001b[0;34m:\u001b[0m\u001b[0;34m\u001b[0m\u001b[0;34m\u001b[0m\u001b[0m\n\u001b[1;32m    598\u001b[0m           outputs = execute.execute_with_cancellation(\n",
            "\u001b[0;32m/usr/local/lib/python3.7/dist-packages/tensorflow/python/eager/execute.py\u001b[0m in \u001b[0;36mquick_execute\u001b[0;34m(op_name, num_outputs, inputs, attrs, ctx, name)\u001b[0m\n\u001b[1;32m     58\u001b[0m     \u001b[0mctx\u001b[0m\u001b[0;34m.\u001b[0m\u001b[0mensure_initialized\u001b[0m\u001b[0;34m(\u001b[0m\u001b[0;34m)\u001b[0m\u001b[0;34m\u001b[0m\u001b[0;34m\u001b[0m\u001b[0m\n\u001b[1;32m     59\u001b[0m     tensors = pywrap_tfe.TFE_Py_Execute(ctx._handle, device_name, op_name,\n\u001b[0;32m---> 60\u001b[0;31m                                         inputs, attrs, num_outputs)\n\u001b[0m\u001b[1;32m     61\u001b[0m   \u001b[0;32mexcept\u001b[0m \u001b[0mcore\u001b[0m\u001b[0;34m.\u001b[0m\u001b[0m_NotOkStatusException\u001b[0m \u001b[0;32mas\u001b[0m \u001b[0me\u001b[0m\u001b[0;34m:\u001b[0m\u001b[0;34m\u001b[0m\u001b[0;34m\u001b[0m\u001b[0m\n\u001b[1;32m     62\u001b[0m     \u001b[0;32mif\u001b[0m \u001b[0mname\u001b[0m \u001b[0;32mis\u001b[0m \u001b[0;32mnot\u001b[0m \u001b[0;32mNone\u001b[0m\u001b[0;34m:\u001b[0m\u001b[0;34m\u001b[0m\u001b[0;34m\u001b[0m\u001b[0m\n",
            "\u001b[0;31mKeyboardInterrupt\u001b[0m: "
          ]
        }
      ]
    },
    {
      "cell_type": "code",
      "metadata": {
        "id": "TO98SnSL5VA0"
      },
      "source": [
        "model.save('model.h5')"
      ],
      "id": "TO98SnSL5VA0",
      "execution_count": null,
      "outputs": []
    }
  ]
}