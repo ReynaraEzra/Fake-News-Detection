{
 "cells": [
  {
   "cell_type": "markdown",
   "id": "6d141687",
   "metadata": {},
   "source": [
    "# Fake News Detection Using Bidirectional LSTM\n",
    "## Reynara Ezra Pratama"
   ]
  },
  {
   "cell_type": "markdown",
   "id": "c4a54063",
   "metadata": {},
   "source": [
    "## Introduction"
   ]
  },
  {
   "cell_type": "markdown",
   "id": "9596d7e4",
   "metadata": {},
   "source": [
    "## Learning Objective\n",
    "\n",
    "1. Mengetahui konsep dan cara kerja dari Bidirectional LSTM (BiLSTM)\n",
    "2. Implementasi BiLSTM pada permasalahan nyata"
   ]
  },
  {
   "cell_type": "markdown",
   "id": "289fcc4d",
   "metadata": {},
   "source": [
    "## LSTM vs BiLSTM"
   ]
  },
  {
   "cell_type": "markdown",
   "id": "13ffcd3c",
   "metadata": {},
   "source": [
    "## Case Example Using BiLSTM"
   ]
  },
  {
   "cell_type": "markdown",
   "id": "adbd58de",
   "metadata": {},
   "source": [
    "### Background"
   ]
  },
  {
   "cell_type": "markdown",
   "id": "889d5cd0",
   "metadata": {},
   "source": []
  },
  {
   "cell_type": "markdown",
   "id": "3eb0fd30",
   "metadata": {},
   "source": [
    "### Business Understanding"
   ]
  },
  {
   "cell_type": "markdown",
   "id": "d49dc035",
   "metadata": {},
   "source": []
  },
  {
   "cell_type": "markdown",
   "id": "4d4c3c95",
   "metadata": {},
   "source": [
    "### Data Understanding"
   ]
  },
  {
   "cell_type": "markdown",
   "id": "63873cd1",
   "metadata": {},
   "source": [
    "Terdapat dua buah dataset yang kita gunakan yaitu `Fake.csv` dan `True.csv`. Dataset `Fake.csv` berisi kumpulan berita yang terindikasi *fake* atau hoax sementara dataset `True.csv` berisi kumpulan berita yang faktanya adalah benar.\n",
    "\n",
    "Terdapat 4 buah kolom pada kedua dataset yaitu `title`, `text`, `subject`, `date`.\n",
    "1. `title` : Judul berita \n",
    "2. `text` : Isi konten dari berita yang ada\n",
    "3. `subject` : Subjek dari artikel berita\n",
    "4. `date` : Tanggal artikel diterbitkan"
   ]
  },
  {
   "cell_type": "markdown",
   "id": "d24f1904",
   "metadata": {},
   "source": [
    "### Import Library"
   ]
  },
  {
   "cell_type": "code",
   "execution_count": 87,
   "id": "0b8480c5",
   "metadata": {
    "ExecuteTime": {
     "end_time": "2021-10-28T16:20:10.327644Z",
     "start_time": "2021-10-28T16:20:01.719184Z"
    }
   },
   "outputs": [
    {
     "name": "stderr",
     "output_type": "stream",
     "text": [
      "[nltk_data] Downloading package stopwords to\n",
      "[nltk_data]     C:\\Users\\Admin\\AppData\\Roaming\\nltk_data...\n",
      "[nltk_data]   Package stopwords is already up-to-date!\n",
      "[nltk_data] Downloading package wordnet to\n",
      "[nltk_data]     C:\\Users\\Admin\\AppData\\Roaming\\nltk_data...\n",
      "[nltk_data]   Unzipping corpora\\wordnet.zip.\n"
     ]
    }
   ],
   "source": [
    "import pandas as pd\n",
    "import numpy as np\n",
    "import matplotlib.pyplot as plt\n",
    "import seaborn as sns\n",
    "sns.set_theme()\n",
    "\n",
    "from sklearn.preprocessing import OneHotEncoder\n",
    "from sklearn.preprocessing import LabelEncoder\n",
    "from sklearn.model_selection import train_test_split\n",
    "from sklearn.metrics import confusion_matrix\n",
    "from sklearn.metrics import accuracy_score\n",
    "#from imblearn.over_sampling import RandomOverSampler\n",
    "\n",
    "import tensorflow as tf\n",
    "import nltk\n",
    "import re\n",
    "\n",
    "from tensorflow.keras.preprocessing.text import Tokenizer\n",
    "from tensorflow.keras.preprocessing.sequence import pad_sequences\n",
    "\n",
    "from nltk.corpus import stopwords\n",
    "from nltk.stem.porter import PorterStemmer\n",
    "from nltk.stem import WordNetLemmatizer\n",
    "nltk.download('stopwords')\n",
    "nltk.download('wordnet')\n",
    "\n",
    "import warnings \n",
    "warnings.filterwarnings('ignore')"
   ]
  },
  {
   "cell_type": "markdown",
   "id": "c9629898",
   "metadata": {},
   "source": [
    "### Loading Dataset"
   ]
  },
  {
   "cell_type": "markdown",
   "id": "b3b60370",
   "metadata": {},
   "source": [
    "**Load Data From Github**"
   ]
  },
  {
   "cell_type": "code",
   "execution_count": null,
   "id": "478bfcc3",
   "metadata": {},
   "outputs": [],
   "source": [
    "# url_fake = 'https://raw.githubusercontent.com/ReynaraEzra/Fake-News-Detection/main/data_input/Fake.csv'\n",
    "# url_true = 'https://raw.githubusercontent.com/ReynaraEzra/Fake-News-Detection/main/data_input/True.csv'\n",
    "# fake = pd.read_csv(url_fake)\n",
    "# true = pd.read_csv(url_true)"
   ]
  },
  {
   "cell_type": "markdown",
   "id": "8557cecc",
   "metadata": {},
   "source": [
    "**Load Data From Local File**"
   ]
  },
  {
   "cell_type": "code",
   "execution_count": 14,
   "id": "eeb76eb4",
   "metadata": {
    "ExecuteTime": {
     "end_time": "2021-10-28T12:43:26.279432Z",
     "start_time": "2021-10-28T12:43:24.504865Z"
    }
   },
   "outputs": [],
   "source": [
    "fake = pd.read_csv('data_input/Fake.csv')\n",
    "true = pd.read_csv('data_input/True.csv')"
   ]
  },
  {
   "cell_type": "markdown",
   "id": "ebac2f62",
   "metadata": {},
   "source": [
    "### Checking Dataset"
   ]
  },
  {
   "cell_type": "code",
   "execution_count": 15,
   "id": "bb8801b4",
   "metadata": {
    "ExecuteTime": {
     "end_time": "2021-10-28T12:43:33.305082Z",
     "start_time": "2021-10-28T12:43:33.160079Z"
    }
   },
   "outputs": [
    {
     "data": {
      "text/html": [
       "<div>\n",
       "<style scoped>\n",
       "    .dataframe tbody tr th:only-of-type {\n",
       "        vertical-align: middle;\n",
       "    }\n",
       "\n",
       "    .dataframe tbody tr th {\n",
       "        vertical-align: top;\n",
       "    }\n",
       "\n",
       "    .dataframe thead th {\n",
       "        text-align: right;\n",
       "    }\n",
       "</style>\n",
       "<table border=\"1\" class=\"dataframe\">\n",
       "  <thead>\n",
       "    <tr style=\"text-align: right;\">\n",
       "      <th></th>\n",
       "      <th>title</th>\n",
       "      <th>text</th>\n",
       "      <th>subject</th>\n",
       "      <th>date</th>\n",
       "    </tr>\n",
       "  </thead>\n",
       "  <tbody>\n",
       "    <tr>\n",
       "      <th>0</th>\n",
       "      <td>Donald Trump Sends Out Embarrassing New Year’...</td>\n",
       "      <td>Donald Trump just couldn t wish all Americans ...</td>\n",
       "      <td>News</td>\n",
       "      <td>December 31, 2017</td>\n",
       "    </tr>\n",
       "    <tr>\n",
       "      <th>1</th>\n",
       "      <td>Drunk Bragging Trump Staffer Started Russian ...</td>\n",
       "      <td>House Intelligence Committee Chairman Devin Nu...</td>\n",
       "      <td>News</td>\n",
       "      <td>December 31, 2017</td>\n",
       "    </tr>\n",
       "    <tr>\n",
       "      <th>2</th>\n",
       "      <td>Sheriff David Clarke Becomes An Internet Joke...</td>\n",
       "      <td>On Friday, it was revealed that former Milwauk...</td>\n",
       "      <td>News</td>\n",
       "      <td>December 30, 2017</td>\n",
       "    </tr>\n",
       "    <tr>\n",
       "      <th>3</th>\n",
       "      <td>Trump Is So Obsessed He Even Has Obama’s Name...</td>\n",
       "      <td>On Christmas day, Donald Trump announced that ...</td>\n",
       "      <td>News</td>\n",
       "      <td>December 29, 2017</td>\n",
       "    </tr>\n",
       "    <tr>\n",
       "      <th>4</th>\n",
       "      <td>Pope Francis Just Called Out Donald Trump Dur...</td>\n",
       "      <td>Pope Francis used his annual Christmas Day mes...</td>\n",
       "      <td>News</td>\n",
       "      <td>December 25, 2017</td>\n",
       "    </tr>\n",
       "  </tbody>\n",
       "</table>\n",
       "</div>"
      ],
      "text/plain": [
       "                                               title  \\\n",
       "0   Donald Trump Sends Out Embarrassing New Year’...   \n",
       "1   Drunk Bragging Trump Staffer Started Russian ...   \n",
       "2   Sheriff David Clarke Becomes An Internet Joke...   \n",
       "3   Trump Is So Obsessed He Even Has Obama’s Name...   \n",
       "4   Pope Francis Just Called Out Donald Trump Dur...   \n",
       "\n",
       "                                                text subject  \\\n",
       "0  Donald Trump just couldn t wish all Americans ...    News   \n",
       "1  House Intelligence Committee Chairman Devin Nu...    News   \n",
       "2  On Friday, it was revealed that former Milwauk...    News   \n",
       "3  On Christmas day, Donald Trump announced that ...    News   \n",
       "4  Pope Francis used his annual Christmas Day mes...    News   \n",
       "\n",
       "                date  \n",
       "0  December 31, 2017  \n",
       "1  December 31, 2017  \n",
       "2  December 30, 2017  \n",
       "3  December 29, 2017  \n",
       "4  December 25, 2017  "
      ]
     },
     "execution_count": 15,
     "metadata": {},
     "output_type": "execute_result"
    }
   ],
   "source": [
    "fake.head()"
   ]
  },
  {
   "cell_type": "code",
   "execution_count": 16,
   "id": "b2f0c0a7",
   "metadata": {
    "ExecuteTime": {
     "end_time": "2021-10-28T12:43:38.703968Z",
     "start_time": "2021-10-28T12:43:38.692438Z"
    }
   },
   "outputs": [
    {
     "data": {
      "text/html": [
       "<div>\n",
       "<style scoped>\n",
       "    .dataframe tbody tr th:only-of-type {\n",
       "        vertical-align: middle;\n",
       "    }\n",
       "\n",
       "    .dataframe tbody tr th {\n",
       "        vertical-align: top;\n",
       "    }\n",
       "\n",
       "    .dataframe thead th {\n",
       "        text-align: right;\n",
       "    }\n",
       "</style>\n",
       "<table border=\"1\" class=\"dataframe\">\n",
       "  <thead>\n",
       "    <tr style=\"text-align: right;\">\n",
       "      <th></th>\n",
       "      <th>title</th>\n",
       "      <th>text</th>\n",
       "      <th>subject</th>\n",
       "      <th>date</th>\n",
       "    </tr>\n",
       "  </thead>\n",
       "  <tbody>\n",
       "    <tr>\n",
       "      <th>0</th>\n",
       "      <td>As U.S. budget fight looms, Republicans flip t...</td>\n",
       "      <td>WASHINGTON (Reuters) - The head of a conservat...</td>\n",
       "      <td>politicsNews</td>\n",
       "      <td>December 31, 2017</td>\n",
       "    </tr>\n",
       "    <tr>\n",
       "      <th>1</th>\n",
       "      <td>U.S. military to accept transgender recruits o...</td>\n",
       "      <td>WASHINGTON (Reuters) - Transgender people will...</td>\n",
       "      <td>politicsNews</td>\n",
       "      <td>December 29, 2017</td>\n",
       "    </tr>\n",
       "    <tr>\n",
       "      <th>2</th>\n",
       "      <td>Senior U.S. Republican senator: 'Let Mr. Muell...</td>\n",
       "      <td>WASHINGTON (Reuters) - The special counsel inv...</td>\n",
       "      <td>politicsNews</td>\n",
       "      <td>December 31, 2017</td>\n",
       "    </tr>\n",
       "    <tr>\n",
       "      <th>3</th>\n",
       "      <td>FBI Russia probe helped by Australian diplomat...</td>\n",
       "      <td>WASHINGTON (Reuters) - Trump campaign adviser ...</td>\n",
       "      <td>politicsNews</td>\n",
       "      <td>December 30, 2017</td>\n",
       "    </tr>\n",
       "    <tr>\n",
       "      <th>4</th>\n",
       "      <td>Trump wants Postal Service to charge 'much mor...</td>\n",
       "      <td>SEATTLE/WASHINGTON (Reuters) - President Donal...</td>\n",
       "      <td>politicsNews</td>\n",
       "      <td>December 29, 2017</td>\n",
       "    </tr>\n",
       "  </tbody>\n",
       "</table>\n",
       "</div>"
      ],
      "text/plain": [
       "                                               title  \\\n",
       "0  As U.S. budget fight looms, Republicans flip t...   \n",
       "1  U.S. military to accept transgender recruits o...   \n",
       "2  Senior U.S. Republican senator: 'Let Mr. Muell...   \n",
       "3  FBI Russia probe helped by Australian diplomat...   \n",
       "4  Trump wants Postal Service to charge 'much mor...   \n",
       "\n",
       "                                                text       subject  \\\n",
       "0  WASHINGTON (Reuters) - The head of a conservat...  politicsNews   \n",
       "1  WASHINGTON (Reuters) - Transgender people will...  politicsNews   \n",
       "2  WASHINGTON (Reuters) - The special counsel inv...  politicsNews   \n",
       "3  WASHINGTON (Reuters) - Trump campaign adviser ...  politicsNews   \n",
       "4  SEATTLE/WASHINGTON (Reuters) - President Donal...  politicsNews   \n",
       "\n",
       "                 date  \n",
       "0  December 31, 2017   \n",
       "1  December 29, 2017   \n",
       "2  December 31, 2017   \n",
       "3  December 30, 2017   \n",
       "4  December 29, 2017   "
      ]
     },
     "execution_count": 16,
     "metadata": {},
     "output_type": "execute_result"
    }
   ],
   "source": [
    "true.head()"
   ]
  },
  {
   "cell_type": "code",
   "execution_count": 48,
   "id": "06ec7693",
   "metadata": {
    "ExecuteTime": {
     "end_time": "2021-10-28T16:12:45.760982Z",
     "start_time": "2021-10-28T16:12:45.682058Z"
    }
   },
   "outputs": [
    {
     "data": {
      "text/html": [
       "<div>\n",
       "<style scoped>\n",
       "    .dataframe tbody tr th:only-of-type {\n",
       "        vertical-align: middle;\n",
       "    }\n",
       "\n",
       "    .dataframe tbody tr th {\n",
       "        vertical-align: top;\n",
       "    }\n",
       "\n",
       "    .dataframe thead th {\n",
       "        text-align: right;\n",
       "    }\n",
       "</style>\n",
       "<table border=\"1\" class=\"dataframe\">\n",
       "  <thead>\n",
       "    <tr style=\"text-align: right;\">\n",
       "      <th></th>\n",
       "      <th>title</th>\n",
       "      <th>text</th>\n",
       "      <th>subject</th>\n",
       "      <th>date</th>\n",
       "      <th>label</th>\n",
       "    </tr>\n",
       "  </thead>\n",
       "  <tbody>\n",
       "    <tr>\n",
       "      <th>0</th>\n",
       "      <td>Donald Trump Sends Out Embarrassing New Year’...</td>\n",
       "      <td>Donald Trump just couldn t wish all Americans ...</td>\n",
       "      <td>News</td>\n",
       "      <td>December 31, 2017</td>\n",
       "      <td>1</td>\n",
       "    </tr>\n",
       "    <tr>\n",
       "      <th>1</th>\n",
       "      <td>Drunk Bragging Trump Staffer Started Russian ...</td>\n",
       "      <td>House Intelligence Committee Chairman Devin Nu...</td>\n",
       "      <td>News</td>\n",
       "      <td>December 31, 2017</td>\n",
       "      <td>1</td>\n",
       "    </tr>\n",
       "    <tr>\n",
       "      <th>2</th>\n",
       "      <td>Sheriff David Clarke Becomes An Internet Joke...</td>\n",
       "      <td>On Friday, it was revealed that former Milwauk...</td>\n",
       "      <td>News</td>\n",
       "      <td>December 30, 2017</td>\n",
       "      <td>1</td>\n",
       "    </tr>\n",
       "    <tr>\n",
       "      <th>3</th>\n",
       "      <td>Trump Is So Obsessed He Even Has Obama’s Name...</td>\n",
       "      <td>On Christmas day, Donald Trump announced that ...</td>\n",
       "      <td>News</td>\n",
       "      <td>December 29, 2017</td>\n",
       "      <td>1</td>\n",
       "    </tr>\n",
       "    <tr>\n",
       "      <th>4</th>\n",
       "      <td>Pope Francis Just Called Out Donald Trump Dur...</td>\n",
       "      <td>Pope Francis used his annual Christmas Day mes...</td>\n",
       "      <td>News</td>\n",
       "      <td>December 25, 2017</td>\n",
       "      <td>1</td>\n",
       "    </tr>\n",
       "  </tbody>\n",
       "</table>\n",
       "</div>"
      ],
      "text/plain": [
       "                                               title  \\\n",
       "0   Donald Trump Sends Out Embarrassing New Year’...   \n",
       "1   Drunk Bragging Trump Staffer Started Russian ...   \n",
       "2   Sheriff David Clarke Becomes An Internet Joke...   \n",
       "3   Trump Is So Obsessed He Even Has Obama’s Name...   \n",
       "4   Pope Francis Just Called Out Donald Trump Dur...   \n",
       "\n",
       "                                                text subject  \\\n",
       "0  Donald Trump just couldn t wish all Americans ...    News   \n",
       "1  House Intelligence Committee Chairman Devin Nu...    News   \n",
       "2  On Friday, it was revealed that former Milwauk...    News   \n",
       "3  On Christmas day, Donald Trump announced that ...    News   \n",
       "4  Pope Francis used his annual Christmas Day mes...    News   \n",
       "\n",
       "                date  label  \n",
       "0  December 31, 2017      1  \n",
       "1  December 31, 2017      1  \n",
       "2  December 30, 2017      1  \n",
       "3  December 29, 2017      1  \n",
       "4  December 25, 2017      1  "
      ]
     },
     "execution_count": 48,
     "metadata": {},
     "output_type": "execute_result"
    }
   ],
   "source": [
    "fake['label'] = 1\n",
    "true['label'] = 0\n",
    "data = pd.concat([fake, true])\n",
    "data = data.reset_index(drop=True)\n",
    "data.head()"
   ]
  },
  {
   "cell_type": "code",
   "execution_count": 49,
   "id": "aac20bb4",
   "metadata": {
    "ExecuteTime": {
     "end_time": "2021-10-28T16:12:47.252764Z",
     "start_time": "2021-10-28T16:12:47.224223Z"
    }
   },
   "outputs": [
    {
     "name": "stdout",
     "output_type": "stream",
     "text": [
      "<class 'pandas.core.frame.DataFrame'>\n",
      "RangeIndex: 44898 entries, 0 to 44897\n",
      "Data columns (total 5 columns):\n",
      " #   Column   Non-Null Count  Dtype \n",
      "---  ------   --------------  ----- \n",
      " 0   title    44898 non-null  object\n",
      " 1   text     44898 non-null  object\n",
      " 2   subject  44898 non-null  object\n",
      " 3   date     44898 non-null  object\n",
      " 4   label    44898 non-null  int64 \n",
      "dtypes: int64(1), object(4)\n",
      "memory usage: 1.7+ MB\n"
     ]
    }
   ],
   "source": [
    "data.info()"
   ]
  },
  {
   "cell_type": "markdown",
   "id": "c258b201",
   "metadata": {},
   "source": [
    "Terlihat bahwa terdapat 44898 artikel yang ada pada `data` dengan total 5 buah kolom yang terdiri atas 1 kolom bertipe *integer* dan 4 kolom bertipe *object*."
   ]
  },
  {
   "cell_type": "code",
   "execution_count": 50,
   "id": "8aac8449",
   "metadata": {
    "ExecuteTime": {
     "end_time": "2021-10-28T16:12:49.531635Z",
     "start_time": "2021-10-28T16:12:49.526118Z"
    }
   },
   "outputs": [],
   "source": [
    "def make_count_plot(data, xlabel, size_x, size_y):\n",
    "    plt.figure(figsize=(size_x, size_y))\n",
    "    p = sns.countplot(data)\n",
    "    plt.xlabel(xlabel, fontsize=12)\n",
    "    p.set_xticklabels(['True News', 'Fake News'])\n",
    "    plt.ylabel('Frequency', fontsize=12)\n",
    "    plt.title(f'Number of Article Based on {xlabel}', fontsize=15)\n",
    "    plt.show()"
   ]
  },
  {
   "cell_type": "code",
   "execution_count": 51,
   "id": "2a3a967b",
   "metadata": {
    "ExecuteTime": {
     "end_time": "2021-10-28T16:12:50.333389Z",
     "start_time": "2021-10-28T16:12:50.201121Z"
    }
   },
   "outputs": [
    {
     "data": {
      "image/png": "[encoded data removed]",
      "text/plain": [
       "<Figure size 432x432 with 1 Axes>"
      ]
     },
     "metadata": {},
     "output_type": "display_data"
    },
    {
     "name": "stdout",
     "output_type": "stream",
     "text": [
      "Jumlah Artikel yang dikategorikan Fake News : 23481\n",
      "Jumlah Artikel yang dikategorikan True News : 21417\n"
     ]
    }
   ],
   "source": [
    "make_count_plot(data['label'], 'Label', 6, 6)\n",
    "print(f\"Jumlah Artikel yang dikategorikan Fake News : {data[data['label']==1].shape[0]}\")\n",
    "print(f\"Jumlah Artikel yang dikategorikan True News : {data[data['label']==0].shape[0]}\")"
   ]
  },
  {
   "cell_type": "markdown",
   "id": "444c63e4",
   "metadata": {},
   "source": [
    "Jumlah artikel yang dikategorikan ke dalam *Fake News* dan *True News* sudah seimbang, maka tidak perlu dilakukan proses *downsampling* atau *upsampling* pada data."
   ]
  },
  {
   "cell_type": "code",
   "execution_count": 62,
   "id": "3b4fb42c",
   "metadata": {
    "ExecuteTime": {
     "end_time": "2021-10-28T16:14:17.197917Z",
     "start_time": "2021-10-28T16:14:17.182876Z"
    }
   },
   "outputs": [],
   "source": [
    "df = data.drop(['subject', 'date'], axis=1)"
   ]
  },
  {
   "cell_type": "code",
   "execution_count": 63,
   "id": "5a30cd7d",
   "metadata": {
    "ExecuteTime": {
     "end_time": "2021-10-28T16:14:17.628645Z",
     "start_time": "2021-10-28T16:14:17.619158Z"
    }
   },
   "outputs": [
    {
     "data": {
      "text/html": [
       "<div>\n",
       "<style scoped>\n",
       "    .dataframe tbody tr th:only-of-type {\n",
       "        vertical-align: middle;\n",
       "    }\n",
       "\n",
       "    .dataframe tbody tr th {\n",
       "        vertical-align: top;\n",
       "    }\n",
       "\n",
       "    .dataframe thead th {\n",
       "        text-align: right;\n",
       "    }\n",
       "</style>\n",
       "<table border=\"1\" class=\"dataframe\">\n",
       "  <thead>\n",
       "    <tr style=\"text-align: right;\">\n",
       "      <th></th>\n",
       "      <th>title</th>\n",
       "      <th>text</th>\n",
       "      <th>label</th>\n",
       "    </tr>\n",
       "  </thead>\n",
       "  <tbody>\n",
       "    <tr>\n",
       "      <th>0</th>\n",
       "      <td>Donald Trump Sends Out Embarrassing New Year’...</td>\n",
       "      <td>Donald Trump just couldn t wish all Americans ...</td>\n",
       "      <td>1</td>\n",
       "    </tr>\n",
       "    <tr>\n",
       "      <th>1</th>\n",
       "      <td>Drunk Bragging Trump Staffer Started Russian ...</td>\n",
       "      <td>House Intelligence Committee Chairman Devin Nu...</td>\n",
       "      <td>1</td>\n",
       "    </tr>\n",
       "    <tr>\n",
       "      <th>2</th>\n",
       "      <td>Sheriff David Clarke Becomes An Internet Joke...</td>\n",
       "      <td>On Friday, it was revealed that former Milwauk...</td>\n",
       "      <td>1</td>\n",
       "    </tr>\n",
       "    <tr>\n",
       "      <th>3</th>\n",
       "      <td>Trump Is So Obsessed He Even Has Obama’s Name...</td>\n",
       "      <td>On Christmas day, Donald Trump announced that ...</td>\n",
       "      <td>1</td>\n",
       "    </tr>\n",
       "    <tr>\n",
       "      <th>4</th>\n",
       "      <td>Pope Francis Just Called Out Donald Trump Dur...</td>\n",
       "      <td>Pope Francis used his annual Christmas Day mes...</td>\n",
       "      <td>1</td>\n",
       "    </tr>\n",
       "  </tbody>\n",
       "</table>\n",
       "</div>"
      ],
      "text/plain": [
       "                                               title  \\\n",
       "0   Donald Trump Sends Out Embarrassing New Year’...   \n",
       "1   Drunk Bragging Trump Staffer Started Russian ...   \n",
       "2   Sheriff David Clarke Becomes An Internet Joke...   \n",
       "3   Trump Is So Obsessed He Even Has Obama’s Name...   \n",
       "4   Pope Francis Just Called Out Donald Trump Dur...   \n",
       "\n",
       "                                                text  label  \n",
       "0  Donald Trump just couldn t wish all Americans ...      1  \n",
       "1  House Intelligence Committee Chairman Devin Nu...      1  \n",
       "2  On Friday, it was revealed that former Milwauk...      1  \n",
       "3  On Christmas day, Donald Trump announced that ...      1  \n",
       "4  Pope Francis used his annual Christmas Day mes...      1  "
      ]
     },
     "execution_count": 63,
     "metadata": {},
     "output_type": "execute_result"
    }
   ],
   "source": [
    "df.head()"
   ]
  },
  {
   "cell_type": "code",
   "execution_count": 64,
   "id": "8e200dd2",
   "metadata": {
    "ExecuteTime": {
     "end_time": "2021-10-28T16:14:18.278076Z",
     "start_time": "2021-10-28T16:14:18.153742Z"
    }
   },
   "outputs": [],
   "source": [
    "df['content'] = df['title'] + ' ' + df['text']"
   ]
  },
  {
   "cell_type": "code",
   "execution_count": 65,
   "id": "3d7194a6",
   "metadata": {
    "ExecuteTime": {
     "end_time": "2021-10-28T16:14:18.823551Z",
     "start_time": "2021-10-28T16:14:18.812020Z"
    }
   },
   "outputs": [
    {
     "data": {
      "text/html": [
       "<div>\n",
       "<style scoped>\n",
       "    .dataframe tbody tr th:only-of-type {\n",
       "        vertical-align: middle;\n",
       "    }\n",
       "\n",
       "    .dataframe tbody tr th {\n",
       "        vertical-align: top;\n",
       "    }\n",
       "\n",
       "    .dataframe thead th {\n",
       "        text-align: right;\n",
       "    }\n",
       "</style>\n",
       "<table border=\"1\" class=\"dataframe\">\n",
       "  <thead>\n",
       "    <tr style=\"text-align: right;\">\n",
       "      <th></th>\n",
       "      <th>title</th>\n",
       "      <th>text</th>\n",
       "      <th>label</th>\n",
       "      <th>content</th>\n",
       "    </tr>\n",
       "  </thead>\n",
       "  <tbody>\n",
       "    <tr>\n",
       "      <th>0</th>\n",
       "      <td>Donald Trump Sends Out Embarrassing New Year’...</td>\n",
       "      <td>Donald Trump just couldn t wish all Americans ...</td>\n",
       "      <td>1</td>\n",
       "      <td>Donald Trump Sends Out Embarrassing New Year’...</td>\n",
       "    </tr>\n",
       "    <tr>\n",
       "      <th>1</th>\n",
       "      <td>Drunk Bragging Trump Staffer Started Russian ...</td>\n",
       "      <td>House Intelligence Committee Chairman Devin Nu...</td>\n",
       "      <td>1</td>\n",
       "      <td>Drunk Bragging Trump Staffer Started Russian ...</td>\n",
       "    </tr>\n",
       "    <tr>\n",
       "      <th>2</th>\n",
       "      <td>Sheriff David Clarke Becomes An Internet Joke...</td>\n",
       "      <td>On Friday, it was revealed that former Milwauk...</td>\n",
       "      <td>1</td>\n",
       "      <td>Sheriff David Clarke Becomes An Internet Joke...</td>\n",
       "    </tr>\n",
       "    <tr>\n",
       "      <th>3</th>\n",
       "      <td>Trump Is So Obsessed He Even Has Obama’s Name...</td>\n",
       "      <td>On Christmas day, Donald Trump announced that ...</td>\n",
       "      <td>1</td>\n",
       "      <td>Trump Is So Obsessed He Even Has Obama’s Name...</td>\n",
       "    </tr>\n",
       "    <tr>\n",
       "      <th>4</th>\n",
       "      <td>Pope Francis Just Called Out Donald Trump Dur...</td>\n",
       "      <td>Pope Francis used his annual Christmas Day mes...</td>\n",
       "      <td>1</td>\n",
       "      <td>Pope Francis Just Called Out Donald Trump Dur...</td>\n",
       "    </tr>\n",
       "  </tbody>\n",
       "</table>\n",
       "</div>"
      ],
      "text/plain": [
       "                                               title  \\\n",
       "0   Donald Trump Sends Out Embarrassing New Year’...   \n",
       "1   Drunk Bragging Trump Staffer Started Russian ...   \n",
       "2   Sheriff David Clarke Becomes An Internet Joke...   \n",
       "3   Trump Is So Obsessed He Even Has Obama’s Name...   \n",
       "4   Pope Francis Just Called Out Donald Trump Dur...   \n",
       "\n",
       "                                                text  label  \\\n",
       "0  Donald Trump just couldn t wish all Americans ...      1   \n",
       "1  House Intelligence Committee Chairman Devin Nu...      1   \n",
       "2  On Friday, it was revealed that former Milwauk...      1   \n",
       "3  On Christmas day, Donald Trump announced that ...      1   \n",
       "4  Pope Francis used his annual Christmas Day mes...      1   \n",
       "\n",
       "                                             content  \n",
       "0   Donald Trump Sends Out Embarrassing New Year’...  \n",
       "1   Drunk Bragging Trump Staffer Started Russian ...  \n",
       "2   Sheriff David Clarke Becomes An Internet Joke...  \n",
       "3   Trump Is So Obsessed He Even Has Obama’s Name...  \n",
       "4   Pope Francis Just Called Out Donald Trump Dur...  "
      ]
     },
     "execution_count": 65,
     "metadata": {},
     "output_type": "execute_result"
    }
   ],
   "source": [
    "df.head()"
   ]
  },
  {
   "cell_type": "code",
   "execution_count": 66,
   "id": "9ce1625e",
   "metadata": {
    "ExecuteTime": {
     "end_time": "2021-10-28T16:14:19.349598Z",
     "start_time": "2021-10-28T16:14:19.325070Z"
    }
   },
   "outputs": [],
   "source": [
    "df = df.drop(['title', 'text'], axis=1)[['content', 'label']]"
   ]
  },
  {
   "cell_type": "code",
   "execution_count": 67,
   "id": "daaafbf9",
   "metadata": {
    "ExecuteTime": {
     "end_time": "2021-10-28T16:14:22.472485Z",
     "start_time": "2021-10-28T16:14:22.464465Z"
    }
   },
   "outputs": [
    {
     "data": {
      "text/html": [
       "<div>\n",
       "<style scoped>\n",
       "    .dataframe tbody tr th:only-of-type {\n",
       "        vertical-align: middle;\n",
       "    }\n",
       "\n",
       "    .dataframe tbody tr th {\n",
       "        vertical-align: top;\n",
       "    }\n",
       "\n",
       "    .dataframe thead th {\n",
       "        text-align: right;\n",
       "    }\n",
       "</style>\n",
       "<table border=\"1\" class=\"dataframe\">\n",
       "  <thead>\n",
       "    <tr style=\"text-align: right;\">\n",
       "      <th></th>\n",
       "      <th>content</th>\n",
       "      <th>label</th>\n",
       "    </tr>\n",
       "  </thead>\n",
       "  <tbody>\n",
       "    <tr>\n",
       "      <th>0</th>\n",
       "      <td>Donald Trump Sends Out Embarrassing New Year’...</td>\n",
       "      <td>1</td>\n",
       "    </tr>\n",
       "    <tr>\n",
       "      <th>1</th>\n",
       "      <td>Drunk Bragging Trump Staffer Started Russian ...</td>\n",
       "      <td>1</td>\n",
       "    </tr>\n",
       "    <tr>\n",
       "      <th>2</th>\n",
       "      <td>Sheriff David Clarke Becomes An Internet Joke...</td>\n",
       "      <td>1</td>\n",
       "    </tr>\n",
       "    <tr>\n",
       "      <th>3</th>\n",
       "      <td>Trump Is So Obsessed He Even Has Obama’s Name...</td>\n",
       "      <td>1</td>\n",
       "    </tr>\n",
       "    <tr>\n",
       "      <th>4</th>\n",
       "      <td>Pope Francis Just Called Out Donald Trump Dur...</td>\n",
       "      <td>1</td>\n",
       "    </tr>\n",
       "  </tbody>\n",
       "</table>\n",
       "</div>"
      ],
      "text/plain": [
       "                                             content  label\n",
       "0   Donald Trump Sends Out Embarrassing New Year’...      1\n",
       "1   Drunk Bragging Trump Staffer Started Russian ...      1\n",
       "2   Sheriff David Clarke Becomes An Internet Joke...      1\n",
       "3   Trump Is So Obsessed He Even Has Obama’s Name...      1\n",
       "4   Pope Francis Just Called Out Donald Trump Dur...      1"
      ]
     },
     "execution_count": 67,
     "metadata": {},
     "output_type": "execute_result"
    }
   ],
   "source": [
    "df.head()"
   ]
  },
  {
   "cell_type": "code",
   "execution_count": 75,
   "id": "d11ba47a",
   "metadata": {
    "ExecuteTime": {
     "end_time": "2021-10-28T16:15:59.165639Z",
     "start_time": "2021-10-28T16:15:59.160125Z"
    }
   },
   "outputs": [
    {
     "data": {
      "text/plain": [
       "' Donald Trump Sends Out Embarrassing New Year’s Eve Message; This is Disturbing Donald Trump just couldn t wish all Americans a Happy New Year and leave it at that. Instead, he had to give a shout out to his enemies, haters and  the very dishonest fake news media.  The former reality show star had just one job to do and he couldn t do it. As our Country rapidly grows stronger and smarter, I want to wish all of my friends, supporters, enemies, haters, and even the very dishonest Fake News Media, a Happy and Healthy New Year,  President Angry Pants tweeted.  2018 will be a great year for America! As our Country rapidly grows stronger and smarter, I want to wish all of my friends, supporters, enemies, haters, and even the very dishonest Fake News Media, a Happy and Healthy New Year. 2018 will be a great year for America!  Donald J. Trump (@realDonaldTrump) December 31, 2017Trump s tweet went down about as welll as you d expect.What kind of president sends a New Year s greeting like this despicable, petty, infantile gibberish? Only Trump! His lack of decency won t even allow him to rise above the gutter long enough to wish the American citizens a happy new year!  Bishop Talbert Swan (@TalbertSwan) December 31, 2017no one likes you  Calvin (@calvinstowell) December 31, 2017Your impeachment would make 2018 a great year for America, but I ll also accept regaining control of Congress.  Miranda Yaver (@mirandayaver) December 31, 2017Do you hear yourself talk? When you have to include that many people that hate you you have to wonder? Why do the they all hate me?  Alan Sandoval (@AlanSandoval13) December 31, 2017Who uses the word Haters in a New Years wish??  Marlene (@marlene399) December 31, 2017You can t just say happy new year?  Koren pollitt (@Korencarpenter) December 31, 2017Here s Trump s New Year s Eve tweet from 2016.Happy New Year to all, including to my many enemies and those who have fought me and lost so badly they just don t know what to do. Love!  Donald J. Trump (@realDonaldTrump) December 31, 2016This is nothing new for Trump. He s been doing this for years.Trump has directed messages to his  enemies  and  haters  for New Year s, Easter, Thanksgiving, and the anniversary of 9/11. pic.twitter.com/4FPAe2KypA  Daniel Dale (@ddale8) December 31, 2017Trump s holiday tweets are clearly not presidential.How long did he work at Hallmark before becoming President?  Steven Goodine (@SGoodine) December 31, 2017He s always been like this . . . the only difference is that in the last few years, his filter has been breaking down.  Roy Schulze (@thbthttt) December 31, 2017Who, apart from a teenager uses the term haters?  Wendy (@WendyWhistles) December 31, 2017he s a fucking 5 year old  Who Knows (@rainyday80) December 31, 2017So, to all the people who voted for this a hole thinking he would change once he got into power, you were wrong! 70-year-old men don t change and now he s a year older.Photo by Andrew Burton/Getty Images.'"
      ]
     },
     "execution_count": 75,
     "metadata": {},
     "output_type": "execute_result"
    }
   ],
   "source": [
    "df.iloc[0,0]"
   ]
  },
  {
   "cell_type": "code",
   "execution_count": 118,
   "id": "cf82cdb4",
   "metadata": {
    "ExecuteTime": {
     "end_time": "2021-10-28T16:29:48.946585Z",
     "start_time": "2021-10-28T16:29:48.943076Z"
    }
   },
   "outputs": [],
   "source": [
    "test = df.iloc[0,0]"
   ]
  },
  {
   "cell_type": "code",
   "execution_count": 119,
   "id": "a367d906",
   "metadata": {
    "ExecuteTime": {
     "end_time": "2021-10-28T16:29:49.473536Z",
     "start_time": "2021-10-28T16:29:49.457457Z"
    }
   },
   "outputs": [],
   "source": [
    "stop_en = stopwords.words('english')\n",
    "ps = PorterStemmer()\n",
    "lemmatizer = WordNetLemmatizer()"
   ]
  },
  {
   "cell_type": "code",
   "execution_count": 120,
   "id": "0706d729",
   "metadata": {
    "ExecuteTime": {
     "end_time": "2021-10-28T16:29:50.075134Z",
     "start_time": "2021-10-28T16:29:50.070623Z"
    }
   },
   "outputs": [],
   "source": [
    "text_process = re.sub('[^a-zA-Z]', ' ', test).lower().split()"
   ]
  },
  {
   "cell_type": "code",
   "execution_count": 121,
   "id": "8cfe0be3",
   "metadata": {
    "ExecuteTime": {
     "end_time": "2021-10-28T16:29:50.702577Z",
     "start_time": "2021-10-28T16:29:50.689540Z"
    }
   },
   "outputs": [
    {
     "data": {
      "text/plain": [
       "['donald',\n",
       " 'trump',\n",
       " 'sends',\n",
       " 'out',\n",
       " 'embarrassing',\n",
       " 'new',\n",
       " 'year',\n",
       " 's',\n",
       " 'eve',\n",
       " 'message',\n",
       " 'this',\n",
       " 'is',\n",
       " 'disturbing',\n",
       " 'donald',\n",
       " 'trump',\n",
       " 'just',\n",
       " 'couldn',\n",
       " 't',\n",
       " 'wish',\n",
       " 'all',\n",
       " 'americans',\n",
       " 'a',\n",
       " 'happy',\n",
       " 'new',\n",
       " 'year',\n",
       " 'and',\n",
       " 'leave',\n",
       " 'it',\n",
       " 'at',\n",
       " 'that',\n",
       " 'instead',\n",
       " 'he',\n",
       " 'had',\n",
       " 'to',\n",
       " 'give',\n",
       " 'a',\n",
       " 'shout',\n",
       " 'out',\n",
       " 'to',\n",
       " 'his',\n",
       " 'enemies',\n",
       " 'haters',\n",
       " 'and',\n",
       " 'the',\n",
       " 'very',\n",
       " 'dishonest',\n",
       " 'fake',\n",
       " 'news',\n",
       " 'media',\n",
       " 'the',\n",
       " 'former',\n",
       " 'reality',\n",
       " 'show',\n",
       " 'star',\n",
       " 'had',\n",
       " 'just',\n",
       " 'one',\n",
       " 'job',\n",
       " 'to',\n",
       " 'do',\n",
       " 'and',\n",
       " 'he',\n",
       " 'couldn',\n",
       " 't',\n",
       " 'do',\n",
       " 'it',\n",
       " 'as',\n",
       " 'our',\n",
       " 'country',\n",
       " 'rapidly',\n",
       " 'grows',\n",
       " 'stronger',\n",
       " 'and',\n",
       " 'smarter',\n",
       " 'i',\n",
       " 'want',\n",
       " 'to',\n",
       " 'wish',\n",
       " 'all',\n",
       " 'of',\n",
       " 'my',\n",
       " 'friends',\n",
       " 'supporters',\n",
       " 'enemies',\n",
       " 'haters',\n",
       " 'and',\n",
       " 'even',\n",
       " 'the',\n",
       " 'very',\n",
       " 'dishonest',\n",
       " 'fake',\n",
       " 'news',\n",
       " 'media',\n",
       " 'a',\n",
       " 'happy',\n",
       " 'and',\n",
       " 'healthy',\n",
       " 'new',\n",
       " 'year',\n",
       " 'president',\n",
       " 'angry',\n",
       " 'pants',\n",
       " 'tweeted',\n",
       " 'will',\n",
       " 'be',\n",
       " 'a',\n",
       " 'great',\n",
       " 'year',\n",
       " 'for',\n",
       " 'america',\n",
       " 'as',\n",
       " 'our',\n",
       " 'country',\n",
       " 'rapidly',\n",
       " 'grows',\n",
       " 'stronger',\n",
       " 'and',\n",
       " 'smarter',\n",
       " 'i',\n",
       " 'want',\n",
       " 'to',\n",
       " 'wish',\n",
       " 'all',\n",
       " 'of',\n",
       " 'my',\n",
       " 'friends',\n",
       " 'supporters',\n",
       " 'enemies',\n",
       " 'haters',\n",
       " 'and',\n",
       " 'even',\n",
       " 'the',\n",
       " 'very',\n",
       " 'dishonest',\n",
       " 'fake',\n",
       " 'news',\n",
       " 'media',\n",
       " 'a',\n",
       " 'happy',\n",
       " 'and',\n",
       " 'healthy',\n",
       " 'new',\n",
       " 'year',\n",
       " 'will',\n",
       " 'be',\n",
       " 'a',\n",
       " 'great',\n",
       " 'year',\n",
       " 'for',\n",
       " 'america',\n",
       " 'donald',\n",
       " 'j',\n",
       " 'trump',\n",
       " 'realdonaldtrump',\n",
       " 'december',\n",
       " 'trump',\n",
       " 's',\n",
       " 'tweet',\n",
       " 'went',\n",
       " 'down',\n",
       " 'about',\n",
       " 'as',\n",
       " 'welll',\n",
       " 'as',\n",
       " 'you',\n",
       " 'd',\n",
       " 'expect',\n",
       " 'what',\n",
       " 'kind',\n",
       " 'of',\n",
       " 'president',\n",
       " 'sends',\n",
       " 'a',\n",
       " 'new',\n",
       " 'year',\n",
       " 's',\n",
       " 'greeting',\n",
       " 'like',\n",
       " 'this',\n",
       " 'despicable',\n",
       " 'petty',\n",
       " 'infantile',\n",
       " 'gibberish',\n",
       " 'only',\n",
       " 'trump',\n",
       " 'his',\n",
       " 'lack',\n",
       " 'of',\n",
       " 'decency',\n",
       " 'won',\n",
       " 't',\n",
       " 'even',\n",
       " 'allow',\n",
       " 'him',\n",
       " 'to',\n",
       " 'rise',\n",
       " 'above',\n",
       " 'the',\n",
       " 'gutter',\n",
       " 'long',\n",
       " 'enough',\n",
       " 'to',\n",
       " 'wish',\n",
       " 'the',\n",
       " 'american',\n",
       " 'citizens',\n",
       " 'a',\n",
       " 'happy',\n",
       " 'new',\n",
       " 'year',\n",
       " 'bishop',\n",
       " 'talbert',\n",
       " 'swan',\n",
       " 'talbertswan',\n",
       " 'december',\n",
       " 'no',\n",
       " 'one',\n",
       " 'likes',\n",
       " 'you',\n",
       " 'calvin',\n",
       " 'calvinstowell',\n",
       " 'december',\n",
       " 'your',\n",
       " 'impeachment',\n",
       " 'would',\n",
       " 'make',\n",
       " 'a',\n",
       " 'great',\n",
       " 'year',\n",
       " 'for',\n",
       " 'america',\n",
       " 'but',\n",
       " 'i',\n",
       " 'll',\n",
       " 'also',\n",
       " 'accept',\n",
       " 'regaining',\n",
       " 'control',\n",
       " 'of',\n",
       " 'congress',\n",
       " 'miranda',\n",
       " 'yaver',\n",
       " 'mirandayaver',\n",
       " 'december',\n",
       " 'do',\n",
       " 'you',\n",
       " 'hear',\n",
       " 'yourself',\n",
       " 'talk',\n",
       " 'when',\n",
       " 'you',\n",
       " 'have',\n",
       " 'to',\n",
       " 'include',\n",
       " 'that',\n",
       " 'many',\n",
       " 'people',\n",
       " 'that',\n",
       " 'hate',\n",
       " 'you',\n",
       " 'you',\n",
       " 'have',\n",
       " 'to',\n",
       " 'wonder',\n",
       " 'why',\n",
       " 'do',\n",
       " 'the',\n",
       " 'they',\n",
       " 'all',\n",
       " 'hate',\n",
       " 'me',\n",
       " 'alan',\n",
       " 'sandoval',\n",
       " 'alansandoval',\n",
       " 'december',\n",
       " 'who',\n",
       " 'uses',\n",
       " 'the',\n",
       " 'word',\n",
       " 'haters',\n",
       " 'in',\n",
       " 'a',\n",
       " 'new',\n",
       " 'years',\n",
       " 'wish',\n",
       " 'marlene',\n",
       " 'marlene',\n",
       " 'december',\n",
       " 'you',\n",
       " 'can',\n",
       " 't',\n",
       " 'just',\n",
       " 'say',\n",
       " 'happy',\n",
       " 'new',\n",
       " 'year',\n",
       " 'koren',\n",
       " 'pollitt',\n",
       " 'korencarpenter',\n",
       " 'december',\n",
       " 'here',\n",
       " 's',\n",
       " 'trump',\n",
       " 's',\n",
       " 'new',\n",
       " 'year',\n",
       " 's',\n",
       " 'eve',\n",
       " 'tweet',\n",
       " 'from',\n",
       " 'happy',\n",
       " 'new',\n",
       " 'year',\n",
       " 'to',\n",
       " 'all',\n",
       " 'including',\n",
       " 'to',\n",
       " 'my',\n",
       " 'many',\n",
       " 'enemies',\n",
       " 'and',\n",
       " 'those',\n",
       " 'who',\n",
       " 'have',\n",
       " 'fought',\n",
       " 'me',\n",
       " 'and',\n",
       " 'lost',\n",
       " 'so',\n",
       " 'badly',\n",
       " 'they',\n",
       " 'just',\n",
       " 'don',\n",
       " 't',\n",
       " 'know',\n",
       " 'what',\n",
       " 'to',\n",
       " 'do',\n",
       " 'love',\n",
       " 'donald',\n",
       " 'j',\n",
       " 'trump',\n",
       " 'realdonaldtrump',\n",
       " 'december',\n",
       " 'this',\n",
       " 'is',\n",
       " 'nothing',\n",
       " 'new',\n",
       " 'for',\n",
       " 'trump',\n",
       " 'he',\n",
       " 's',\n",
       " 'been',\n",
       " 'doing',\n",
       " 'this',\n",
       " 'for',\n",
       " 'years',\n",
       " 'trump',\n",
       " 'has',\n",
       " 'directed',\n",
       " 'messages',\n",
       " 'to',\n",
       " 'his',\n",
       " 'enemies',\n",
       " 'and',\n",
       " 'haters',\n",
       " 'for',\n",
       " 'new',\n",
       " 'year',\n",
       " 's',\n",
       " 'easter',\n",
       " 'thanksgiving',\n",
       " 'and',\n",
       " 'the',\n",
       " 'anniversary',\n",
       " 'of',\n",
       " 'pic',\n",
       " 'twitter',\n",
       " 'com',\n",
       " 'fpae',\n",
       " 'kypa',\n",
       " 'daniel',\n",
       " 'dale',\n",
       " 'ddale',\n",
       " 'december',\n",
       " 'trump',\n",
       " 's',\n",
       " 'holiday',\n",
       " 'tweets',\n",
       " 'are',\n",
       " 'clearly',\n",
       " 'not',\n",
       " 'presidential',\n",
       " 'how',\n",
       " 'long',\n",
       " 'did',\n",
       " 'he',\n",
       " 'work',\n",
       " 'at',\n",
       " 'hallmark',\n",
       " 'before',\n",
       " 'becoming',\n",
       " 'president',\n",
       " 'steven',\n",
       " 'goodine',\n",
       " 'sgoodine',\n",
       " 'december',\n",
       " 'he',\n",
       " 's',\n",
       " 'always',\n",
       " 'been',\n",
       " 'like',\n",
       " 'this',\n",
       " 'the',\n",
       " 'only',\n",
       " 'difference',\n",
       " 'is',\n",
       " 'that',\n",
       " 'in',\n",
       " 'the',\n",
       " 'last',\n",
       " 'few',\n",
       " 'years',\n",
       " 'his',\n",
       " 'filter',\n",
       " 'has',\n",
       " 'been',\n",
       " 'breaking',\n",
       " 'down',\n",
       " 'roy',\n",
       " 'schulze',\n",
       " 'thbthttt',\n",
       " 'december',\n",
       " 'who',\n",
       " 'apart',\n",
       " 'from',\n",
       " 'a',\n",
       " 'teenager',\n",
       " 'uses',\n",
       " 'the',\n",
       " 'term',\n",
       " 'haters',\n",
       " 'wendy',\n",
       " 'wendywhistles',\n",
       " 'december',\n",
       " 'he',\n",
       " 's',\n",
       " 'a',\n",
       " 'fucking',\n",
       " 'year',\n",
       " 'old',\n",
       " 'who',\n",
       " 'knows',\n",
       " 'rainyday',\n",
       " 'december',\n",
       " 'so',\n",
       " 'to',\n",
       " 'all',\n",
       " 'the',\n",
       " 'people',\n",
       " 'who',\n",
       " 'voted',\n",
       " 'for',\n",
       " 'this',\n",
       " 'a',\n",
       " 'hole',\n",
       " 'thinking',\n",
       " 'he',\n",
       " 'would',\n",
       " 'change',\n",
       " 'once',\n",
       " 'he',\n",
       " 'got',\n",
       " 'into',\n",
       " 'power',\n",
       " 'you',\n",
       " 'were',\n",
       " 'wrong',\n",
       " 'year',\n",
       " 'old',\n",
       " 'men',\n",
       " 'don',\n",
       " 't',\n",
       " 'change',\n",
       " 'and',\n",
       " 'now',\n",
       " 'he',\n",
       " 's',\n",
       " 'a',\n",
       " 'year',\n",
       " 'older',\n",
       " 'photo',\n",
       " 'by',\n",
       " 'andrew',\n",
       " 'burton',\n",
       " 'getty',\n",
       " 'images']"
      ]
     },
     "execution_count": 121,
     "metadata": {},
     "output_type": "execute_result"
    }
   ],
   "source": [
    "text_process"
   ]
  },
  {
   "cell_type": "code",
   "execution_count": 122,
   "id": "2f8ae8c3",
   "metadata": {
    "ExecuteTime": {
     "end_time": "2021-10-28T16:29:51.470389Z",
     "start_time": "2021-10-28T16:29:51.465377Z"
    }
   },
   "outputs": [
    {
     "data": {
      "text/plain": [
       "497"
      ]
     },
     "execution_count": 122,
     "metadata": {},
     "output_type": "execute_result"
    }
   ],
   "source": [
    "len(text_process)"
   ]
  },
  {
   "cell_type": "code",
   "execution_count": 123,
   "id": "199a54db",
   "metadata": {
    "ExecuteTime": {
     "end_time": "2021-10-28T16:29:52.123875Z",
     "start_time": "2021-10-28T16:29:52.118862Z"
    }
   },
   "outputs": [],
   "source": [
    "text_process = [word for word in text_process if not word in stop_en]"
   ]
  },
  {
   "cell_type": "code",
   "execution_count": 124,
   "id": "8eb84d07",
   "metadata": {
    "ExecuteTime": {
     "end_time": "2021-10-28T16:29:52.779310Z",
     "start_time": "2021-10-28T16:29:52.769784Z"
    }
   },
   "outputs": [
    {
     "data": {
      "text/plain": [
       "['donald',\n",
       " 'trump',\n",
       " 'sends',\n",
       " 'embarrassing',\n",
       " 'new',\n",
       " 'year',\n",
       " 'eve',\n",
       " 'message',\n",
       " 'disturbing',\n",
       " 'donald',\n",
       " 'trump',\n",
       " 'wish',\n",
       " 'americans',\n",
       " 'happy',\n",
       " 'new',\n",
       " 'year',\n",
       " 'leave',\n",
       " 'instead',\n",
       " 'give',\n",
       " 'shout',\n",
       " 'enemies',\n",
       " 'haters',\n",
       " 'dishonest',\n",
       " 'fake',\n",
       " 'news',\n",
       " 'media',\n",
       " 'former',\n",
       " 'reality',\n",
       " 'show',\n",
       " 'star',\n",
       " 'one',\n",
       " 'job',\n",
       " 'country',\n",
       " 'rapidly',\n",
       " 'grows',\n",
       " 'stronger',\n",
       " 'smarter',\n",
       " 'want',\n",
       " 'wish',\n",
       " 'friends',\n",
       " 'supporters',\n",
       " 'enemies',\n",
       " 'haters',\n",
       " 'even',\n",
       " 'dishonest',\n",
       " 'fake',\n",
       " 'news',\n",
       " 'media',\n",
       " 'happy',\n",
       " 'healthy',\n",
       " 'new',\n",
       " 'year',\n",
       " 'president',\n",
       " 'angry',\n",
       " 'pants',\n",
       " 'tweeted',\n",
       " 'great',\n",
       " 'year',\n",
       " 'america',\n",
       " 'country',\n",
       " 'rapidly',\n",
       " 'grows',\n",
       " 'stronger',\n",
       " 'smarter',\n",
       " 'want',\n",
       " 'wish',\n",
       " 'friends',\n",
       " 'supporters',\n",
       " 'enemies',\n",
       " 'haters',\n",
       " 'even',\n",
       " 'dishonest',\n",
       " 'fake',\n",
       " 'news',\n",
       " 'media',\n",
       " 'happy',\n",
       " 'healthy',\n",
       " 'new',\n",
       " 'year',\n",
       " 'great',\n",
       " 'year',\n",
       " 'america',\n",
       " 'donald',\n",
       " 'j',\n",
       " 'trump',\n",
       " 'realdonaldtrump',\n",
       " 'december',\n",
       " 'trump',\n",
       " 'tweet',\n",
       " 'went',\n",
       " 'welll',\n",
       " 'expect',\n",
       " 'kind',\n",
       " 'president',\n",
       " 'sends',\n",
       " 'new',\n",
       " 'year',\n",
       " 'greeting',\n",
       " 'like',\n",
       " 'despicable',\n",
       " 'petty',\n",
       " 'infantile',\n",
       " 'gibberish',\n",
       " 'trump',\n",
       " 'lack',\n",
       " 'decency',\n",
       " 'even',\n",
       " 'allow',\n",
       " 'rise',\n",
       " 'gutter',\n",
       " 'long',\n",
       " 'enough',\n",
       " 'wish',\n",
       " 'american',\n",
       " 'citizens',\n",
       " 'happy',\n",
       " 'new',\n",
       " 'year',\n",
       " 'bishop',\n",
       " 'talbert',\n",
       " 'swan',\n",
       " 'talbertswan',\n",
       " 'december',\n",
       " 'one',\n",
       " 'likes',\n",
       " 'calvin',\n",
       " 'calvinstowell',\n",
       " 'december',\n",
       " 'impeachment',\n",
       " 'would',\n",
       " 'make',\n",
       " 'great',\n",
       " 'year',\n",
       " 'america',\n",
       " 'also',\n",
       " 'accept',\n",
       " 'regaining',\n",
       " 'control',\n",
       " 'congress',\n",
       " 'miranda',\n",
       " 'yaver',\n",
       " 'mirandayaver',\n",
       " 'december',\n",
       " 'hear',\n",
       " 'talk',\n",
       " 'include',\n",
       " 'many',\n",
       " 'people',\n",
       " 'hate',\n",
       " 'wonder',\n",
       " 'hate',\n",
       " 'alan',\n",
       " 'sandoval',\n",
       " 'alansandoval',\n",
       " 'december',\n",
       " 'uses',\n",
       " 'word',\n",
       " 'haters',\n",
       " 'new',\n",
       " 'years',\n",
       " 'wish',\n",
       " 'marlene',\n",
       " 'marlene',\n",
       " 'december',\n",
       " 'say',\n",
       " 'happy',\n",
       " 'new',\n",
       " 'year',\n",
       " 'koren',\n",
       " 'pollitt',\n",
       " 'korencarpenter',\n",
       " 'december',\n",
       " 'trump',\n",
       " 'new',\n",
       " 'year',\n",
       " 'eve',\n",
       " 'tweet',\n",
       " 'happy',\n",
       " 'new',\n",
       " 'year',\n",
       " 'including',\n",
       " 'many',\n",
       " 'enemies',\n",
       " 'fought',\n",
       " 'lost',\n",
       " 'badly',\n",
       " 'know',\n",
       " 'love',\n",
       " 'donald',\n",
       " 'j',\n",
       " 'trump',\n",
       " 'realdonaldtrump',\n",
       " 'december',\n",
       " 'nothing',\n",
       " 'new',\n",
       " 'trump',\n",
       " 'years',\n",
       " 'trump',\n",
       " 'directed',\n",
       " 'messages',\n",
       " 'enemies',\n",
       " 'haters',\n",
       " 'new',\n",
       " 'year',\n",
       " 'easter',\n",
       " 'thanksgiving',\n",
       " 'anniversary',\n",
       " 'pic',\n",
       " 'twitter',\n",
       " 'com',\n",
       " 'fpae',\n",
       " 'kypa',\n",
       " 'daniel',\n",
       " 'dale',\n",
       " 'ddale',\n",
       " 'december',\n",
       " 'trump',\n",
       " 'holiday',\n",
       " 'tweets',\n",
       " 'clearly',\n",
       " 'presidential',\n",
       " 'long',\n",
       " 'work',\n",
       " 'hallmark',\n",
       " 'becoming',\n",
       " 'president',\n",
       " 'steven',\n",
       " 'goodine',\n",
       " 'sgoodine',\n",
       " 'december',\n",
       " 'always',\n",
       " 'like',\n",
       " 'difference',\n",
       " 'last',\n",
       " 'years',\n",
       " 'filter',\n",
       " 'breaking',\n",
       " 'roy',\n",
       " 'schulze',\n",
       " 'thbthttt',\n",
       " 'december',\n",
       " 'apart',\n",
       " 'teenager',\n",
       " 'uses',\n",
       " 'term',\n",
       " 'haters',\n",
       " 'wendy',\n",
       " 'wendywhistles',\n",
       " 'december',\n",
       " 'fucking',\n",
       " 'year',\n",
       " 'old',\n",
       " 'knows',\n",
       " 'rainyday',\n",
       " 'december',\n",
       " 'people',\n",
       " 'voted',\n",
       " 'hole',\n",
       " 'thinking',\n",
       " 'would',\n",
       " 'change',\n",
       " 'got',\n",
       " 'power',\n",
       " 'wrong',\n",
       " 'year',\n",
       " 'old',\n",
       " 'men',\n",
       " 'change',\n",
       " 'year',\n",
       " 'older',\n",
       " 'photo',\n",
       " 'andrew',\n",
       " 'burton',\n",
       " 'getty',\n",
       " 'images']"
      ]
     },
     "execution_count": 124,
     "metadata": {},
     "output_type": "execute_result"
    }
   ],
   "source": [
    "text_process"
   ]
  },
  {
   "cell_type": "code",
   "execution_count": 125,
   "id": "6918fcfa",
   "metadata": {
    "ExecuteTime": {
     "end_time": "2021-10-28T16:29:53.665930Z",
     "start_time": "2021-10-28T16:29:53.660915Z"
    }
   },
   "outputs": [
    {
     "data": {
      "text/plain": [
       "275"
      ]
     },
     "execution_count": 125,
     "metadata": {},
     "output_type": "execute_result"
    }
   ],
   "source": [
    "len(text_process)"
   ]
  },
  {
   "cell_type": "code",
   "execution_count": 126,
   "id": "c1867efd",
   "metadata": {
    "ExecuteTime": {
     "end_time": "2021-10-28T16:29:54.373850Z",
     "start_time": "2021-10-28T16:29:54.368337Z"
    }
   },
   "outputs": [],
   "source": [
    "text_process = [lemmatizer.lemmatize(word) for word in text_process]"
   ]
  },
  {
   "cell_type": "code",
   "execution_count": 127,
   "id": "f1080101",
   "metadata": {
    "ExecuteTime": {
     "end_time": "2021-10-28T16:29:55.083586Z",
     "start_time": "2021-10-28T16:29:55.072593Z"
    }
   },
   "outputs": [
    {
     "data": {
      "text/plain": [
       "['donald',\n",
       " 'trump',\n",
       " 'sends',\n",
       " 'embarrassing',\n",
       " 'new',\n",
       " 'year',\n",
       " 'eve',\n",
       " 'message',\n",
       " 'disturbing',\n",
       " 'donald',\n",
       " 'trump',\n",
       " 'wish',\n",
       " 'american',\n",
       " 'happy',\n",
       " 'new',\n",
       " 'year',\n",
       " 'leave',\n",
       " 'instead',\n",
       " 'give',\n",
       " 'shout',\n",
       " 'enemy',\n",
       " 'hater',\n",
       " 'dishonest',\n",
       " 'fake',\n",
       " 'news',\n",
       " 'medium',\n",
       " 'former',\n",
       " 'reality',\n",
       " 'show',\n",
       " 'star',\n",
       " 'one',\n",
       " 'job',\n",
       " 'country',\n",
       " 'rapidly',\n",
       " 'grows',\n",
       " 'stronger',\n",
       " 'smarter',\n",
       " 'want',\n",
       " 'wish',\n",
       " 'friend',\n",
       " 'supporter',\n",
       " 'enemy',\n",
       " 'hater',\n",
       " 'even',\n",
       " 'dishonest',\n",
       " 'fake',\n",
       " 'news',\n",
       " 'medium',\n",
       " 'happy',\n",
       " 'healthy',\n",
       " 'new',\n",
       " 'year',\n",
       " 'president',\n",
       " 'angry',\n",
       " 'pant',\n",
       " 'tweeted',\n",
       " 'great',\n",
       " 'year',\n",
       " 'america',\n",
       " 'country',\n",
       " 'rapidly',\n",
       " 'grows',\n",
       " 'stronger',\n",
       " 'smarter',\n",
       " 'want',\n",
       " 'wish',\n",
       " 'friend',\n",
       " 'supporter',\n",
       " 'enemy',\n",
       " 'hater',\n",
       " 'even',\n",
       " 'dishonest',\n",
       " 'fake',\n",
       " 'news',\n",
       " 'medium',\n",
       " 'happy',\n",
       " 'healthy',\n",
       " 'new',\n",
       " 'year',\n",
       " 'great',\n",
       " 'year',\n",
       " 'america',\n",
       " 'donald',\n",
       " 'j',\n",
       " 'trump',\n",
       " 'realdonaldtrump',\n",
       " 'december',\n",
       " 'trump',\n",
       " 'tweet',\n",
       " 'went',\n",
       " 'welll',\n",
       " 'expect',\n",
       " 'kind',\n",
       " 'president',\n",
       " 'sends',\n",
       " 'new',\n",
       " 'year',\n",
       " 'greeting',\n",
       " 'like',\n",
       " 'despicable',\n",
       " 'petty',\n",
       " 'infantile',\n",
       " 'gibberish',\n",
       " 'trump',\n",
       " 'lack',\n",
       " 'decency',\n",
       " 'even',\n",
       " 'allow',\n",
       " 'rise',\n",
       " 'gutter',\n",
       " 'long',\n",
       " 'enough',\n",
       " 'wish',\n",
       " 'american',\n",
       " 'citizen',\n",
       " 'happy',\n",
       " 'new',\n",
       " 'year',\n",
       " 'bishop',\n",
       " 'talbert',\n",
       " 'swan',\n",
       " 'talbertswan',\n",
       " 'december',\n",
       " 'one',\n",
       " 'like',\n",
       " 'calvin',\n",
       " 'calvinstowell',\n",
       " 'december',\n",
       " 'impeachment',\n",
       " 'would',\n",
       " 'make',\n",
       " 'great',\n",
       " 'year',\n",
       " 'america',\n",
       " 'also',\n",
       " 'accept',\n",
       " 'regaining',\n",
       " 'control',\n",
       " 'congress',\n",
       " 'miranda',\n",
       " 'yaver',\n",
       " 'mirandayaver',\n",
       " 'december',\n",
       " 'hear',\n",
       " 'talk',\n",
       " 'include',\n",
       " 'many',\n",
       " 'people',\n",
       " 'hate',\n",
       " 'wonder',\n",
       " 'hate',\n",
       " 'alan',\n",
       " 'sandoval',\n",
       " 'alansandoval',\n",
       " 'december',\n",
       " 'us',\n",
       " 'word',\n",
       " 'hater',\n",
       " 'new',\n",
       " 'year',\n",
       " 'wish',\n",
       " 'marlene',\n",
       " 'marlene',\n",
       " 'december',\n",
       " 'say',\n",
       " 'happy',\n",
       " 'new',\n",
       " 'year',\n",
       " 'koren',\n",
       " 'pollitt',\n",
       " 'korencarpenter',\n",
       " 'december',\n",
       " 'trump',\n",
       " 'new',\n",
       " 'year',\n",
       " 'eve',\n",
       " 'tweet',\n",
       " 'happy',\n",
       " 'new',\n",
       " 'year',\n",
       " 'including',\n",
       " 'many',\n",
       " 'enemy',\n",
       " 'fought',\n",
       " 'lost',\n",
       " 'badly',\n",
       " 'know',\n",
       " 'love',\n",
       " 'donald',\n",
       " 'j',\n",
       " 'trump',\n",
       " 'realdonaldtrump',\n",
       " 'december',\n",
       " 'nothing',\n",
       " 'new',\n",
       " 'trump',\n",
       " 'year',\n",
       " 'trump',\n",
       " 'directed',\n",
       " 'message',\n",
       " 'enemy',\n",
       " 'hater',\n",
       " 'new',\n",
       " 'year',\n",
       " 'easter',\n",
       " 'thanksgiving',\n",
       " 'anniversary',\n",
       " 'pic',\n",
       " 'twitter',\n",
       " 'com',\n",
       " 'fpae',\n",
       " 'kypa',\n",
       " 'daniel',\n",
       " 'dale',\n",
       " 'ddale',\n",
       " 'december',\n",
       " 'trump',\n",
       " 'holiday',\n",
       " 'tweet',\n",
       " 'clearly',\n",
       " 'presidential',\n",
       " 'long',\n",
       " 'work',\n",
       " 'hallmark',\n",
       " 'becoming',\n",
       " 'president',\n",
       " 'steven',\n",
       " 'goodine',\n",
       " 'sgoodine',\n",
       " 'december',\n",
       " 'always',\n",
       " 'like',\n",
       " 'difference',\n",
       " 'last',\n",
       " 'year',\n",
       " 'filter',\n",
       " 'breaking',\n",
       " 'roy',\n",
       " 'schulze',\n",
       " 'thbthttt',\n",
       " 'december',\n",
       " 'apart',\n",
       " 'teenager',\n",
       " 'us',\n",
       " 'term',\n",
       " 'hater',\n",
       " 'wendy',\n",
       " 'wendywhistles',\n",
       " 'december',\n",
       " 'fucking',\n",
       " 'year',\n",
       " 'old',\n",
       " 'know',\n",
       " 'rainyday',\n",
       " 'december',\n",
       " 'people',\n",
       " 'voted',\n",
       " 'hole',\n",
       " 'thinking',\n",
       " 'would',\n",
       " 'change',\n",
       " 'got',\n",
       " 'power',\n",
       " 'wrong',\n",
       " 'year',\n",
       " 'old',\n",
       " 'men',\n",
       " 'change',\n",
       " 'year',\n",
       " 'older',\n",
       " 'photo',\n",
       " 'andrew',\n",
       " 'burton',\n",
       " 'getty',\n",
       " 'image']"
      ]
     },
     "execution_count": 127,
     "metadata": {},
     "output_type": "execute_result"
    }
   ],
   "source": [
    "text_process"
   ]
  },
  {
   "cell_type": "code",
   "execution_count": 128,
   "id": "e6a21dcf",
   "metadata": {
    "ExecuteTime": {
     "end_time": "2021-10-28T16:30:00.316383Z",
     "start_time": "2021-10-28T16:30:00.311367Z"
    }
   },
   "outputs": [
    {
     "data": {
      "text/plain": [
       "275"
      ]
     },
     "execution_count": 128,
     "metadata": {},
     "output_type": "execute_result"
    }
   ],
   "source": [
    "len(text_process)"
   ]
  },
  {
   "cell_type": "code",
   "execution_count": 129,
   "id": "f69f26a9",
   "metadata": {
    "ExecuteTime": {
     "end_time": "2021-10-28T16:30:09.602132Z",
     "start_time": "2021-10-28T16:30:09.583082Z"
    }
   },
   "outputs": [
    {
     "data": {
      "text/plain": [
       "'donald trump sends embarrassing new year eve message disturbing donald trump wish american happy new year leave instead give shout enemy hater dishonest fake news medium former reality show star one job country rapidly grows stronger smarter want wish friend supporter enemy hater even dishonest fake news medium happy healthy new year president angry pant tweeted great year america country rapidly grows stronger smarter want wish friend supporter enemy hater even dishonest fake news medium happy healthy new year great year america donald j trump realdonaldtrump december trump tweet went welll expect kind president sends new year greeting like despicable petty infantile gibberish trump lack decency even allow rise gutter long enough wish american citizen happy new year bishop talbert swan talbertswan december one like calvin calvinstowell december impeachment would make great year america also accept regaining control congress miranda yaver mirandayaver december hear talk include many people hate wonder hate alan sandoval alansandoval december us word hater new year wish marlene marlene december say happy new year koren pollitt korencarpenter december trump new year eve tweet happy new year including many enemy fought lost badly know love donald j trump realdonaldtrump december nothing new trump year trump directed message enemy hater new year easter thanksgiving anniversary pic twitter com fpae kypa daniel dale ddale december trump holiday tweet clearly presidential long work hallmark becoming president steven goodine sgoodine december always like difference last year filter breaking roy schulze thbthttt december apart teenager us term hater wendy wendywhistles december fucking year old know rainyday december people voted hole thinking would change got power wrong year old men change year older photo andrew burton getty image '"
      ]
     },
     "execution_count": 129,
     "metadata": {},
     "output_type": "execute_result"
    }
   ],
   "source": [
    "combined = ''\n",
    "for text in text_process:\n",
    "    combined = combined + text + ' '\n",
    "combined"
   ]
  },
  {
   "cell_type": "code",
   "execution_count": 130,
   "id": "6a30e867",
   "metadata": {
    "ExecuteTime": {
     "end_time": "2021-10-28T16:30:55.720993Z",
     "start_time": "2021-10-28T16:30:55.683956Z"
    }
   },
   "outputs": [],
   "source": [
    "def text_preprocessing(texts):\n",
    "    text_list = []\n",
    "    for i in range(len(texts)):\n",
    "        text_process = re.sub('[^a-zA-Z]', ' ', texts[i]).lower().split()\n",
    "        text_process = [word for word in text_process if not word in stop_en]\n",
    "        text_process = [lemmatizer.lemmatize(word) for word in text_process]\n",
    "        combined = ''\n",
    "        for text in text_process:\n",
    "            combined = combined + text + ' '\n",
    "        text_list.append(combined)\n",
    "    return text_list"
   ]
  },
  {
   "cell_type": "code",
   "execution_count": null,
   "id": "91c6c08f",
   "metadata": {},
   "outputs": [],
   "source": []
  },
  {
   "cell_type": "code",
   "execution_count": 131,
   "id": "becf964c",
   "metadata": {
    "ExecuteTime": {
     "end_time": "2021-10-28T16:31:34.735324Z",
     "start_time": "2021-10-28T16:31:34.667645Z"
    }
   },
   "outputs": [],
   "source": [
    "news = df['content'].copy()\n",
    "target = df['label'].copy()"
   ]
  },
  {
   "cell_type": "code",
   "execution_count": null,
   "id": "3a1b97e1",
   "metadata": {
    "ExecuteTime": {
     "start_time": "2021-10-28T16:31:50.443Z"
    }
   },
   "outputs": [],
   "source": [
    "news = text_preprocessing(news)"
   ]
  },
  {
   "cell_type": "code",
   "execution_count": null,
   "id": "7ed0f0d0",
   "metadata": {
    "ExecuteTime": {
     "start_time": "2021-10-28T16:31:57.061Z"
    }
   },
   "outputs": [],
   "source": [
    "target = target.values"
   ]
  },
  {
   "cell_type": "code",
   "execution_count": null,
   "id": "982c4b33",
   "metadata": {},
   "outputs": [],
   "source": []
  }
 ],
 "metadata": {
  "kernelspec": {
   "display_name": "NLP",
   "language": "python",
   "name": "nlp"
  },
  "language_info": {
   "codemirror_mode": {
    "name": "ipython",
    "version": 3
   },
   "file_extension": ".py",
   "mimetype": "text/x-python",
   "name": "python",
   "nbconvert_exporter": "python",
   "pygments_lexer": "ipython3",
   "version": "3.8.11"
  },
  "toc": {
   "base_numbering": 1,
   "nav_menu": {},
   "number_sections": false,
   "sideBar": true,
   "skip_h1_title": false,
   "title_cell": "Table of Contents",
   "title_sidebar": "Contents",
   "toc_cell": false,
   "toc_position": {},
   "toc_section_display": true,
   "toc_window_display": false
  },
  "varInspector": {
   "cols": {
    "lenName": 16,
    "lenType": 16,
    "lenVar": 40
   },
   "kernels_config": {
    "python": {
     "delete_cmd_postfix": "",
     "delete_cmd_prefix": "del ",
     "library": "var_list.py",
     "varRefreshCmd": "print(var_dic_list())"
    },
    "r": {
     "delete_cmd_postfix": ") ",
     "delete_cmd_prefix": "rm(",
     "library": "var_list.r",
     "varRefreshCmd": "cat(var_dic_list()) "
    }
   },
   "types_to_exclude": [
    "module",
    "function",
    "builtin_function_or_method",
    "instance",
    "_Feature"
   ],
   "window_display": false
  }
 },
 "nbformat": 4,
 "nbformat_minor": 5
}
