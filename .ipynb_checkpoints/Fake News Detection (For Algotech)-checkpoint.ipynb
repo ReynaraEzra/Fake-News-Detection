{
 "cells": [
  {
   "cell_type": "markdown",
   "id": "6d141687",
   "metadata": {
    "id": "6d141687"
   },
   "source": [
    "# Fake News Detection Using Bidirectional LSTM\n",
    "By : Reynara Ezra Pratama"
   ]
  },
  {
   "cell_type": "markdown",
   "id": "c4a54063",
   "metadata": {
    "id": "c4a54063"
   },
   "source": [
    "## Introduction"
   ]
  },
  {
   "cell_type": "markdown",
   "id": "dbb2b446",
   "metadata": {
    "id": "dbb2b446"
   },
   "source": [
    "<img src=\"https://raw.githubusercontent.com/ReynaraEzra/Fake-News-Detection/main/assets/deep_learning.png\" width=\"450\">\n",
    "\n",
    "Sumber Gambar : [UC Business Analytics R Programming Guide](http://uc-r.github.io/)"
   ]
  },
  {
   "cell_type": "markdown",
   "id": "d5c1c877",
   "metadata": {
    "id": "d5c1c877"
   },
   "source": [
    "*Deep Learning* adalah salah satu cabang *Machine Learning* yang memanfaatkan *Artificial Neural Network* atau Jaringan Saraf Tiruan (JST) untuk mensimulasikan fungsi otak manusia. Jaringan saraf tiruan terbentuk dari ribuan atau bahkan jutaan neuron yang saling terhubung dan ditumpuk ke dalam beberapa lapisan. Dalam sebuah jaringan saraf tiruan terdiri atas tiga jenis lapisan yaitu *input layer*, *hidden layer*, dan *output layer*."
   ]
  },
  {
   "cell_type": "markdown",
   "id": "429d5093",
   "metadata": {
    "id": "429d5093"
   },
   "source": [
    "<img src=\"https://raw.githubusercontent.com/ReynaraEzra/Fake-News-Detection/main/assets/nlp.png\" width=\"500\">\n",
    "\n",
    "Sumber Gambar : [Medium](https://medium.com/greyatom/introduction-to-natural-language-processing-78baac3c602b)"
   ]
  },
  {
   "cell_type": "markdown",
   "id": "27f8aac5",
   "metadata": {
    "id": "27f8aac5"
   },
   "source": [
    "*Natural Language Processing* atau dikenal dengan NLP adalah salah satu spesialisasi dari *Artificial Intelligence* (AI) yang berusaha untuk memahami dan mengilustrasikan mekanisme kognitif untuk memahami dan menghasilkan bahasa manusia. Melalui mekanisme tadi, NLP dapat digunakan untuk mengatasi jarak atau *gap* yang ada antara pemahaman komputer dan bahasa manusia. Dalam prakteknya, NLP berusaha untuk memproses dan menganalisis data dalam bentuk tekstual atau verbal dalam jumlah besar. Salah satu penerapan NLP adalah analisis sentimen, ekstraksi informasi, peringkasan teks, klasifikasi teks, dan pembuatan *chatbots* & *smart virtual assistants*."
   ]
  },
  {
   "cell_type": "markdown",
   "id": "9596d7e4",
   "metadata": {
    "id": "9596d7e4"
   },
   "source": [
    "## Learning Objective\n",
    "\n",
    "Adapun tujuan dari pembuatan artikel ini adalah :\n",
    "1. Mengetahui konsep dan cara kerja dari LSTM dan Bidirectional LSTM (BiLSTM)\n",
    "2. Implementasi BiLSTM pada permasalahan nyata"
   ]
  },
  {
   "cell_type": "markdown",
   "id": "289fcc4d",
   "metadata": {
    "id": "289fcc4d"
   },
   "source": [
    "## LSTM vs BiLSTM"
   ]
  },
  {
   "cell_type": "markdown",
   "id": "3a717182",
   "metadata": {
    "id": "3a717182"
   },
   "source": [
    "<img src=\"https://raw.githubusercontent.com/ReynaraEzra/Fake-News-Detection/main/assets/LSTM%20vs%20BiLSTM.png\" width=\"700\">\n",
    "\n",
    "Sumber Gambar : [Researchgate.net](https://www.researchgate.net/figure/LSTM-and-BiLSTM-Architectures_fig2_324769532)"
   ]
  },
  {
   "cell_type": "markdown",
   "id": "e132e7ac",
   "metadata": {
    "id": "e132e7ac"
   },
   "source": [
    "### LSTM"
   ]
  },
  {
   "cell_type": "markdown",
   "id": "b53771e6",
   "metadata": {
    "id": "b53771e6"
   },
   "source": [
    "Sebelum membahas LSTM, kita akan mempelejari terlebih dahulu terkait *Recurrent Neural Network* (RNN). RNN adalah salah satu arsitektur *neural network* yang umum digunakan untuk data sekuensial seperti data teks, *time series* data, *audio* data, dan lainnya. Secara umum arsitektur dari RNN adalah sebagai berikut."
   ]
  },
  {
   "cell_type": "markdown",
   "id": "fd81bb84",
   "metadata": {
    "ExecuteTime": {
     "end_time": "2021-10-30T10:05:26.843695Z",
     "start_time": "2021-10-30T10:05:21.832647Z"
    },
    "id": "fd81bb84"
   },
   "source": [
    "<img src=\"https://www.researchgate.net/profile/Weijiang-Feng/publication/318332317/figure/fig1/AS:614309562437664@1523474221928/The-standard-RNN-and-unfolded-RNN.png\" width=\"500\">\n",
    "\n",
    "Sumber Gambar : [Researchgate.net](https://www.researchgate.net/profile/Weijiang-Feng/publication/318332317/figure/fig1/AS:614309562437664@1523474221928/The-standard-RNN-and-unfolded-RNN.png)"
   ]
  },
  {
   "cell_type": "markdown",
   "id": "105fff1b",
   "metadata": {
    "id": "105fff1b"
   },
   "source": [
    "Adapun RNN mempunyai kelemahan yaitu belum mampu mengatasi masalah *vanishing/exploding gradient* dikarenakan masalah memori jangka pendek. Dikarenakan jumlah *layer* yang terlalu panjang, pada saat melakukan proses *backpropagation* menghasilkan nilai gradien yang sangat kecil atau bahkan mendekati 0 dan dianggap menghilang pada saat sampai di *layer* awal. Untuk mengatasi permasalahan tersebut, dikembangkan suatu model yang disebut *Long Short Term Memory* (LSTM). Pada LSTM sendiri mempunyai arsitektur yang sama dengan RNN yaitu sebagai berikut."
   ]
  },
  {
   "cell_type": "markdown",
   "id": "4ae76c63",
   "metadata": {
    "id": "4ae76c63"
   },
   "source": [
    "<img src=\"https://algotech.netlify.com/img/lstm-text/lstm.jpg\" width=\"700\">\n",
    "\n",
    "Sumber Gambar : [Algotech](https://algotech.netlify.app/blog/text-lstm/)"
   ]
  },
  {
   "cell_type": "markdown",
   "id": "6124c926",
   "metadata": {
    "id": "6124c926"
   },
   "source": [
    "Perbedaan antara RNN dan LSTM adalah LSTM mempunyai informasi sinyal tambahan yang diberikan dari satu langkah ke langkah waktu berikutnya yang biasa disebut *memory cell*. Komponen dari LSTM antara lain :\n",
    "1. **Forget Gate** : *Neural Network* dengan fungsi aktivasi *sigmoid* $(f)$\n",
    "2. **Candidate Layer** : *Neural Network* dengan fungsi aktivasi *tanh* $(g)$\n",
    "3. **Input Gate** : *Neural Network* dengan fungsi aktivasi *sigmoid* $(I)$\n",
    "4. **Output Gate** : *Neural Network* dengan fungsi aktivasi *sigmoid* $(O)$\n",
    "5. **Hidden State** : Vektor $(H)$\n",
    "6. **Memory State** : Vektor $(C)$"
   ]
  },
  {
   "cell_type": "markdown",
   "id": "ae28ecd8",
   "metadata": {
    "id": "ae28ecd8"
   },
   "source": [
    "<img src=\"https://algotech.netlify.app/img/lstm-text/lstmnet.png\" width=\"500\">\n",
    "\n",
    "Sumber Gambar : [Algotech](https://algotech.netlify.app/blog/text-lstm/)"
   ]
  },
  {
   "cell_type": "markdown",
   "id": "99b56389",
   "metadata": {
    "id": "99b56389"
   },
   "source": [
    "### Bidirectional LSTM (BiLSTM)"
   ]
  },
  {
   "cell_type": "markdown",
   "id": "64676dfc",
   "metadata": {
    "id": "64676dfc"
   },
   "source": [
    "*Bidirectional* LSTM atau BiLSTM pada dasarnya adalah menggunakan dua buah LSTM dari arah yang berlawanan. Struktur ini memungkinkan model yang kita bangun mempunyai informasi maju dan informasi mundur pada setiap langkah yang didefinisikan sebelumnya. Menggunakan dua arah akan memungkinkan kita menjalankan input yang dimiliki ke dalam dua cara yaitu (masa lalu ke masa depan) dan (masa depan ke masa lalu). "
   ]
  },
  {
   "cell_type": "markdown",
   "id": "86c69b78",
   "metadata": {
    "id": "86c69b78"
   },
   "source": [
    "<img src=\"https://production-media.paperswithcode.com/methods/Screen_Shot_2020-05-25_at_8.54.27_PM.png\" width=\"500\">\n",
    "\n",
    "Sumber Gambar : [paperswithcode](https://paperswithcode.com/method/bilstm)"
   ]
  },
  {
   "cell_type": "markdown",
   "id": "d31b0259",
   "metadata": {
    "id": "d31b0259"
   },
   "source": [
    "BiLSTM akan dapat memahami konteks dari data sequential dengan baik. Misalkan kita ingin melakukan prediksi kata apa yang akan muncul selanjutnya berdasarkan kata sebelumnya. Saat kita menggunakan metode LSTM maka kita akan mempunyai kata\n",
    "```\n",
    "   \"Saya akan pergi ke...\" \n",
    "```\n",
    "Kita akan memprediksi kata apa yang akan muncul setelah kalimat di atas dan akan banyak sekali kemungkinan yang bisa muncul jika melihat dari konteks kalimat yang ada. Sekarang, kita akan menggunakan metode BiLSTM sehingga kita mempunyai kata berdasarkan *Foward LSTM*\n",
    "```\n",
    "   \"Saya akan pergi ke...\"\n",
    "```\n",
    "dan *Backward LSTM* berupa\n",
    "```\n",
    "   \"...untuk belajar dengan guru.\"\n",
    "```\n",
    "Terlihat bahwa ketika kita mempunyai informasi dari arah yang berlainan, akan memudahkan kita untuk melakukan prediksi."
   ]
  },
  {
   "cell_type": "markdown",
   "id": "13ffcd3c",
   "metadata": {
    "id": "13ffcd3c"
   },
   "source": [
    "## Case Example Using BiLSTM"
   ]
  },
  {
   "cell_type": "markdown",
   "id": "adbd58de",
   "metadata": {
    "id": "adbd58de"
   },
   "source": [
    "### Background"
   ]
  },
  {
   "cell_type": "markdown",
   "id": "889d5cd0",
   "metadata": {
    "id": "889d5cd0"
   },
   "source": [
    "Berita palsu atau sering disebut berita *hoax* telah lama muncul bahkan sebelum teknologi berkembang seperti saat ini. Adapun berita *hoax* didefinisikan sebagai sebuah artikel fiktif yang dibuat sengaja dengan tujuan untuk menipu pembaca dengan tajuk yang menarik. Perkembangan teknologi memudahkan setiap orang untuk membaca sebuah artikel yang berada di internet. Untuk seseorang yang tidak bisa membedakan sebuah artikel adalah benar atau tidak, akan memercayai isi dari artikel tersebut dan menyebarkanya kepada teman atau orang di sekitarnya. Oleh karena itu, akan dibangun sebuah model *deep learning* untuk memprediksi apakah suatu artikel dapat dikategorikan sebagai *true news* atau *fake news* menggunakan *Bidirectional* LSTM. "
   ]
  },
  {
   "cell_type": "markdown",
   "id": "4d4c3c95",
   "metadata": {
    "id": "4d4c3c95"
   },
   "source": [
    "### Data Understanding"
   ]
  },
  {
   "cell_type": "markdown",
   "id": "63873cd1",
   "metadata": {
    "id": "63873cd1"
   },
   "source": [
    "Dalam melakukan analisis untuk membangun model prediksi, digunakan data yang berdasal dari [Kaggle](https://www.kaggle.com/clmentbisaillon/fake-and-real-news-dataset). Terdapat dua buah dataset yang kita gunakan yaitu `Fake.csv` dan `True.csv`. Dataset `Fake.csv` berisi kumpulan berita yang terindikasi *fake* atau hoax sementara dataset `True.csv` berisi kumpulan berita yang faktanya adalah benar.\n",
    "\n",
    "Terdapat 4 buah kolom pada kedua dataset yaitu `title`, `text`, `subject`, `date`.\n",
    "1. `title` : Judul berita \n",
    "2. `text` : Isi konten dari berita yang ada\n",
    "3. `subject` : Subjek dari artikel berita\n",
    "4. `date` : Tanggal artikel diterbitkan"
   ]
  },
  {
   "cell_type": "markdown",
   "id": "d24f1904",
   "metadata": {
    "id": "d24f1904"
   },
   "source": [
    "### Import Library"
   ]
  },
  {
   "cell_type": "code",
   "execution_count": 1,
   "id": "0b8480c5",
   "metadata": {
    "ExecuteTime": {
     "end_time": "2021-11-04T03:42:52.580031Z",
     "start_time": "2021-11-04T03:42:52.571508Z"
    },
    "colab": {
     "base_uri": "https://localhost:8080/"
    },
    "id": "0b8480c5",
    "outputId": "c81ed10f-668e-46ef-a461-3d22534cdb9a"
   },
   "outputs": [
    {
     "name": "stdout",
     "output_type": "stream",
     "text": [
      "[nltk_data] Downloading package stopwords to /root/nltk_data...\n",
      "[nltk_data]   Unzipping corpora/stopwords.zip.\n",
      "[nltk_data] Downloading package wordnet to /root/nltk_data...\n",
      "[nltk_data]   Unzipping corpora/wordnet.zip.\n"
     ]
    }
   ],
   "source": [
    "import itertools\n",
    "import collections\n",
    "\n",
    "import pandas as pd\n",
    "import numpy as np\n",
    "import matplotlib.pyplot as plt\n",
    "import seaborn as sns\n",
    "sns.set_theme()\n",
    "\n",
    "from sklearn.model_selection import train_test_split\n",
    "from sklearn.metrics import classification_report\n",
    "from sklearn.metrics import confusion_matrix\n",
    "from sklearn.metrics import accuracy_score\n",
    "\n",
    "import tensorflow as tf\n",
    "import nltk\n",
    "import re\n",
    "\n",
    "from tensorflow.keras.preprocessing.text import Tokenizer\n",
    "from tensorflow.keras.preprocessing.sequence import pad_sequences\n",
    "\n",
    "from nltk.corpus import stopwords\n",
    "from nltk.stem import WordNetLemmatizer\n",
    "nltk.download('stopwords')\n",
    "nltk.download('wordnet')\n",
    "\n",
    "import warnings \n",
    "warnings.filterwarnings('ignore')"
   ]
  },
  {
   "cell_type": "markdown",
   "id": "c9629898",
   "metadata": {
    "id": "c9629898"
   },
   "source": [
    "### Loading Dataset"
   ]
  },
  {
   "cell_type": "code",
   "execution_count": 3,
   "id": "eeb76eb4",
   "metadata": {
    "ExecuteTime": {
     "end_time": "2021-11-04T03:42:59.121206Z",
     "start_time": "2021-11-04T03:42:52.705853Z"
    },
    "id": "eeb76eb4"
   },
   "outputs": [],
   "source": [
    "fake = pd.read_csv('data_input/Fake.csv')\n",
    "true = pd.read_csv('data_input/True.csv')"
   ]
  },
  {
   "cell_type": "markdown",
   "id": "ebac2f62",
   "metadata": {
    "id": "ebac2f62"
   },
   "source": [
    "### Checking Dataset"
   ]
  },
  {
   "cell_type": "code",
   "execution_count": 4,
   "id": "bb8801b4",
   "metadata": {
    "ExecuteTime": {
     "end_time": "2021-11-04T03:42:59.136251Z",
     "start_time": "2021-11-04T03:42:59.122711Z"
    },
    "colab": {
     "base_uri": "https://localhost:8080/",
     "height": 0
    },
    "id": "bb8801b4",
    "outputId": "1038ac4e-61ba-40c6-f4ab-8ea900e03afd"
   },
   "outputs": [
    {
     "data": {
      "text/html": [
       "<div>\n",
       "<style scoped>\n",
       "    .dataframe tbody tr th:only-of-type {\n",
       "        vertical-align: middle;\n",
       "    }\n",
       "\n",
       "    .dataframe tbody tr th {\n",
       "        vertical-align: top;\n",
       "    }\n",
       "\n",
       "    .dataframe thead th {\n",
       "        text-align: right;\n",
       "    }\n",
       "</style>\n",
       "<table border=\"1\" class=\"dataframe\">\n",
       "  <thead>\n",
       "    <tr style=\"text-align: right;\">\n",
       "      <th></th>\n",
       "      <th>title</th>\n",
       "      <th>text</th>\n",
       "      <th>subject</th>\n",
       "      <th>date</th>\n",
       "    </tr>\n",
       "  </thead>\n",
       "  <tbody>\n",
       "    <tr>\n",
       "      <th>0</th>\n",
       "      <td>Donald Trump Sends Out Embarrassing New Year’...</td>\n",
       "      <td>Donald Trump just couldn t wish all Americans ...</td>\n",
       "      <td>News</td>\n",
       "      <td>December 31, 2017</td>\n",
       "    </tr>\n",
       "    <tr>\n",
       "      <th>1</th>\n",
       "      <td>Drunk Bragging Trump Staffer Started Russian ...</td>\n",
       "      <td>House Intelligence Committee Chairman Devin Nu...</td>\n",
       "      <td>News</td>\n",
       "      <td>December 31, 2017</td>\n",
       "    </tr>\n",
       "    <tr>\n",
       "      <th>2</th>\n",
       "      <td>Sheriff David Clarke Becomes An Internet Joke...</td>\n",
       "      <td>On Friday, it was revealed that former Milwauk...</td>\n",
       "      <td>News</td>\n",
       "      <td>December 30, 2017</td>\n",
       "    </tr>\n",
       "    <tr>\n",
       "      <th>3</th>\n",
       "      <td>Trump Is So Obsessed He Even Has Obama’s Name...</td>\n",
       "      <td>On Christmas day, Donald Trump announced that ...</td>\n",
       "      <td>News</td>\n",
       "      <td>December 29, 2017</td>\n",
       "    </tr>\n",
       "    <tr>\n",
       "      <th>4</th>\n",
       "      <td>Pope Francis Just Called Out Donald Trump Dur...</td>\n",
       "      <td>Pope Francis used his annual Christmas Day mes...</td>\n",
       "      <td>News</td>\n",
       "      <td>December 25, 2017</td>\n",
       "    </tr>\n",
       "  </tbody>\n",
       "</table>\n",
       "</div>"
      ],
      "text/plain": [
       "                                               title  ...               date\n",
       "0   Donald Trump Sends Out Embarrassing New Year’...  ...  December 31, 2017\n",
       "1   Drunk Bragging Trump Staffer Started Russian ...  ...  December 31, 2017\n",
       "2   Sheriff David Clarke Becomes An Internet Joke...  ...  December 30, 2017\n",
       "3   Trump Is So Obsessed He Even Has Obama’s Name...  ...  December 29, 2017\n",
       "4   Pope Francis Just Called Out Donald Trump Dur...  ...  December 25, 2017\n",
       "\n",
       "[5 rows x 4 columns]"
      ]
     },
     "execution_count": 4,
     "metadata": {},
     "output_type": "execute_result"
    }
   ],
   "source": [
    "fake.head()"
   ]
  },
  {
   "cell_type": "code",
   "execution_count": 5,
   "id": "b2f0c0a7",
   "metadata": {
    "ExecuteTime": {
     "end_time": "2021-11-04T03:42:59.227306Z",
     "start_time": "2021-11-04T03:42:59.147278Z"
    },
    "colab": {
     "base_uri": "https://localhost:8080/",
     "height": 0
    },
    "id": "b2f0c0a7",
    "outputId": "c90a0aee-b62a-4c3c-9239-e92dff897504"
   },
   "outputs": [
    {
     "data": {
      "text/html": [
       "<div>\n",
       "<style scoped>\n",
       "    .dataframe tbody tr th:only-of-type {\n",
       "        vertical-align: middle;\n",
       "    }\n",
       "\n",
       "    .dataframe tbody tr th {\n",
       "        vertical-align: top;\n",
       "    }\n",
       "\n",
       "    .dataframe thead th {\n",
       "        text-align: right;\n",
       "    }\n",
       "</style>\n",
       "<table border=\"1\" class=\"dataframe\">\n",
       "  <thead>\n",
       "    <tr style=\"text-align: right;\">\n",
       "      <th></th>\n",
       "      <th>title</th>\n",
       "      <th>text</th>\n",
       "      <th>subject</th>\n",
       "      <th>date</th>\n",
       "    </tr>\n",
       "  </thead>\n",
       "  <tbody>\n",
       "    <tr>\n",
       "      <th>0</th>\n",
       "      <td>As U.S. budget fight looms, Republicans flip t...</td>\n",
       "      <td>WASHINGTON (Reuters) - The head of a conservat...</td>\n",
       "      <td>politicsNews</td>\n",
       "      <td>December 31, 2017</td>\n",
       "    </tr>\n",
       "    <tr>\n",
       "      <th>1</th>\n",
       "      <td>U.S. military to accept transgender recruits o...</td>\n",
       "      <td>WASHINGTON (Reuters) - Transgender people will...</td>\n",
       "      <td>politicsNews</td>\n",
       "      <td>December 29, 2017</td>\n",
       "    </tr>\n",
       "    <tr>\n",
       "      <th>2</th>\n",
       "      <td>Senior U.S. Republican senator: 'Let Mr. Muell...</td>\n",
       "      <td>WASHINGTON (Reuters) - The special counsel inv...</td>\n",
       "      <td>politicsNews</td>\n",
       "      <td>December 31, 2017</td>\n",
       "    </tr>\n",
       "    <tr>\n",
       "      <th>3</th>\n",
       "      <td>FBI Russia probe helped by Australian diplomat...</td>\n",
       "      <td>WASHINGTON (Reuters) - Trump campaign adviser ...</td>\n",
       "      <td>politicsNews</td>\n",
       "      <td>December 30, 2017</td>\n",
       "    </tr>\n",
       "    <tr>\n",
       "      <th>4</th>\n",
       "      <td>Trump wants Postal Service to charge 'much mor...</td>\n",
       "      <td>SEATTLE/WASHINGTON (Reuters) - President Donal...</td>\n",
       "      <td>politicsNews</td>\n",
       "      <td>December 29, 2017</td>\n",
       "    </tr>\n",
       "  </tbody>\n",
       "</table>\n",
       "</div>"
      ],
      "text/plain": [
       "                                               title  ...                date\n",
       "0  As U.S. budget fight looms, Republicans flip t...  ...  December 31, 2017 \n",
       "1  U.S. military to accept transgender recruits o...  ...  December 29, 2017 \n",
       "2  Senior U.S. Republican senator: 'Let Mr. Muell...  ...  December 31, 2017 \n",
       "3  FBI Russia probe helped by Australian diplomat...  ...  December 30, 2017 \n",
       "4  Trump wants Postal Service to charge 'much mor...  ...  December 29, 2017 \n",
       "\n",
       "[5 rows x 4 columns]"
      ]
     },
     "execution_count": 5,
     "metadata": {},
     "output_type": "execute_result"
    }
   ],
   "source": [
    "true.head()"
   ]
  },
  {
   "cell_type": "markdown",
   "id": "6CrRSEV0y9Xk",
   "metadata": {
    "id": "6CrRSEV0y9Xk"
   },
   "source": [
    "### Text Preprocessing"
   ]
  },
  {
   "cell_type": "markdown",
   "id": "01dae0e4",
   "metadata": {
    "id": "01dae0e4"
   },
   "source": [
    "Pertama akan dibuat kolom `label` yang akan bernilai 1 untuk *dataframe* `fake` dan 0 untuk *dataframe* `true`. Selanjutnya bangun objek `data` yang menggabungkan *dataframe* `fake` dan `true`."
   ]
  },
  {
   "cell_type": "code",
   "execution_count": 6,
   "id": "06ec7693",
   "metadata": {
    "ExecuteTime": {
     "end_time": "2021-11-04T03:42:59.327450Z",
     "start_time": "2021-11-04T03:42:59.231319Z"
    },
    "colab": {
     "base_uri": "https://localhost:8080/",
     "height": 204
    },
    "id": "06ec7693",
    "outputId": "a19c7a4a-b241-4015-9c2e-6cd527b0b5a2"
   },
   "outputs": [
    {
     "data": {
      "text/html": [
       "<div>\n",
       "<style scoped>\n",
       "    .dataframe tbody tr th:only-of-type {\n",
       "        vertical-align: middle;\n",
       "    }\n",
       "\n",
       "    .dataframe tbody tr th {\n",
       "        vertical-align: top;\n",
       "    }\n",
       "\n",
       "    .dataframe thead th {\n",
       "        text-align: right;\n",
       "    }\n",
       "</style>\n",
       "<table border=\"1\" class=\"dataframe\">\n",
       "  <thead>\n",
       "    <tr style=\"text-align: right;\">\n",
       "      <th></th>\n",
       "      <th>title</th>\n",
       "      <th>text</th>\n",
       "      <th>subject</th>\n",
       "      <th>date</th>\n",
       "      <th>label</th>\n",
       "    </tr>\n",
       "  </thead>\n",
       "  <tbody>\n",
       "    <tr>\n",
       "      <th>0</th>\n",
       "      <td>Donald Trump Sends Out Embarrassing New Year’...</td>\n",
       "      <td>Donald Trump just couldn t wish all Americans ...</td>\n",
       "      <td>News</td>\n",
       "      <td>December 31, 2017</td>\n",
       "      <td>1</td>\n",
       "    </tr>\n",
       "    <tr>\n",
       "      <th>1</th>\n",
       "      <td>Drunk Bragging Trump Staffer Started Russian ...</td>\n",
       "      <td>House Intelligence Committee Chairman Devin Nu...</td>\n",
       "      <td>News</td>\n",
       "      <td>December 31, 2017</td>\n",
       "      <td>1</td>\n",
       "    </tr>\n",
       "    <tr>\n",
       "      <th>2</th>\n",
       "      <td>Sheriff David Clarke Becomes An Internet Joke...</td>\n",
       "      <td>On Friday, it was revealed that former Milwauk...</td>\n",
       "      <td>News</td>\n",
       "      <td>December 30, 2017</td>\n",
       "      <td>1</td>\n",
       "    </tr>\n",
       "    <tr>\n",
       "      <th>3</th>\n",
       "      <td>Trump Is So Obsessed He Even Has Obama’s Name...</td>\n",
       "      <td>On Christmas day, Donald Trump announced that ...</td>\n",
       "      <td>News</td>\n",
       "      <td>December 29, 2017</td>\n",
       "      <td>1</td>\n",
       "    </tr>\n",
       "    <tr>\n",
       "      <th>4</th>\n",
       "      <td>Pope Francis Just Called Out Donald Trump Dur...</td>\n",
       "      <td>Pope Francis used his annual Christmas Day mes...</td>\n",
       "      <td>News</td>\n",
       "      <td>December 25, 2017</td>\n",
       "      <td>1</td>\n",
       "    </tr>\n",
       "  </tbody>\n",
       "</table>\n",
       "</div>"
      ],
      "text/plain": [
       "                                               title  ... label\n",
       "0   Donald Trump Sends Out Embarrassing New Year’...  ...     1\n",
       "1   Drunk Bragging Trump Staffer Started Russian ...  ...     1\n",
       "2   Sheriff David Clarke Becomes An Internet Joke...  ...     1\n",
       "3   Trump Is So Obsessed He Even Has Obama’s Name...  ...     1\n",
       "4   Pope Francis Just Called Out Donald Trump Dur...  ...     1\n",
       "\n",
       "[5 rows x 5 columns]"
      ]
     },
     "execution_count": 6,
     "metadata": {},
     "output_type": "execute_result"
    }
   ],
   "source": [
    "fake['label'] = 1\n",
    "true['label'] = 0\n",
    "data = pd.concat([fake, true])\n",
    "data = data.reset_index(drop=True)\n",
    "data.head()"
   ]
  },
  {
   "cell_type": "code",
   "execution_count": 7,
   "id": "aac20bb4",
   "metadata": {
    "ExecuteTime": {
     "end_time": "2021-11-04T03:42:59.451313Z",
     "start_time": "2021-11-04T03:42:59.331458Z"
    },
    "colab": {
     "base_uri": "https://localhost:8080/"
    },
    "id": "aac20bb4",
    "outputId": "477a6255-999e-4430-a755-6dce874ec053"
   },
   "outputs": [
    {
     "name": "stdout",
     "output_type": "stream",
     "text": [
      "<class 'pandas.core.frame.DataFrame'>\n",
      "RangeIndex: 44898 entries, 0 to 44897\n",
      "Data columns (total 5 columns):\n",
      " #   Column   Non-Null Count  Dtype \n",
      "---  ------   --------------  ----- \n",
      " 0   title    44898 non-null  object\n",
      " 1   text     44898 non-null  object\n",
      " 2   subject  44898 non-null  object\n",
      " 3   date     44898 non-null  object\n",
      " 4   label    44898 non-null  int64 \n",
      "dtypes: int64(1), object(4)\n",
      "memory usage: 1.7+ MB\n"
     ]
    }
   ],
   "source": [
    "data.info()"
   ]
  },
  {
   "cell_type": "markdown",
   "id": "c258b201",
   "metadata": {
    "id": "c258b201"
   },
   "source": [
    "Terlihat bahwa terdapat 44898 artikel yang ada pada `data` dengan total 5 buah kolom yang terdiri atas 1 kolom bertipe *integer* dan 4 kolom bertipe *object*."
   ]
  },
  {
   "cell_type": "markdown",
   "id": "e1a03416",
   "metadata": {
    "id": "e1a03416"
   },
   "source": [
    "Definisikan fungsi `make_count_plot` untuk kebutuhan visualisasi."
   ]
  },
  {
   "cell_type": "code",
   "execution_count": 8,
   "id": "8aac8449",
   "metadata": {
    "ExecuteTime": {
     "end_time": "2021-11-04T03:42:59.578148Z",
     "start_time": "2021-11-04T03:42:59.453820Z"
    },
    "id": "8aac8449"
   },
   "outputs": [],
   "source": [
    "def make_count_plot(data, xlabel, size_x, size_y):\n",
    "    plt.figure(figsize=(size_x, size_y))\n",
    "    p = sns.countplot(data)\n",
    "    plt.xlabel(xlabel, fontsize=12)\n",
    "    p.set_xticklabels(['True News', 'Fake News'])\n",
    "    plt.ylabel('Frequency', fontsize=12)\n",
    "    plt.title(f'Number of Article Based on {xlabel}', fontsize=15)\n",
    "    plt.show()"
   ]
  },
  {
   "cell_type": "code",
   "execution_count": 9,
   "id": "2a3a967b",
   "metadata": {
    "ExecuteTime": {
     "end_time": "2021-11-04T03:42:59.817132Z",
     "start_time": "2021-11-04T03:42:59.582121Z"
    },
    "colab": {
     "base_uri": "https://localhost:8080/",
     "height": 480
    },
    "id": "2a3a967b",
    "outputId": "f027b7c6-4c9b-4155-8438-1d9fd438be6c"
   },
   "outputs": [
    {
     "data": {
      "image/png": "[encoded data removed]",
      "text/plain": [
       "<Figure size 432x432 with 1 Axes>"
      ]
     },
     "metadata": {
      "needs_background": "light"
     },
     "output_type": "display_data"
    },
    {
     "name": "stdout",
     "output_type": "stream",
     "text": [
      "Jumlah Artikel yang dikategorikan Fake News : 23481\n",
      "Jumlah Artikel yang dikategorikan True News : 21417\n",
      "Persentase Artikel yang dikategorikan Fake News : 52.30%\n",
      "Persentase Artikel yang dikategorikan True News : 47.70%\n"
     ]
    }
   ],
   "source": [
    "make_count_plot(data['label'], 'Label', 6, 6)\n",
    "print(f\"Jumlah Artikel yang dikategorikan Fake News : {data[data['label']==1].shape[0]}\")\n",
    "print(f\"Jumlah Artikel yang dikategorikan True News : {data[data['label']==0].shape[0]}\")\n",
    "\n",
    "print('Persentase Artikel yang dikategorikan Fake News : {:.2f}%'.format(sum(data['label']==1)/data.shape[0]*100))\n",
    "print('Persentase Artikel yang dikategorikan True News : {:.2f}%'.format(sum(data['label']==0)/data.shape[0]*100))"
   ]
  },
  {
   "cell_type": "markdown",
   "id": "444c63e4",
   "metadata": {
    "id": "444c63e4"
   },
   "source": [
    "Jumlah artikel yang dikategorikan ke dalam *Fake News* dan *True News* sudah seimbang, maka tidak perlu dilakukan proses *downsampling* atau *upsampling* pada data."
   ]
  },
  {
   "cell_type": "markdown",
   "id": "4bc87484",
   "metadata": {
    "id": "4bc87484"
   },
   "source": [
    "Dikarenakan kita ingin memprediksi sebuah artikel dikategorikan sebagai *true news* atau *fake news*, kita akan membuang kolom `subject` dan `date` karena tidak memuat informasi yang dibutuhkan. Kolom `title` tidak dibuang karena nanti berisi informasi pendukung untuk mengkategorikan suatu artikel adalah *true news* atau *fake news*."
   ]
  },
  {
   "cell_type": "code",
   "execution_count": 10,
   "id": "3b4fb42c",
   "metadata": {
    "ExecuteTime": {
     "end_time": "2021-11-04T03:42:59.849308Z",
     "start_time": "2021-11-04T03:42:59.819138Z"
    },
    "id": "3b4fb42c"
   },
   "outputs": [],
   "source": [
    "df = data.drop(['subject', 'date'], axis=1)"
   ]
  },
  {
   "cell_type": "code",
   "execution_count": 11,
   "id": "5a30cd7d",
   "metadata": {
    "ExecuteTime": {
     "end_time": "2021-11-04T03:42:59.949653Z",
     "start_time": "2021-11-04T03:42:59.853714Z"
    },
    "colab": {
     "base_uri": "https://localhost:8080/",
     "height": 204
    },
    "id": "5a30cd7d",
    "outputId": "daea249a-177b-4dba-9dae-ee3888b9020d"
   },
   "outputs": [
    {
     "data": {
      "text/html": [
       "<div>\n",
       "<style scoped>\n",
       "    .dataframe tbody tr th:only-of-type {\n",
       "        vertical-align: middle;\n",
       "    }\n",
       "\n",
       "    .dataframe tbody tr th {\n",
       "        vertical-align: top;\n",
       "    }\n",
       "\n",
       "    .dataframe thead th {\n",
       "        text-align: right;\n",
       "    }\n",
       "</style>\n",
       "<table border=\"1\" class=\"dataframe\">\n",
       "  <thead>\n",
       "    <tr style=\"text-align: right;\">\n",
       "      <th></th>\n",
       "      <th>title</th>\n",
       "      <th>text</th>\n",
       "      <th>label</th>\n",
       "    </tr>\n",
       "  </thead>\n",
       "  <tbody>\n",
       "    <tr>\n",
       "      <th>0</th>\n",
       "      <td>Donald Trump Sends Out Embarrassing New Year’...</td>\n",
       "      <td>Donald Trump just couldn t wish all Americans ...</td>\n",
       "      <td>1</td>\n",
       "    </tr>\n",
       "    <tr>\n",
       "      <th>1</th>\n",
       "      <td>Drunk Bragging Trump Staffer Started Russian ...</td>\n",
       "      <td>House Intelligence Committee Chairman Devin Nu...</td>\n",
       "      <td>1</td>\n",
       "    </tr>\n",
       "    <tr>\n",
       "      <th>2</th>\n",
       "      <td>Sheriff David Clarke Becomes An Internet Joke...</td>\n",
       "      <td>On Friday, it was revealed that former Milwauk...</td>\n",
       "      <td>1</td>\n",
       "    </tr>\n",
       "    <tr>\n",
       "      <th>3</th>\n",
       "      <td>Trump Is So Obsessed He Even Has Obama’s Name...</td>\n",
       "      <td>On Christmas day, Donald Trump announced that ...</td>\n",
       "      <td>1</td>\n",
       "    </tr>\n",
       "    <tr>\n",
       "      <th>4</th>\n",
       "      <td>Pope Francis Just Called Out Donald Trump Dur...</td>\n",
       "      <td>Pope Francis used his annual Christmas Day mes...</td>\n",
       "      <td>1</td>\n",
       "    </tr>\n",
       "  </tbody>\n",
       "</table>\n",
       "</div>"
      ],
      "text/plain": [
       "                                               title  ... label\n",
       "0   Donald Trump Sends Out Embarrassing New Year’...  ...     1\n",
       "1   Drunk Bragging Trump Staffer Started Russian ...  ...     1\n",
       "2   Sheriff David Clarke Becomes An Internet Joke...  ...     1\n",
       "3   Trump Is So Obsessed He Even Has Obama’s Name...  ...     1\n",
       "4   Pope Francis Just Called Out Donald Trump Dur...  ...     1\n",
       "\n",
       "[5 rows x 3 columns]"
      ]
     },
     "execution_count": 11,
     "metadata": {},
     "output_type": "execute_result"
    }
   ],
   "source": [
    "df.head()"
   ]
  },
  {
   "cell_type": "markdown",
   "id": "37c5c395",
   "metadata": {
    "id": "37c5c395"
   },
   "source": [
    "Gabungkan judul yang ada pada kolom `title` dan isi artikel yang ada pada kolom `text` ke dalam kolom baru `content`."
   ]
  },
  {
   "cell_type": "code",
   "execution_count": 12,
   "id": "8e200dd2",
   "metadata": {
    "ExecuteTime": {
     "end_time": "2021-11-04T03:43:00.173470Z",
     "start_time": "2021-11-04T03:42:59.952160Z"
    },
    "id": "8e200dd2"
   },
   "outputs": [],
   "source": [
    "df['content'] = df['title'] + ' ' + df['text']"
   ]
  },
  {
   "cell_type": "code",
   "execution_count": 13,
   "id": "3d7194a6",
   "metadata": {
    "ExecuteTime": {
     "end_time": "2021-11-04T03:43:00.310770Z",
     "start_time": "2021-11-04T03:43:00.175485Z"
    },
    "colab": {
     "base_uri": "https://localhost:8080/",
     "height": 204
    },
    "id": "3d7194a6",
    "outputId": "39467ff0-b262-4e9f-ecd7-2a664bb4380e"
   },
   "outputs": [
    {
     "data": {
      "text/html": [
       "<div>\n",
       "<style scoped>\n",
       "    .dataframe tbody tr th:only-of-type {\n",
       "        vertical-align: middle;\n",
       "    }\n",
       "\n",
       "    .dataframe tbody tr th {\n",
       "        vertical-align: top;\n",
       "    }\n",
       "\n",
       "    .dataframe thead th {\n",
       "        text-align: right;\n",
       "    }\n",
       "</style>\n",
       "<table border=\"1\" class=\"dataframe\">\n",
       "  <thead>\n",
       "    <tr style=\"text-align: right;\">\n",
       "      <th></th>\n",
       "      <th>title</th>\n",
       "      <th>text</th>\n",
       "      <th>label</th>\n",
       "      <th>content</th>\n",
       "    </tr>\n",
       "  </thead>\n",
       "  <tbody>\n",
       "    <tr>\n",
       "      <th>0</th>\n",
       "      <td>Donald Trump Sends Out Embarrassing New Year’...</td>\n",
       "      <td>Donald Trump just couldn t wish all Americans ...</td>\n",
       "      <td>1</td>\n",
       "      <td>Donald Trump Sends Out Embarrassing New Year’...</td>\n",
       "    </tr>\n",
       "    <tr>\n",
       "      <th>1</th>\n",
       "      <td>Drunk Bragging Trump Staffer Started Russian ...</td>\n",
       "      <td>House Intelligence Committee Chairman Devin Nu...</td>\n",
       "      <td>1</td>\n",
       "      <td>Drunk Bragging Trump Staffer Started Russian ...</td>\n",
       "    </tr>\n",
       "    <tr>\n",
       "      <th>2</th>\n",
       "      <td>Sheriff David Clarke Becomes An Internet Joke...</td>\n",
       "      <td>On Friday, it was revealed that former Milwauk...</td>\n",
       "      <td>1</td>\n",
       "      <td>Sheriff David Clarke Becomes An Internet Joke...</td>\n",
       "    </tr>\n",
       "    <tr>\n",
       "      <th>3</th>\n",
       "      <td>Trump Is So Obsessed He Even Has Obama’s Name...</td>\n",
       "      <td>On Christmas day, Donald Trump announced that ...</td>\n",
       "      <td>1</td>\n",
       "      <td>Trump Is So Obsessed He Even Has Obama’s Name...</td>\n",
       "    </tr>\n",
       "    <tr>\n",
       "      <th>4</th>\n",
       "      <td>Pope Francis Just Called Out Donald Trump Dur...</td>\n",
       "      <td>Pope Francis used his annual Christmas Day mes...</td>\n",
       "      <td>1</td>\n",
       "      <td>Pope Francis Just Called Out Donald Trump Dur...</td>\n",
       "    </tr>\n",
       "  </tbody>\n",
       "</table>\n",
       "</div>"
      ],
      "text/plain": [
       "                                               title  ...                                            content\n",
       "0   Donald Trump Sends Out Embarrassing New Year’...  ...   Donald Trump Sends Out Embarrassing New Year’...\n",
       "1   Drunk Bragging Trump Staffer Started Russian ...  ...   Drunk Bragging Trump Staffer Started Russian ...\n",
       "2   Sheriff David Clarke Becomes An Internet Joke...  ...   Sheriff David Clarke Becomes An Internet Joke...\n",
       "3   Trump Is So Obsessed He Even Has Obama’s Name...  ...   Trump Is So Obsessed He Even Has Obama’s Name...\n",
       "4   Pope Francis Just Called Out Donald Trump Dur...  ...   Pope Francis Just Called Out Donald Trump Dur...\n",
       "\n",
       "[5 rows x 4 columns]"
      ]
     },
     "execution_count": 13,
     "metadata": {},
     "output_type": "execute_result"
    }
   ],
   "source": [
    "df.head()"
   ]
  },
  {
   "cell_type": "markdown",
   "id": "1b5d1adf",
   "metadata": {
    "id": "1b5d1adf"
   },
   "source": [
    "Dikarenakan sudah dilakukan penggabungan, kolom `title` dan `text` dapat dibuang."
   ]
  },
  {
   "cell_type": "code",
   "execution_count": 14,
   "id": "9ce1625e",
   "metadata": {
    "ExecuteTime": {
     "end_time": "2021-11-04T03:43:00.427181Z",
     "start_time": "2021-11-04T03:43:00.313278Z"
    },
    "id": "9ce1625e"
   },
   "outputs": [],
   "source": [
    "df = df.drop(['title', 'text'], axis=1)[['content', 'label']]"
   ]
  },
  {
   "cell_type": "code",
   "execution_count": 15,
   "id": "daaafbf9",
   "metadata": {
    "ExecuteTime": {
     "end_time": "2021-11-04T03:43:00.531179Z",
     "start_time": "2021-11-04T03:43:00.429688Z"
    },
    "colab": {
     "base_uri": "https://localhost:8080/",
     "height": 204
    },
    "id": "daaafbf9",
    "outputId": "409e1cce-2ba2-4c75-c9fe-f5dcdee0fd67"
   },
   "outputs": [
    {
     "data": {
      "text/html": [
       "<div>\n",
       "<style scoped>\n",
       "    .dataframe tbody tr th:only-of-type {\n",
       "        vertical-align: middle;\n",
       "    }\n",
       "\n",
       "    .dataframe tbody tr th {\n",
       "        vertical-align: top;\n",
       "    }\n",
       "\n",
       "    .dataframe thead th {\n",
       "        text-align: right;\n",
       "    }\n",
       "</style>\n",
       "<table border=\"1\" class=\"dataframe\">\n",
       "  <thead>\n",
       "    <tr style=\"text-align: right;\">\n",
       "      <th></th>\n",
       "      <th>content</th>\n",
       "      <th>label</th>\n",
       "    </tr>\n",
       "  </thead>\n",
       "  <tbody>\n",
       "    <tr>\n",
       "      <th>0</th>\n",
       "      <td>Donald Trump Sends Out Embarrassing New Year’...</td>\n",
       "      <td>1</td>\n",
       "    </tr>\n",
       "    <tr>\n",
       "      <th>1</th>\n",
       "      <td>Drunk Bragging Trump Staffer Started Russian ...</td>\n",
       "      <td>1</td>\n",
       "    </tr>\n",
       "    <tr>\n",
       "      <th>2</th>\n",
       "      <td>Sheriff David Clarke Becomes An Internet Joke...</td>\n",
       "      <td>1</td>\n",
       "    </tr>\n",
       "    <tr>\n",
       "      <th>3</th>\n",
       "      <td>Trump Is So Obsessed He Even Has Obama’s Name...</td>\n",
       "      <td>1</td>\n",
       "    </tr>\n",
       "    <tr>\n",
       "      <th>4</th>\n",
       "      <td>Pope Francis Just Called Out Donald Trump Dur...</td>\n",
       "      <td>1</td>\n",
       "    </tr>\n",
       "  </tbody>\n",
       "</table>\n",
       "</div>"
      ],
      "text/plain": [
       "                                             content  label\n",
       "0   Donald Trump Sends Out Embarrassing New Year’...      1\n",
       "1   Drunk Bragging Trump Staffer Started Russian ...      1\n",
       "2   Sheriff David Clarke Becomes An Internet Joke...      1\n",
       "3   Trump Is So Obsessed He Even Has Obama’s Name...      1\n",
       "4   Pope Francis Just Called Out Donald Trump Dur...      1"
      ]
     },
     "execution_count": 15,
     "metadata": {},
     "output_type": "execute_result"
    }
   ],
   "source": [
    "df.head()"
   ]
  },
  {
   "cell_type": "markdown",
   "id": "175d8af1",
   "metadata": {},
   "source": [
    "Definisikan objek `lemmatizer` yang memanggil *class* `WordNetLemmatizer()` dan objek `stop_en` yang menyimpan seluruh *stopwords* dalam Bahasa Inggris."
   ]
  },
  {
   "cell_type": "code",
   "execution_count": 16,
   "id": "f3c331f4",
   "metadata": {
    "ExecuteTime": {
     "end_time": "2021-11-04T03:43:00.706400Z",
     "start_time": "2021-11-04T03:43:00.534189Z"
    },
    "id": "f3c331f4"
   },
   "outputs": [],
   "source": [
    "lemmatizer = WordNetLemmatizer()\n",
    "stop_en = stopwords.words('english')"
   ]
  },
  {
   "cell_type": "markdown",
   "id": "0da60780",
   "metadata": {
    "id": "0da60780"
   },
   "source": [
    "Definisikan fungsi `text_preprocessing` yang akan melakukan *processing* pada teks dengan membuang karakter selain huruf, mengubah karakter menjadi *lower case*, membuang *stop words*, dan melakukan proses lemmatisasi untuk mengembalikan kata kepada kata dasarnya."
   ]
  },
  {
   "cell_type": "code",
   "execution_count": 17,
   "id": "6a30e867",
   "metadata": {
    "ExecuteTime": {
     "end_time": "2021-11-04T03:43:00.743986Z",
     "start_time": "2021-11-04T03:43:00.708124Z"
    },
    "id": "6a30e867"
   },
   "outputs": [],
   "source": [
    "def text_preprocessing(texts):\n",
    "    text_list = []\n",
    "    for i in range(len(texts)):\n",
    "        text_process = re.sub('[^a-zA-Z]', ' ', texts[i]).lower().split()\n",
    "        text_process = [word for word in text_process if not word in stop_en]\n",
    "        text_process = [lemmatizer.lemmatize(word) for word in text_process]\n",
    "        combined = ''\n",
    "        for text in text_process:\n",
    "            combined = combined + text + ' '\n",
    "        text_list.append(combined)\n",
    "    return text_list"
   ]
  },
  {
   "cell_type": "markdown",
   "id": "4b01c2dd",
   "metadata": {
    "id": "4b01c2dd"
   },
   "source": [
    "Dilakukan proses pengacakan pada dataset."
   ]
  },
  {
   "cell_type": "code",
   "execution_count": 18,
   "id": "nlD9T0Dj1Lft",
   "metadata": {
    "ExecuteTime": {
     "end_time": "2021-11-04T03:43:00.888134Z",
     "start_time": "2021-11-04T03:43:00.746996Z"
    },
    "id": "nlD9T0Dj1Lft"
   },
   "outputs": [],
   "source": [
    "df = df.sample(frac=1).reset_index(drop=True)"
   ]
  },
  {
   "cell_type": "code",
   "execution_count": 19,
   "id": "becf964c",
   "metadata": {
    "ExecuteTime": {
     "end_time": "2021-11-04T03:43:00.979246Z",
     "start_time": "2021-11-04T03:43:00.890351Z"
    },
    "id": "becf964c"
   },
   "outputs": [],
   "source": [
    "news = df['content'].copy()\n",
    "target = df['label'].copy()"
   ]
  },
  {
   "cell_type": "markdown",
   "id": "13189584",
   "metadata": {
    "id": "13189584"
   },
   "source": [
    "Lakukan *preprocessing* pada teks dan simpan ke dalam `news`. Selain itu simpan nilai label dari artikel tersebut ke dalam `target`."
   ]
  },
  {
   "cell_type": "code",
   "execution_count": 20,
   "id": "3a1b97e1",
   "metadata": {
    "ExecuteTime": {
     "end_time": "2021-11-04T03:44:47.660646Z",
     "start_time": "2021-11-04T03:43:00.981751Z"
    },
    "id": "3a1b97e1"
   },
   "outputs": [],
   "source": [
    "news = text_preprocessing(news)"
   ]
  },
  {
   "cell_type": "code",
   "execution_count": 21,
   "id": "7ed0f0d0",
   "metadata": {
    "ExecuteTime": {
     "end_time": "2021-11-04T03:44:47.667301Z",
     "start_time": "2021-11-04T03:44:47.662789Z"
    },
    "id": "7ed0f0d0"
   },
   "outputs": [],
   "source": [
    "target = target.values"
   ]
  },
  {
   "cell_type": "markdown",
   "id": "_MfUhtcEYxIF",
   "metadata": {
    "id": "_MfUhtcEYxIF"
   },
   "source": [
    "### Build Model"
   ]
  },
  {
   "cell_type": "markdown",
   "id": "0cc9af10",
   "metadata": {
    "id": "0cc9af10"
   },
   "source": [
    "Sebelum membangun model, akan dibagi dataset kita ke dalam train data dan test data dengan proporsi train data sebanyak 80% dan test data sebanyak 20%."
   ]
  },
  {
   "cell_type": "code",
   "execution_count": 22,
   "id": "982c4b33",
   "metadata": {
    "ExecuteTime": {
     "end_time": "2021-11-04T03:44:47.914591Z",
     "start_time": "2021-11-04T03:44:47.669808Z"
    },
    "id": "982c4b33"
   },
   "outputs": [],
   "source": [
    "X_train, X_test, y_train, y_test = train_test_split(news, target, test_size=0.2, random_state=0)"
   ]
  },
  {
   "cell_type": "markdown",
   "id": "158a7ea1",
   "metadata": {},
   "source": [
    "Sebelum memasuki proses tokenisasi, kita perlu melihat frekuensi kemunculan dari tiap kata yang ada pada artikel untuk menentukan parameter `num_words` yang sesuai."
   ]
  },
  {
   "cell_type": "code",
   "execution_count": 23,
   "id": "bf9002e3",
   "metadata": {
    "ExecuteTime": {
     "end_time": "2021-11-04T03:44:47.933469Z",
     "start_time": "2021-11-04T03:44:47.916250Z"
    },
    "id": "bf9002e3"
   },
   "outputs": [],
   "source": [
    "def combine_list(list_text):\n",
    "    all_list = []\n",
    "    for i in range(len(list_text)):\n",
    "        all_list += list_text[i].split()\n",
    "    return all_list"
   ]
  },
  {
   "cell_type": "code",
   "execution_count": 24,
   "id": "93f4aa1b",
   "metadata": {
    "ExecuteTime": {
     "end_time": "2021-11-04T03:46:22.830034Z",
     "start_time": "2021-11-04T03:46:09.231857Z"
    },
    "colab": {
     "base_uri": "https://localhost:8080/",
     "height": 204
    },
    "id": "93f4aa1b",
    "outputId": "e02f7951-0860-46ab-c16e-6f7192b6495e"
   },
   "outputs": [
    {
     "data": {
      "text/html": [
       "<div>\n",
       "<style scoped>\n",
       "    .dataframe tbody tr th:only-of-type {\n",
       "        vertical-align: middle;\n",
       "    }\n",
       "\n",
       "    .dataframe tbody tr th {\n",
       "        vertical-align: top;\n",
       "    }\n",
       "\n",
       "    .dataframe thead th {\n",
       "        text-align: right;\n",
       "    }\n",
       "</style>\n",
       "<table border=\"1\" class=\"dataframe\">\n",
       "  <thead>\n",
       "    <tr style=\"text-align: right;\">\n",
       "      <th></th>\n",
       "      <th>Word</th>\n",
       "      <th>Frequency</th>\n",
       "    </tr>\n",
       "  </thead>\n",
       "  <tbody>\n",
       "    <tr>\n",
       "      <th>0</th>\n",
       "      <td>kellyanne</td>\n",
       "      <td>541</td>\n",
       "    </tr>\n",
       "    <tr>\n",
       "      <th>1</th>\n",
       "      <td>conway</td>\n",
       "      <td>1221</td>\n",
       "    </tr>\n",
       "    <tr>\n",
       "      <th>2</th>\n",
       "      <td>lash</td>\n",
       "      <td>104</td>\n",
       "    </tr>\n",
       "    <tr>\n",
       "      <th>3</th>\n",
       "      <td>alma</td>\n",
       "      <td>23</td>\n",
       "    </tr>\n",
       "    <tr>\n",
       "      <th>4</th>\n",
       "      <td>mater</td>\n",
       "      <td>27</td>\n",
       "    </tr>\n",
       "  </tbody>\n",
       "</table>\n",
       "</div>"
      ],
      "text/plain": [
       "        Word  Frequency\n",
       "0  kellyanne        541\n",
       "1     conway       1221\n",
       "2       lash        104\n",
       "3       alma         23\n",
       "4      mater         27"
      ]
     },
     "execution_count": 24,
     "metadata": {},
     "output_type": "execute_result"
    }
   ],
   "source": [
    "list_word = combine_list(X_train)\n",
    "count_dict_word = collections.Counter(list_word)\n",
    "count_freq_word = pd.DataFrame.from_dict(\n",
    "    count_dict_word, orient='index').reset_index().rename(\n",
    "    columns={'index':'Word', 0:'Frequency'}\n",
    ")\n",
    "count_freq_word.head()"
   ]
  },
  {
   "cell_type": "code",
   "execution_count": 25,
   "id": "c2694dce",
   "metadata": {
    "ExecuteTime": {
     "end_time": "2021-11-04T03:46:40.070422Z",
     "start_time": "2021-11-04T03:46:38.032522Z"
    },
    "colab": {
     "base_uri": "https://localhost:8080/",
     "height": 357
    },
    "id": "c2694dce",
    "outputId": "f02039b0-77ca-483d-8d7a-306e3cb6a98f"
   },
   "outputs": [
    {
     "data": {
      "image/png": "[encoded data removed]",
      "text/plain": [
       "<Figure size 1152x360 with 1 Axes>"
      ]
     },
     "metadata": {
      "needs_background": "light"
     },
     "output_type": "display_data"
    }
   ],
   "source": [
    "plt.figure(figsize=(16,5))\n",
    "top_10_word = count_freq_word.sort_values(by='Frequency', ascending=False).head(10)\n",
    "sns.barplot(y=top_10_word['Word'],\n",
    "            x=top_10_word['Frequency'],\n",
    "            color=\"b\")\n",
    "plt.xlabel('Frequency', fontsize=12)\n",
    "plt.title('Top 10 Common Words in Article', fontsize=15)\n",
    "plt.show()"
   ]
  },
  {
   "cell_type": "markdown",
   "id": "18da01e7",
   "metadata": {},
   "source": [
    "Berdasarkan gambar di atas, terlihat bahwa 10 kata dengan frekuensi kemunculan tertinggi adalah kata yang memiliki hubungan dengan politik. Kata *trump* dan *said* adalah dua kata dengan frekuensi kemunculan tertinggi dengan kemunculan lebih dari 100000 kali."
   ]
  },
  {
   "cell_type": "code",
   "execution_count": 26,
   "id": "d1767f72",
   "metadata": {
    "ExecuteTime": {
     "end_time": "2021-11-04T04:20:37.470227Z",
     "start_time": "2021-11-04T04:20:37.461201Z"
    },
    "colab": {
     "base_uri": "https://localhost:8080/"
    },
    "id": "d1767f72",
    "outputId": "c915d4f5-69e5-420c-ec69-5f98e6203ad1"
   },
   "outputs": [
    {
     "name": "stdout",
     "output_type": "stream",
     "text": [
      "Jumlah kata dengan frekuensi kemunculan lebih dari 10 : 24914\n"
     ]
    }
   ],
   "source": [
    "number_words = len(count_freq_word[count_freq_word['Frequency']>10])\n",
    "print('Jumlah kata dengan frekuensi kemunculan lebih dari 10 :', number_words)"
   ]
  },
  {
   "cell_type": "markdown",
   "id": "c185297a",
   "metadata": {
    "id": "c185297a"
   },
   "source": [
    "Lakukan proses tokenisasi pada data teks dengan parameter `num_words` sebesar objek `number_words` yaitu banyaknya kata dengan frekuensi kemunculan lebih dari 10 yang berjumlah 24914 kata. Selanjutnya lakukan proses *padding* agar panjang kata dari setiap artikel sama."
   ]
  },
  {
   "cell_type": "code",
   "execution_count": 27,
   "id": "vYngazpSzlJi",
   "metadata": {
    "id": "vYngazpSzlJi"
   },
   "outputs": [],
   "source": [
    "tokenizer = Tokenizer(num_words=number_words, oov_token='-')\n",
    "tokenizer.fit_on_texts(X_train)\n",
    "\n",
    "sequence_train = tokenizer.texts_to_sequences(X_train)\n",
    "sequence_test = tokenizer.texts_to_sequences(X_test)\n",
    "\n",
    "pad_train = pad_sequences(sequence_train)\n",
    "pad_test = pad_sequences(sequence_test)"
   ]
  },
  {
   "cell_type": "markdown",
   "id": "3fa62b96",
   "metadata": {
    "id": "3fa62b96"
   },
   "source": [
    "Bangun sebuah model *sequential* dengan arsitektur *neural network* seperti yang didefinisikan pada *code* di bawah. Untuk dapat menerapkan proses **`Bidirectional LSTM`**, kita cukup memanggil *class* `Bidirectional` pada *layer* LSTM. Pada *output layer* akan berisi 1 unit dengan fungsi aktivasi *sigmoid*."
   ]
  },
  {
   "cell_type": "code",
   "execution_count": 28,
   "id": "8woK7Ci0ZOal",
   "metadata": {
    "id": "8woK7Ci0ZOal"
   },
   "outputs": [],
   "source": [
    "model = tf.keras.models.Sequential([\n",
    "   tf.keras.layers.Embedding(input_dim=number_words, output_dim=64),\n",
    "   tf.keras.layers.Bidirectional(\n",
    "       tf.keras.layers.LSTM(64)\n",
    "       ),\n",
    "   tf.keras.layers.Dropout(0.2),\n",
    "   tf.keras.layers.Dense(32, activation='relu'),\n",
    "   tf.keras.layers.Dropout(0.25),\n",
    "   tf.keras.layers.Dense(16, activation='relu'),\n",
    "   tf.keras.layers.Dropout(0.5),\n",
    "   tf.keras.layers.Dense(1, activation='sigmoid')\n",
    "])"
   ]
  },
  {
   "cell_type": "code",
   "execution_count": 29,
   "id": "VjR48r7p34Ib",
   "metadata": {
    "colab": {
     "base_uri": "https://localhost:8080/"
    },
    "id": "VjR48r7p34Ib",
    "outputId": "cbaa813b-79b4-42de-929b-03a9eb9cc817"
   },
   "outputs": [
    {
     "name": "stdout",
     "output_type": "stream",
     "text": [
      "Model: \"sequential\"\n",
      "_________________________________________________________________\n",
      "Layer (type)                 Output Shape              Param #   \n",
      "=================================================================\n",
      "embedding (Embedding)        (None, None, 64)          1594496   \n",
      "_________________________________________________________________\n",
      "bidirectional (Bidirectional (None, 128)               66048     \n",
      "_________________________________________________________________\n",
      "dropout (Dropout)            (None, 128)               0         \n",
      "_________________________________________________________________\n",
      "dense (Dense)                (None, 32)                4128      \n",
      "_________________________________________________________________\n",
      "dropout_1 (Dropout)          (None, 32)                0         \n",
      "_________________________________________________________________\n",
      "dense_1 (Dense)              (None, 16)                528       \n",
      "_________________________________________________________________\n",
      "dropout_2 (Dropout)          (None, 16)                0         \n",
      "_________________________________________________________________\n",
      "dense_2 (Dense)              (None, 1)                 17        \n",
      "=================================================================\n",
      "Total params: 1,665,217\n",
      "Trainable params: 1,665,217\n",
      "Non-trainable params: 0\n",
      "_________________________________________________________________\n"
     ]
    }
   ],
   "source": [
    "model.summary()"
   ]
  },
  {
   "cell_type": "markdown",
   "id": "45853c36",
   "metadata": {
    "id": "45853c36"
   },
   "source": [
    "Pada proses `.compile()`, digunakan optimizer berupa `Adam`, dengan loss function berupa `binary_crossentropy` dikarenakan kelas yang kita miliki berupa biner, dan penggunaaan metrics berupa *accuracy* untuk melihat seberapa baik model kita melakukan klasifikasi pada teks."
   ]
  },
  {
   "cell_type": "code",
   "execution_count": 30,
   "id": "MM5cuDCn34Nv",
   "metadata": {
    "id": "MM5cuDCn34Nv"
   },
   "outputs": [],
   "source": [
    "model.compile(\n",
    "    optimizer= 'Adam',\n",
    "    loss = 'binary_crossentropy',\n",
    "    metrics = ['accuracy']\n",
    ")"
   ]
  },
  {
   "cell_type": "markdown",
   "id": "6167430a",
   "metadata": {
    "id": "6167430a"
   },
   "source": [
    "Lakukan `.fit()` untuk melakukan proses training pada model. Definisikan parameter `epochs` sebanyak 10 dan `batch_size` sebanyak 64."
   ]
  },
  {
   "cell_type": "code",
   "execution_count": 31,
   "id": "sQWq91pK34Q7",
   "metadata": {
    "colab": {
     "base_uri": "https://localhost:8080/"
    },
    "id": "sQWq91pK34Q7",
    "outputId": "9e601033-9694-4d1a-8012-3aac1c119e07"
   },
   "outputs": [
    {
     "name": "stdout",
     "output_type": "stream",
     "text": [
      "Epoch 1/10\n",
      "562/562 [==============================] - 618s 1s/step - loss: 0.1527 - accuracy: 0.9482 - val_loss: 0.0699 - val_accuracy: 0.9806\n",
      "Epoch 2/10\n",
      "562/562 [==============================] - 611s 1s/step - loss: 0.0415 - accuracy: 0.9912 - val_loss: 0.0328 - val_accuracy: 0.9904\n",
      "Epoch 3/10\n",
      "562/562 [==============================] - 612s 1s/step - loss: 0.0232 - accuracy: 0.9945 - val_loss: 0.0502 - val_accuracy: 0.9876\n",
      "Epoch 4/10\n",
      "562/562 [==============================] - 609s 1s/step - loss: 0.0190 - accuracy: 0.9951 - val_loss: 0.0163 - val_accuracy: 0.9961\n",
      "Epoch 5/10\n",
      "562/562 [==============================] - 609s 1s/step - loss: 0.0189 - accuracy: 0.9948 - val_loss: 0.0129 - val_accuracy: 0.9962\n",
      "Epoch 6/10\n",
      "562/562 [==============================] - 611s 1s/step - loss: 0.0272 - accuracy: 0.9908 - val_loss: 0.0820 - val_accuracy: 0.9780\n",
      "Epoch 7/10\n",
      "562/562 [==============================] - 603s 1s/step - loss: 0.0483 - accuracy: 0.9861 - val_loss: 0.0461 - val_accuracy: 0.9864\n",
      "Epoch 8/10\n",
      "562/562 [==============================] - 602s 1s/step - loss: 0.0178 - accuracy: 0.9950 - val_loss: 0.0462 - val_accuracy: 0.9895\n",
      "Epoch 9/10\n",
      "562/562 [==============================] - 600s 1s/step - loss: 0.0091 - accuracy: 0.9972 - val_loss: 0.0475 - val_accuracy: 0.9901\n",
      "Epoch 10/10\n",
      "562/562 [==============================] - 598s 1s/step - loss: 0.0091 - accuracy: 0.9965 - val_loss: 0.1081 - val_accuracy: 0.9755\n"
     ]
    }
   ],
   "source": [
    "history = model.fit(\n",
    "    pad_train,\n",
    "    y_train,\n",
    "    epochs = 10,\n",
    "    batch_size = 64,\n",
    "    validation_data = (pad_test, y_test),\n",
    "    verbose = 1\n",
    ")"
   ]
  },
  {
   "cell_type": "markdown",
   "id": "e67e6812",
   "metadata": {
    "id": "e67e6812"
   },
   "source": [
    "Simpan model ke dalam `model.h5`."
   ]
  },
  {
   "cell_type": "code",
   "execution_count": 32,
   "id": "TO98SnSL5VA0",
   "metadata": {
    "id": "TO98SnSL5VA0"
   },
   "outputs": [],
   "source": [
    "model.save('model.h5')"
   ]
  },
  {
   "cell_type": "markdown",
   "id": "e4d61ffb",
   "metadata": {
    "id": "e4d61ffb"
   },
   "source": [
    "Definisikan fungsi untuk melakukan plot *accuracy* dan *loss* dari model yang telah dilakukan proses *training*."
   ]
  },
  {
   "cell_type": "code",
   "execution_count": 33,
   "id": "TTV6VUMrabru",
   "metadata": {
    "id": "TTV6VUMrabru"
   },
   "outputs": [],
   "source": [
    "def plot_accuracy(history):\n",
    "    plt.figure(figsize=(18,5))\n",
    "    acc = history.history['accuracy']\n",
    "    val_acc = history.history['val_accuracy']\n",
    "    epochs = range(len(acc))\n",
    "    plot_acc = plt.plot(epochs, acc, 'red', label='Training Accuracy')\n",
    "    plot_val_acc = plt.plot(epochs, val_acc, 'blue', label='Validation Accuracy')\n",
    "    plt.xlabel('Epoch', fontsize=15)\n",
    "    plt.ylabel('Accuracy', fontsize=15)\n",
    "    plt.title('Training and Validation Accuracy', fontsize=25)\n",
    "    plt.legend(bbox_to_anchor=(1,1), loc='best')\n",
    "    plt.grid()\n",
    "    plt.show()\n",
    "\n",
    "def plot_loss(history):\n",
    "    plt.figure(figsize=(18,5))\n",
    "    loss = history.history['loss']\n",
    "    val_loss = history.history['val_loss']\n",
    "    epochs = range(len(loss))\n",
    "    plot_loss = plt.plot(epochs, loss, 'red', label='Training Loss')\n",
    "    plot_val_loss = plt.plot(epochs, val_loss, 'blue', label='Validation Loss')\n",
    "    plt.xlabel('Epoch', fontsize=15)\n",
    "    plt.ylabel('Loss', fontsize=15)\n",
    "    plt.title('Training and Validation Loss', fontsize=25)\n",
    "    plt.legend(bbox_to_anchor=(1,1), loc='best')\n",
    "    plt.grid()\n",
    "    plt.show()"
   ]
  },
  {
   "cell_type": "code",
   "execution_count": 34,
   "id": "JO4OttcXadXz",
   "metadata": {
    "colab": {
     "base_uri": "https://localhost:8080/",
     "height": 366
    },
    "id": "JO4OttcXadXz",
    "outputId": "5ff60e38-4e45-4efa-937d-8e52f920f943"
   },
   "outputs": [
    {
     "data": {
      "image/png": "[encoded data removed]",
      "text/plain": [
       "<Figure size 1296x360 with 1 Axes>"
      ]
     },
     "metadata": {
      "needs_background": "light"
     },
     "output_type": "display_data"
    }
   ],
   "source": [
    "plot_accuracy(history)"
   ]
  },
  {
   "cell_type": "code",
   "execution_count": 35,
   "id": "Ea7sSMebadac",
   "metadata": {
    "colab": {
     "base_uri": "https://localhost:8080/",
     "height": 366
    },
    "id": "Ea7sSMebadac",
    "outputId": "c0358c53-6af6-4f23-db79-4a67938c874f"
   },
   "outputs": [
    {
     "data": {
      "image/png": "[encoded data removed]",
      "text/plain": [
       "<Figure size 1296x360 with 1 Axes>"
      ]
     },
     "metadata": {
      "needs_background": "light"
     },
     "output_type": "display_data"
    }
   ],
   "source": [
    "plot_loss(history)"
   ]
  },
  {
   "cell_type": "markdown",
   "id": "f5afb3d5",
   "metadata": {
    "id": "f5afb3d5"
   },
   "source": [
    "Hitung nilai *accuracy* pada *training* dan *test data*"
   ]
  },
  {
   "cell_type": "code",
   "execution_count": 36,
   "id": "cK4BeLuDd71d",
   "metadata": {
    "colab": {
     "base_uri": "https://localhost:8080/"
    },
    "id": "cK4BeLuDd71d",
    "outputId": "96bf4947-8d1d-4122-9b20-1d564e99ff0f"
   },
   "outputs": [
    {
     "name": "stdout",
     "output_type": "stream",
     "text": [
      "1123/1123 [==============================] - 493s 439ms/step - loss: 0.0218 - accuracy: 0.9901\n",
      "281/281 [==============================] - 123s 438ms/step - loss: 0.1081 - accuracy: 0.9755\n",
      "Training Accuracy:99.01163578033447 %\n",
      "Testing Accuracy:97.55011200904846 %\n"
     ]
    }
   ],
   "source": [
    "train_stats = model.evaluate(pad_train,y_train)\n",
    "test_stats = model.evaluate(pad_test,y_test)\n",
    "print(f'Training Accuracy:{train_stats[1]*100} %')\n",
    "print(f'Testing Accuracy:{test_stats[1]*100} %')"
   ]
  },
  {
   "cell_type": "markdown",
   "id": "0267792c",
   "metadata": {
    "id": "0267792c"
   },
   "source": [
    "Diperoleh nilai *accuracy* sebesar 99,01% untuk *training data* dan 97,55% untuk *test data*."
   ]
  },
  {
   "cell_type": "code",
   "execution_count": 37,
   "id": "MZhpR3d_d7-T",
   "metadata": {
    "id": "MZhpR3d_d7-T"
   },
   "outputs": [],
   "source": [
    "y_pred = model.predict(pad_test)\n",
    "y_prob_pred = y_pred.reshape(len(y_pred))\n",
    "y_pred_label = y_prob_pred\n",
    "for i in range(len(y_prob_pred)):\n",
    "    if y_prob_pred[i] >= 0.5:\n",
    "        y_pred_label[i] = 1\n",
    "    else:\n",
    "        y_pred_label[i] = 0"
   ]
  },
  {
   "cell_type": "code",
   "execution_count": 38,
   "id": "hdF69uRF3GXj",
   "metadata": {
    "colab": {
     "base_uri": "https://localhost:8080/"
    },
    "id": "hdF69uRF3GXj",
    "outputId": "3a82c52b-f966-41ce-f023-d68722bb459e"
   },
   "outputs": [
    {
     "name": "stdout",
     "output_type": "stream",
     "text": [
      "Classification Report : \n",
      "                precision    recall  f1-score   support\n",
      "\n",
      "           0       0.96      0.99      0.97      4263\n",
      "           1       0.99      0.96      0.98      4717\n",
      "\n",
      "    accuracy                           0.98      8980\n",
      "   macro avg       0.98      0.98      0.98      8980\n",
      "weighted avg       0.98      0.98      0.98      8980\n",
      "\n"
     ]
    }
   ],
   "source": [
    "print(\"Classification Report : \\n \", classification_report(y_test,y_pred_label))"
   ]
  },
  {
   "cell_type": "code",
   "execution_count": 39,
   "id": "b4YT0evN3dvq",
   "metadata": {
    "id": "b4YT0evN3dvq"
   },
   "outputs": [],
   "source": [
    "def make_confusion_matrix(pred):\n",
    "    cam = confusion_matrix(y_test, pred)\n",
    "    sns.heatmap(cam, annot=True, cmap='viridis', \n",
    "                xticklabels=['True News', 'Fake News'],\n",
    "                yticklabels=['True News', 'Fake News'],\n",
    "                fmt=\"d\")\n",
    "    plt.xlabel('Predicted Label', fontsize=12)\n",
    "    plt.ylabel('True Label', fontsize=12)\n",
    "    plt.title('Confusion Matrix', fontsize=15)\n",
    "    plt.show()"
   ]
  },
  {
   "cell_type": "code",
   "execution_count": 41,
   "id": "027tvBey4WVu",
   "metadata": {
    "colab": {
     "base_uri": "https://localhost:8080/",
     "height": 303
    },
    "id": "027tvBey4WVu",
    "outputId": "09033baa-8cb6-4cb4-d777-7996f40daabd"
   },
   "outputs": [
    {
     "data": {
      "image/png": "[encoded data removed]",
      "text/plain": [
       "<Figure size 432x288 with 2 Axes>"
      ]
     },
     "metadata": {
      "needs_background": "light"
     },
     "output_type": "display_data"
    }
   ],
   "source": [
    "make_confusion_matrix(y_pred_label)"
   ]
  },
  {
   "cell_type": "markdown",
   "id": "29387b15",
   "metadata": {
    "id": "29387b15"
   },
   "source": [
    "Berdasarkan *confusion matrix* di atas, terlihat untuk model yang dibangun sudah dapat mengkategorikan suatu artikel adalah *true news* atau *fake news* dengan baik. Pada model tersebut, hanya terdapat 104 artikel yang mengalami kesalahan dalam proses klasifikasi dari keseluruhan *test data*."
   ]
  },
  {
   "cell_type": "markdown",
   "id": "6Fz6pWkk5T16",
   "metadata": {
    "id": "6Fz6pWkk5T16"
   },
   "source": [
    "## Conclusion"
   ]
  },
  {
   "cell_type": "markdown",
   "id": "af045704",
   "metadata": {
    "id": "af045704"
   },
   "source": [
    "Pada artikel ini, kita telah mempelajari terkait model LSTM dan BiLSTM dan penerapannya dalam permasalahan nyata. Untuk itu dapat diperoleh beberapa kesimpulan :\n",
    "1. Model *Long Short Term Memory* (LSTM) dan *Bidirectional Long Short Term Memory* (BiLSTM) dapat digunakan untuk data yang bertipe sekuensial dan dapat digunakan untuk mengatasi permasalahan *vanishing/exploding* gradien yang muncul saat menggunakan *Recurrent Neural Network*.\n",
    "2. Model *Bidirectional Long Short Term Memory* (BiLSTM) dapat digunakan saat kita ingin membangun model yang untuk memahami karakteristik data sekuensial kita dengan dua buah sudut pandang yaitu mundur-maju dan maju-mundur. Hal ini dapat digunakan untuk memahami teks yang sangat panjang karena mempunyai informasi melalui *forward LSTM* dan *backward LSTM*."
   ]
  },
  {
   "cell_type": "markdown",
   "id": "4e82af24",
   "metadata": {
    "id": "4e82af24"
   },
   "source": [
    "## Reference"
   ]
  },
  {
   "cell_type": "markdown",
   "id": "cf1dc5c6",
   "metadata": {
    "id": "cf1dc5c6"
   },
   "source": [
    "- [Fake and Real News Dataset](https://www.kaggle.com/clmentbisaillon/fake-and-real-news-dataset)\n",
    "- [Text Classification With LSTM](https://algotech.netlify.app/blog/text-lstm/)\n",
    "- [Bidirectional Documentation](https://www.tensorflow.org/api_docs/python/tf/keras/layers/Bidirectional)\n",
    "- [Develop BiLSTM For Sequence Classification in Python with Keras](https://machinelearningmastery.com/develop-bidirectional-lstm-sequence-classification-python-keras/)\n",
    "- [NLTK Documentation](https://www.nltk.org/)\n",
    "- [Regular Expression Documentation](https://docs.python.org/3/library/re.html)\n",
    "- [Removing Stopword](https://www.geeksforgeeks.org/removing-stop-words-nltk-python/)\n",
    "- [Lemmatization with NLTK](https://www.geeksforgeeks.org/python-lemmatization-with-nltk/)\n"
   ]
  }
 ],
 "metadata": {
  "accelerator": "GPU",
  "colab": {
   "collapsed_sections": [
    "ebac2f62"
   ],
   "name": "Fake News Detection Final.ipynb",
   "provenance": []
  },
  "kernelspec": {
   "display_name": "NLP",
   "language": "python",
   "name": "nlp"
  },
  "language_info": {
   "codemirror_mode": {
    "name": "ipython",
    "version": 3
   },
   "file_extension": ".py",
   "mimetype": "text/x-python",
   "name": "python",
   "nbconvert_exporter": "python",
   "pygments_lexer": "ipython3",
   "version": "3.8.11"
  },
  "toc": {
   "base_numbering": 1,
   "nav_menu": {},
   "number_sections": false,
   "sideBar": true,
   "skip_h1_title": false,
   "title_cell": "Table of Contents",
   "title_sidebar": "Contents",
   "toc_cell": false,
   "toc_position": {},
   "toc_section_display": true,
   "toc_window_display": false
  },
  "varInspector": {
   "cols": {
    "lenName": 16,
    "lenType": 16,
    "lenVar": 40
   },
   "kernels_config": {
    "python": {
     "delete_cmd_postfix": "",
     "delete_cmd_prefix": "del ",
     "library": "var_list.py",
     "varRefreshCmd": "print(var_dic_list())"
    },
    "r": {
     "delete_cmd_postfix": ") ",
     "delete_cmd_prefix": "rm(",
     "library": "var_list.r",
     "varRefreshCmd": "cat(var_dic_list()) "
    }
   },
   "types_to_exclude": [
    "module",
    "function",
    "builtin_function_or_method",
    "instance",
    "_Feature"
   ],
   "window_display": false
  }
 },
 "nbformat": 4,
 "nbformat_minor": 5
}
