{
 "cells": [
  {
   "cell_type": "markdown",
   "id": "6d141687",
   "metadata": {
    "id": "6d141687"
   },
   "source": [
    "# Fake News Detection Using Bidirectional LSTM\n",
    "## Reynara Ezra Pratama"
   ]
  },
  {
   "cell_type": "markdown",
   "id": "c4a54063",
   "metadata": {
    "id": "c4a54063"
   },
   "source": [
    "## Introduction"
   ]
  },
  {
   "cell_type": "markdown",
   "id": "9039d05b",
   "metadata": {},
   "source": [
    "Minat tinggi -> Data banyak -> Model machine learning kurang bisa -> Deep Learning -> NLP w/ Deep Learning. -> Salah satu arsitektur dalam NLP adalah LSTM."
   ]
  },
  {
   "cell_type": "markdown",
   "id": "9596d7e4",
   "metadata": {
    "id": "9596d7e4"
   },
   "source": [
    "## Learning Objective\n",
    "\n",
    "1. Mengetahui konsep dan cara kerja dari Bidirectional LSTM (BiLSTM)\n",
    "2. Implementasi BiLSTM pada permasalahan nyata"
   ]
  },
  {
   "cell_type": "markdown",
   "id": "289fcc4d",
   "metadata": {
    "id": "289fcc4d"
   },
   "source": [
    "## LSTM vs BiLSTM"
   ]
  },
  {
   "cell_type": "markdown",
   "id": "69bc8647",
   "metadata": {},
   "source": [
    "### LSTM"
   ]
  },
  {
   "cell_type": "markdown",
   "id": "3ac2bc4c",
   "metadata": {},
   "source": [
    "LSTM adalah"
   ]
  },
  {
   "cell_type": "markdown",
   "id": "6fcb359d",
   "metadata": {},
   "source": [
    "### Bidirectional LSTM (BiLSTM)"
   ]
  },
  {
   "cell_type": "markdown",
   "id": "c1edfc2e",
   "metadata": {},
   "source": [
    "BiLSTM adalah"
   ]
  },
  {
   "cell_type": "markdown",
   "id": "13ffcd3c",
   "metadata": {
    "id": "13ffcd3c"
   },
   "source": [
    "## Case Example Using BiLSTM"
   ]
  },
  {
   "cell_type": "markdown",
   "id": "adbd58de",
   "metadata": {
    "id": "adbd58de"
   },
   "source": [
    "### Background"
   ]
  },
  {
   "cell_type": "markdown",
   "id": "889d5cd0",
   "metadata": {
    "id": "889d5cd0"
   },
   "source": [
    "Berita palsu atau sering disebut berita *hoax* telah lama muncul bahkan sebelum teknologi berkembang seperti saat ini. Adapun berita *hoax* didefinisikan sebagai sebuah artikel fiktif yang dibuat sengaja dengan tujuan untuk menipu pembaca dengan tajuk yang menarik. Perkembangan teknologi memudahkan setiap orang untuk membaca sebuah artikel yang berada di internet. Untuk seseorang yang tidak bisa membedakan sebuah artikel adalah benar atau tidak, akan memercayai isi dari artikel tersebut dan menyebarkanya kepada teman atau orang di sekitarnya. Oleh karena itu, akan dibangun sebuah model *deep learning* untuk memprediksi apakah suatu artikel dapat dikategorikan sebagai *true news* atau *fake news*. "
   ]
  },
  {
   "cell_type": "markdown",
   "id": "4d4c3c95",
   "metadata": {
    "id": "4d4c3c95"
   },
   "source": [
    "### Data Understanding"
   ]
  },
  {
   "cell_type": "markdown",
   "id": "63873cd1",
   "metadata": {
    "id": "63873cd1"
   },
   "source": [
    "Dalam melakukan analisis untuk membangun model prediksi, digunakan data yang berdasal dari [Kaggle](https://www.kaggle.com/clmentbisaillon/fake-and-real-news-dataset). Terdapat dua buah dataset yang kita gunakan yaitu `Fake.csv` dan `True.csv`. Dataset `Fake.csv` berisi kumpulan berita yang terindikasi *fake* atau hoax sementara dataset `True.csv` berisi kumpulan berita yang faktanya adalah benar.\n",
    "\n",
    "Terdapat 4 buah kolom pada kedua dataset yaitu `title`, `text`, `subject`, `date`.\n",
    "1. `title` : Judul berita \n",
    "2. `text` : Isi konten dari berita yang ada\n",
    "3. `subject` : Subjek dari artikel berita\n",
    "4. `date` : Tanggal artikel diterbitkan"
   ]
  },
  {
   "cell_type": "markdown",
   "id": "d24f1904",
   "metadata": {
    "id": "d24f1904"
   },
   "source": [
    "### Import Library"
   ]
  },
  {
   "cell_type": "code",
   "execution_count": 48,
   "id": "0b8480c5",
   "metadata": {
    "ExecuteTime": {
     "end_time": "2021-10-28T16:20:10.327644Z",
     "start_time": "2021-10-28T16:20:01.719184Z"
    },
    "colab": {
     "base_uri": "https://localhost:8080/"
    },
    "id": "0b8480c5",
    "outputId": "d727efc4-d6fc-4a25-b836-3aa121147257"
   },
   "outputs": [
    {
     "name": "stdout",
     "output_type": "stream",
     "text": [
      "[nltk_data] Downloading package stopwords to /root/nltk_data...\n",
      "[nltk_data]   Package stopwords is already up-to-date!\n",
      "[nltk_data] Downloading package wordnet to /root/nltk_data...\n",
      "[nltk_data]   Package wordnet is already up-to-date!\n"
     ]
    }
   ],
   "source": [
    "import pandas as pd\n",
    "import numpy as np\n",
    "import matplotlib.pyplot as plt\n",
    "import seaborn as sns\n",
    "sns.set_theme()\n",
    "\n",
    "from sklearn.model_selection import train_test_split\n",
    "from sklearn.metrics import classification_report\n",
    "from sklearn.metrics import confusion_matrix\n",
    "from sklearn.metrics import accuracy_score\n",
    "\n",
    "import tensorflow as tf\n",
    "import nltk\n",
    "import re\n",
    "\n",
    "from tensorflow.keras.preprocessing.text import Tokenizer\n",
    "from tensorflow.keras.preprocessing.sequence import pad_sequences\n",
    "\n",
    "from nltk.corpus import stopwords\n",
    "from nltk.stem import WordNetLemmatizer\n",
    "nltk.download('stopwords')\n",
    "nltk.download('wordnet')\n",
    "\n",
    "import warnings \n",
    "warnings.filterwarnings('ignore')"
   ]
  },
  {
   "cell_type": "markdown",
   "id": "c9629898",
   "metadata": {
    "id": "c9629898"
   },
   "source": [
    "### Loading Dataset"
   ]
  },
  {
   "cell_type": "markdown",
   "id": "b3b60370",
   "metadata": {
    "id": "b3b60370"
   },
   "source": [
    "**Load Data From Github**"
   ]
  },
  {
   "cell_type": "code",
   "execution_count": 2,
   "id": "478bfcc3",
   "metadata": {
    "id": "478bfcc3"
   },
   "outputs": [],
   "source": [
    "url_fake = 'https://raw.githubusercontent.com/ReynaraEzra/Fake-News-Detection/main/data_input/Fake.csv'\n",
    "url_true = 'https://raw.githubusercontent.com/ReynaraEzra/Fake-News-Detection/main/data_input/True.csv'\n",
    "fake = pd.read_csv(url_fake)\n",
    "true = pd.read_csv(url_true)"
   ]
  },
  {
   "cell_type": "markdown",
   "id": "8557cecc",
   "metadata": {
    "id": "8557cecc"
   },
   "source": [
    "**Load Data From Local File**"
   ]
  },
  {
   "cell_type": "code",
   "execution_count": 3,
   "id": "eeb76eb4",
   "metadata": {
    "ExecuteTime": {
     "end_time": "2021-10-28T12:43:26.279432Z",
     "start_time": "2021-10-28T12:43:24.504865Z"
    },
    "id": "eeb76eb4"
   },
   "outputs": [],
   "source": [
    "# fake = pd.read_csv('data_input/Fake.csv')\n",
    "# true = pd.read_csv('data_input/True.csv')"
   ]
  },
  {
   "cell_type": "markdown",
   "id": "ebac2f62",
   "metadata": {
    "id": "ebac2f62"
   },
   "source": [
    "### Checking Dataset"
   ]
  },
  {
   "cell_type": "code",
   "execution_count": 4,
   "id": "bb8801b4",
   "metadata": {
    "ExecuteTime": {
     "end_time": "2021-10-28T12:43:33.305082Z",
     "start_time": "2021-10-28T12:43:33.160079Z"
    },
    "colab": {
     "base_uri": "https://localhost:8080/",
     "height": 0
    },
    "id": "bb8801b4",
    "outputId": "a68bb1c0-b8c8-4159-cd46-3b79331f3dfb"
   },
   "outputs": [
    {
     "data": {
      "text/html": [
       "<div>\n",
       "<style scoped>\n",
       "    .dataframe tbody tr th:only-of-type {\n",
       "        vertical-align: middle;\n",
       "    }\n",
       "\n",
       "    .dataframe tbody tr th {\n",
       "        vertical-align: top;\n",
       "    }\n",
       "\n",
       "    .dataframe thead th {\n",
       "        text-align: right;\n",
       "    }\n",
       "</style>\n",
       "<table border=\"1\" class=\"dataframe\">\n",
       "  <thead>\n",
       "    <tr style=\"text-align: right;\">\n",
       "      <th></th>\n",
       "      <th>title</th>\n",
       "      <th>text</th>\n",
       "      <th>subject</th>\n",
       "      <th>date</th>\n",
       "    </tr>\n",
       "  </thead>\n",
       "  <tbody>\n",
       "    <tr>\n",
       "      <th>0</th>\n",
       "      <td>Donald Trump Sends Out Embarrassing New Year’...</td>\n",
       "      <td>Donald Trump just couldn t wish all Americans ...</td>\n",
       "      <td>News</td>\n",
       "      <td>December 31, 2017</td>\n",
       "    </tr>\n",
       "    <tr>\n",
       "      <th>1</th>\n",
       "      <td>Drunk Bragging Trump Staffer Started Russian ...</td>\n",
       "      <td>House Intelligence Committee Chairman Devin Nu...</td>\n",
       "      <td>News</td>\n",
       "      <td>December 31, 2017</td>\n",
       "    </tr>\n",
       "    <tr>\n",
       "      <th>2</th>\n",
       "      <td>Sheriff David Clarke Becomes An Internet Joke...</td>\n",
       "      <td>On Friday, it was revealed that former Milwauk...</td>\n",
       "      <td>News</td>\n",
       "      <td>December 30, 2017</td>\n",
       "    </tr>\n",
       "    <tr>\n",
       "      <th>3</th>\n",
       "      <td>Trump Is So Obsessed He Even Has Obama’s Name...</td>\n",
       "      <td>On Christmas day, Donald Trump announced that ...</td>\n",
       "      <td>News</td>\n",
       "      <td>December 29, 2017</td>\n",
       "    </tr>\n",
       "    <tr>\n",
       "      <th>4</th>\n",
       "      <td>Pope Francis Just Called Out Donald Trump Dur...</td>\n",
       "      <td>Pope Francis used his annual Christmas Day mes...</td>\n",
       "      <td>News</td>\n",
       "      <td>December 25, 2017</td>\n",
       "    </tr>\n",
       "  </tbody>\n",
       "</table>\n",
       "</div>"
      ],
      "text/plain": [
       "                                               title  ...               date\n",
       "0   Donald Trump Sends Out Embarrassing New Year’...  ...  December 31, 2017\n",
       "1   Drunk Bragging Trump Staffer Started Russian ...  ...  December 31, 2017\n",
       "2   Sheriff David Clarke Becomes An Internet Joke...  ...  December 30, 2017\n",
       "3   Trump Is So Obsessed He Even Has Obama’s Name...  ...  December 29, 2017\n",
       "4   Pope Francis Just Called Out Donald Trump Dur...  ...  December 25, 2017\n",
       "\n",
       "[5 rows x 4 columns]"
      ]
     },
     "execution_count": 4,
     "metadata": {},
     "output_type": "execute_result"
    }
   ],
   "source": [
    "fake.head()"
   ]
  },
  {
   "cell_type": "code",
   "execution_count": 5,
   "id": "b2f0c0a7",
   "metadata": {
    "ExecuteTime": {
     "end_time": "2021-10-28T12:43:38.703968Z",
     "start_time": "2021-10-28T12:43:38.692438Z"
    },
    "colab": {
     "base_uri": "https://localhost:8080/",
     "height": 0
    },
    "id": "b2f0c0a7",
    "outputId": "23530614-2ec5-4f30-ca8f-57caa5dd5840"
   },
   "outputs": [
    {
     "data": {
      "text/html": [
       "<div>\n",
       "<style scoped>\n",
       "    .dataframe tbody tr th:only-of-type {\n",
       "        vertical-align: middle;\n",
       "    }\n",
       "\n",
       "    .dataframe tbody tr th {\n",
       "        vertical-align: top;\n",
       "    }\n",
       "\n",
       "    .dataframe thead th {\n",
       "        text-align: right;\n",
       "    }\n",
       "</style>\n",
       "<table border=\"1\" class=\"dataframe\">\n",
       "  <thead>\n",
       "    <tr style=\"text-align: right;\">\n",
       "      <th></th>\n",
       "      <th>title</th>\n",
       "      <th>text</th>\n",
       "      <th>subject</th>\n",
       "      <th>date</th>\n",
       "    </tr>\n",
       "  </thead>\n",
       "  <tbody>\n",
       "    <tr>\n",
       "      <th>0</th>\n",
       "      <td>As U.S. budget fight looms, Republicans flip t...</td>\n",
       "      <td>WASHINGTON (Reuters) - The head of a conservat...</td>\n",
       "      <td>politicsNews</td>\n",
       "      <td>December 31, 2017</td>\n",
       "    </tr>\n",
       "    <tr>\n",
       "      <th>1</th>\n",
       "      <td>U.S. military to accept transgender recruits o...</td>\n",
       "      <td>WASHINGTON (Reuters) - Transgender people will...</td>\n",
       "      <td>politicsNews</td>\n",
       "      <td>December 29, 2017</td>\n",
       "    </tr>\n",
       "    <tr>\n",
       "      <th>2</th>\n",
       "      <td>Senior U.S. Republican senator: 'Let Mr. Muell...</td>\n",
       "      <td>WASHINGTON (Reuters) - The special counsel inv...</td>\n",
       "      <td>politicsNews</td>\n",
       "      <td>December 31, 2017</td>\n",
       "    </tr>\n",
       "    <tr>\n",
       "      <th>3</th>\n",
       "      <td>FBI Russia probe helped by Australian diplomat...</td>\n",
       "      <td>WASHINGTON (Reuters) - Trump campaign adviser ...</td>\n",
       "      <td>politicsNews</td>\n",
       "      <td>December 30, 2017</td>\n",
       "    </tr>\n",
       "    <tr>\n",
       "      <th>4</th>\n",
       "      <td>Trump wants Postal Service to charge 'much mor...</td>\n",
       "      <td>SEATTLE/WASHINGTON (Reuters) - President Donal...</td>\n",
       "      <td>politicsNews</td>\n",
       "      <td>December 29, 2017</td>\n",
       "    </tr>\n",
       "  </tbody>\n",
       "</table>\n",
       "</div>"
      ],
      "text/plain": [
       "                                               title  ...                date\n",
       "0  As U.S. budget fight looms, Republicans flip t...  ...  December 31, 2017 \n",
       "1  U.S. military to accept transgender recruits o...  ...  December 29, 2017 \n",
       "2  Senior U.S. Republican senator: 'Let Mr. Muell...  ...  December 31, 2017 \n",
       "3  FBI Russia probe helped by Australian diplomat...  ...  December 30, 2017 \n",
       "4  Trump wants Postal Service to charge 'much mor...  ...  December 29, 2017 \n",
       "\n",
       "[5 rows x 4 columns]"
      ]
     },
     "execution_count": 5,
     "metadata": {},
     "output_type": "execute_result"
    }
   ],
   "source": [
    "true.head()"
   ]
  },
  {
   "cell_type": "markdown",
   "id": "6CrRSEV0y9Xk",
   "metadata": {
    "id": "6CrRSEV0y9Xk"
   },
   "source": [
    "### Text Preprocessing"
   ]
  },
  {
   "cell_type": "markdown",
   "id": "96be4784",
   "metadata": {},
   "source": [
    "Pertama akan dibuat kolom `label` yang akan bernilai 1 untuk *dataframe* `fake` dan 0 untuk *dataframe* `true`. "
   ]
  },
  {
   "cell_type": "code",
   "execution_count": 6,
   "id": "06ec7693",
   "metadata": {
    "ExecuteTime": {
     "end_time": "2021-10-28T16:12:45.760982Z",
     "start_time": "2021-10-28T16:12:45.682058Z"
    },
    "colab": {
     "base_uri": "https://localhost:8080/",
     "height": 289
    },
    "id": "06ec7693",
    "outputId": "e0545788-f8b3-4774-e38d-7575eec26cdb"
   },
   "outputs": [
    {
     "data": {
      "text/html": [
       "<div>\n",
       "<style scoped>\n",
       "    .dataframe tbody tr th:only-of-type {\n",
       "        vertical-align: middle;\n",
       "    }\n",
       "\n",
       "    .dataframe tbody tr th {\n",
       "        vertical-align: top;\n",
       "    }\n",
       "\n",
       "    .dataframe thead th {\n",
       "        text-align: right;\n",
       "    }\n",
       "</style>\n",
       "<table border=\"1\" class=\"dataframe\">\n",
       "  <thead>\n",
       "    <tr style=\"text-align: right;\">\n",
       "      <th></th>\n",
       "      <th>title</th>\n",
       "      <th>text</th>\n",
       "      <th>subject</th>\n",
       "      <th>date</th>\n",
       "      <th>label</th>\n",
       "    </tr>\n",
       "  </thead>\n",
       "  <tbody>\n",
       "    <tr>\n",
       "      <th>0</th>\n",
       "      <td>Donald Trump Sends Out Embarrassing New Year’...</td>\n",
       "      <td>Donald Trump just couldn t wish all Americans ...</td>\n",
       "      <td>News</td>\n",
       "      <td>December 31, 2017</td>\n",
       "      <td>1</td>\n",
       "    </tr>\n",
       "    <tr>\n",
       "      <th>1</th>\n",
       "      <td>Drunk Bragging Trump Staffer Started Russian ...</td>\n",
       "      <td>House Intelligence Committee Chairman Devin Nu...</td>\n",
       "      <td>News</td>\n",
       "      <td>December 31, 2017</td>\n",
       "      <td>1</td>\n",
       "    </tr>\n",
       "    <tr>\n",
       "      <th>2</th>\n",
       "      <td>Sheriff David Clarke Becomes An Internet Joke...</td>\n",
       "      <td>On Friday, it was revealed that former Milwauk...</td>\n",
       "      <td>News</td>\n",
       "      <td>December 30, 2017</td>\n",
       "      <td>1</td>\n",
       "    </tr>\n",
       "    <tr>\n",
       "      <th>3</th>\n",
       "      <td>Trump Is So Obsessed He Even Has Obama’s Name...</td>\n",
       "      <td>On Christmas day, Donald Trump announced that ...</td>\n",
       "      <td>News</td>\n",
       "      <td>December 29, 2017</td>\n",
       "      <td>1</td>\n",
       "    </tr>\n",
       "    <tr>\n",
       "      <th>4</th>\n",
       "      <td>Pope Francis Just Called Out Donald Trump Dur...</td>\n",
       "      <td>Pope Francis used his annual Christmas Day mes...</td>\n",
       "      <td>News</td>\n",
       "      <td>December 25, 2017</td>\n",
       "      <td>1</td>\n",
       "    </tr>\n",
       "  </tbody>\n",
       "</table>\n",
       "</div>"
      ],
      "text/plain": [
       "                                               title  ... label\n",
       "0   Donald Trump Sends Out Embarrassing New Year’...  ...     1\n",
       "1   Drunk Bragging Trump Staffer Started Russian ...  ...     1\n",
       "2   Sheriff David Clarke Becomes An Internet Joke...  ...     1\n",
       "3   Trump Is So Obsessed He Even Has Obama’s Name...  ...     1\n",
       "4   Pope Francis Just Called Out Donald Trump Dur...  ...     1\n",
       "\n",
       "[5 rows x 5 columns]"
      ]
     },
     "execution_count": 6,
     "metadata": {},
     "output_type": "execute_result"
    }
   ],
   "source": [
    "fake['label'] = 1\n",
    "true['label'] = 0\n",
    "data = pd.concat([fake, true])\n",
    "data = data.reset_index(drop=True)\n",
    "data.head()"
   ]
  },
  {
   "cell_type": "code",
   "execution_count": 7,
   "id": "aac20bb4",
   "metadata": {
    "ExecuteTime": {
     "end_time": "2021-10-28T16:12:47.252764Z",
     "start_time": "2021-10-28T16:12:47.224223Z"
    },
    "colab": {
     "base_uri": "https://localhost:8080/"
    },
    "id": "aac20bb4",
    "outputId": "10cac3b7-8487-490f-ab9f-7965005af853"
   },
   "outputs": [
    {
     "name": "stdout",
     "output_type": "stream",
     "text": [
      "<class 'pandas.core.frame.DataFrame'>\n",
      "RangeIndex: 44898 entries, 0 to 44897\n",
      "Data columns (total 5 columns):\n",
      " #   Column   Non-Null Count  Dtype \n",
      "---  ------   --------------  ----- \n",
      " 0   title    44898 non-null  object\n",
      " 1   text     44898 non-null  object\n",
      " 2   subject  44898 non-null  object\n",
      " 3   date     44898 non-null  object\n",
      " 4   label    44898 non-null  int64 \n",
      "dtypes: int64(1), object(4)\n",
      "memory usage: 1.7+ MB\n"
     ]
    }
   ],
   "source": [
    "data.info()"
   ]
  },
  {
   "cell_type": "markdown",
   "id": "c258b201",
   "metadata": {
    "id": "c258b201"
   },
   "source": [
    "Terlihat bahwa terdapat 44898 artikel yang ada pada `data` dengan total 5 buah kolom yang terdiri atas 1 kolom bertipe *integer* dan 4 kolom bertipe *object*."
   ]
  },
  {
   "cell_type": "markdown",
   "id": "4259f833",
   "metadata": {},
   "source": [
    "Definisikan fungsi untuk kebutuhan plotting."
   ]
  },
  {
   "cell_type": "code",
   "execution_count": 8,
   "id": "8aac8449",
   "metadata": {
    "ExecuteTime": {
     "end_time": "2021-10-28T16:12:49.531635Z",
     "start_time": "2021-10-28T16:12:49.526118Z"
    },
    "id": "8aac8449"
   },
   "outputs": [],
   "source": [
    "def make_count_plot(data, xlabel, size_x, size_y):\n",
    "    plt.figure(figsize=(size_x, size_y))\n",
    "    p = sns.countplot(data)\n",
    "    plt.xlabel(xlabel, fontsize=12)\n",
    "    p.set_xticklabels(['True News', 'Fake News'])\n",
    "    plt.ylabel('Frequency', fontsize=12)\n",
    "    plt.title(f'Number of Article Based on {xlabel}', fontsize=15)\n",
    "    plt.show()"
   ]
  },
  {
   "cell_type": "code",
   "execution_count": 9,
   "id": "2a3a967b",
   "metadata": {
    "ExecuteTime": {
     "end_time": "2021-10-28T16:12:50.333389Z",
     "start_time": "2021-10-28T16:12:50.201121Z"
    },
    "colab": {
     "base_uri": "https://localhost:8080/",
     "height": 446
    },
    "id": "2a3a967b",
    "outputId": "d46601db-c0d3-4b77-d5d4-5d6ab9bfaca3"
   },
   "outputs": [
    {
     "data": {
      "image/png": "[encoded data removed]",
      "text/plain": [
       "<Figure size 432x432 with 1 Axes>"
      ]
     },
     "metadata": {
      "needs_background": "light"
     },
     "output_type": "display_data"
    },
    {
     "name": "stdout",
     "output_type": "stream",
     "text": [
      "Jumlah Artikel yang dikategorikan Fake News : 23481\n",
      "Jumlah Artikel yang dikategorikan True News : 21417\n"
     ]
    }
   ],
   "source": [
    "make_count_plot(data['label'], 'Label', 6, 6)\n",
    "print(f\"Jumlah Artikel yang dikategorikan Fake News : {data[data['label']==1].shape[0]}\")\n",
    "print(f\"Jumlah Artikel yang dikategorikan True News : {data[data['label']==0].shape[0]}\")"
   ]
  },
  {
   "cell_type": "markdown",
   "id": "444c63e4",
   "metadata": {
    "id": "444c63e4"
   },
   "source": [
    "Jumlah artikel yang dikategorikan ke dalam *Fake News* dan *True News* sudah seimbang, maka tidak perlu dilakukan proses *downsampling* atau *upsampling* pada data."
   ]
  },
  {
   "cell_type": "markdown",
   "id": "7c8c36de",
   "metadata": {},
   "source": [
    "Dikarenakan kita ingin memprediksi sebuah artikel dikategorikan sebagai *true news* atau *fake news*, kita akan membuang kolom `subject` dan `date` karena tidak memuat informasi yang dibutuhkan. Kolom `title` tidak dibuang karena nanti berisi informasi pendukung untuk mengkategorikan suatu artikel adalah *true news* atau *fake news*."
   ]
  },
  {
   "cell_type": "code",
   "execution_count": 10,
   "id": "3b4fb42c",
   "metadata": {
    "ExecuteTime": {
     "end_time": "2021-10-28T16:14:17.197917Z",
     "start_time": "2021-10-28T16:14:17.182876Z"
    },
    "id": "3b4fb42c"
   },
   "outputs": [],
   "source": [
    "df = data.drop(['subject', 'date'], axis=1)"
   ]
  },
  {
   "cell_type": "code",
   "execution_count": 11,
   "id": "5a30cd7d",
   "metadata": {
    "ExecuteTime": {
     "end_time": "2021-10-28T16:14:17.628645Z",
     "start_time": "2021-10-28T16:14:17.619158Z"
    },
    "colab": {
     "base_uri": "https://localhost:8080/",
     "height": 204
    },
    "id": "5a30cd7d",
    "outputId": "093a9362-8bc0-4214-b0fa-865377acad84"
   },
   "outputs": [
    {
     "data": {
      "text/html": [
       "<div>\n",
       "<style scoped>\n",
       "    .dataframe tbody tr th:only-of-type {\n",
       "        vertical-align: middle;\n",
       "    }\n",
       "\n",
       "    .dataframe tbody tr th {\n",
       "        vertical-align: top;\n",
       "    }\n",
       "\n",
       "    .dataframe thead th {\n",
       "        text-align: right;\n",
       "    }\n",
       "</style>\n",
       "<table border=\"1\" class=\"dataframe\">\n",
       "  <thead>\n",
       "    <tr style=\"text-align: right;\">\n",
       "      <th></th>\n",
       "      <th>title</th>\n",
       "      <th>text</th>\n",
       "      <th>label</th>\n",
       "    </tr>\n",
       "  </thead>\n",
       "  <tbody>\n",
       "    <tr>\n",
       "      <th>0</th>\n",
       "      <td>Donald Trump Sends Out Embarrassing New Year’...</td>\n",
       "      <td>Donald Trump just couldn t wish all Americans ...</td>\n",
       "      <td>1</td>\n",
       "    </tr>\n",
       "    <tr>\n",
       "      <th>1</th>\n",
       "      <td>Drunk Bragging Trump Staffer Started Russian ...</td>\n",
       "      <td>House Intelligence Committee Chairman Devin Nu...</td>\n",
       "      <td>1</td>\n",
       "    </tr>\n",
       "    <tr>\n",
       "      <th>2</th>\n",
       "      <td>Sheriff David Clarke Becomes An Internet Joke...</td>\n",
       "      <td>On Friday, it was revealed that former Milwauk...</td>\n",
       "      <td>1</td>\n",
       "    </tr>\n",
       "    <tr>\n",
       "      <th>3</th>\n",
       "      <td>Trump Is So Obsessed He Even Has Obama’s Name...</td>\n",
       "      <td>On Christmas day, Donald Trump announced that ...</td>\n",
       "      <td>1</td>\n",
       "    </tr>\n",
       "    <tr>\n",
       "      <th>4</th>\n",
       "      <td>Pope Francis Just Called Out Donald Trump Dur...</td>\n",
       "      <td>Pope Francis used his annual Christmas Day mes...</td>\n",
       "      <td>1</td>\n",
       "    </tr>\n",
       "  </tbody>\n",
       "</table>\n",
       "</div>"
      ],
      "text/plain": [
       "                                               title  ... label\n",
       "0   Donald Trump Sends Out Embarrassing New Year’...  ...     1\n",
       "1   Drunk Bragging Trump Staffer Started Russian ...  ...     1\n",
       "2   Sheriff David Clarke Becomes An Internet Joke...  ...     1\n",
       "3   Trump Is So Obsessed He Even Has Obama’s Name...  ...     1\n",
       "4   Pope Francis Just Called Out Donald Trump Dur...  ...     1\n",
       "\n",
       "[5 rows x 3 columns]"
      ]
     },
     "execution_count": 11,
     "metadata": {},
     "output_type": "execute_result"
    }
   ],
   "source": [
    "df.head()"
   ]
  },
  {
   "cell_type": "markdown",
   "id": "f718d6a6",
   "metadata": {},
   "source": [
    "Gabungkan judul yang ada pada kolom `title` dan isi artikel yang ada pada kolom `text` ke dalam kolom baru `content`."
   ]
  },
  {
   "cell_type": "code",
   "execution_count": 12,
   "id": "8e200dd2",
   "metadata": {
    "ExecuteTime": {
     "end_time": "2021-10-28T16:14:18.278076Z",
     "start_time": "2021-10-28T16:14:18.153742Z"
    },
    "id": "8e200dd2"
   },
   "outputs": [],
   "source": [
    "df['content'] = df['title'] + ' ' + df['text']"
   ]
  },
  {
   "cell_type": "code",
   "execution_count": 13,
   "id": "3d7194a6",
   "metadata": {
    "ExecuteTime": {
     "end_time": "2021-10-28T16:14:18.823551Z",
     "start_time": "2021-10-28T16:14:18.812020Z"
    },
    "colab": {
     "base_uri": "https://localhost:8080/",
     "height": 289
    },
    "id": "3d7194a6",
    "outputId": "89d6ddd5-3fbe-4004-f3cc-2da1431abe77"
   },
   "outputs": [
    {
     "data": {
      "text/html": [
       "<div>\n",
       "<style scoped>\n",
       "    .dataframe tbody tr th:only-of-type {\n",
       "        vertical-align: middle;\n",
       "    }\n",
       "\n",
       "    .dataframe tbody tr th {\n",
       "        vertical-align: top;\n",
       "    }\n",
       "\n",
       "    .dataframe thead th {\n",
       "        text-align: right;\n",
       "    }\n",
       "</style>\n",
       "<table border=\"1\" class=\"dataframe\">\n",
       "  <thead>\n",
       "    <tr style=\"text-align: right;\">\n",
       "      <th></th>\n",
       "      <th>title</th>\n",
       "      <th>text</th>\n",
       "      <th>label</th>\n",
       "      <th>content</th>\n",
       "    </tr>\n",
       "  </thead>\n",
       "  <tbody>\n",
       "    <tr>\n",
       "      <th>0</th>\n",
       "      <td>Donald Trump Sends Out Embarrassing New Year’...</td>\n",
       "      <td>Donald Trump just couldn t wish all Americans ...</td>\n",
       "      <td>1</td>\n",
       "      <td>Donald Trump Sends Out Embarrassing New Year’...</td>\n",
       "    </tr>\n",
       "    <tr>\n",
       "      <th>1</th>\n",
       "      <td>Drunk Bragging Trump Staffer Started Russian ...</td>\n",
       "      <td>House Intelligence Committee Chairman Devin Nu...</td>\n",
       "      <td>1</td>\n",
       "      <td>Drunk Bragging Trump Staffer Started Russian ...</td>\n",
       "    </tr>\n",
       "    <tr>\n",
       "      <th>2</th>\n",
       "      <td>Sheriff David Clarke Becomes An Internet Joke...</td>\n",
       "      <td>On Friday, it was revealed that former Milwauk...</td>\n",
       "      <td>1</td>\n",
       "      <td>Sheriff David Clarke Becomes An Internet Joke...</td>\n",
       "    </tr>\n",
       "    <tr>\n",
       "      <th>3</th>\n",
       "      <td>Trump Is So Obsessed He Even Has Obama’s Name...</td>\n",
       "      <td>On Christmas day, Donald Trump announced that ...</td>\n",
       "      <td>1</td>\n",
       "      <td>Trump Is So Obsessed He Even Has Obama’s Name...</td>\n",
       "    </tr>\n",
       "    <tr>\n",
       "      <th>4</th>\n",
       "      <td>Pope Francis Just Called Out Donald Trump Dur...</td>\n",
       "      <td>Pope Francis used his annual Christmas Day mes...</td>\n",
       "      <td>1</td>\n",
       "      <td>Pope Francis Just Called Out Donald Trump Dur...</td>\n",
       "    </tr>\n",
       "  </tbody>\n",
       "</table>\n",
       "</div>"
      ],
      "text/plain": [
       "                                               title  ...                                            content\n",
       "0   Donald Trump Sends Out Embarrassing New Year’...  ...   Donald Trump Sends Out Embarrassing New Year’...\n",
       "1   Drunk Bragging Trump Staffer Started Russian ...  ...   Drunk Bragging Trump Staffer Started Russian ...\n",
       "2   Sheriff David Clarke Becomes An Internet Joke...  ...   Sheriff David Clarke Becomes An Internet Joke...\n",
       "3   Trump Is So Obsessed He Even Has Obama’s Name...  ...   Trump Is So Obsessed He Even Has Obama’s Name...\n",
       "4   Pope Francis Just Called Out Donald Trump Dur...  ...   Pope Francis Just Called Out Donald Trump Dur...\n",
       "\n",
       "[5 rows x 4 columns]"
      ]
     },
     "execution_count": 13,
     "metadata": {},
     "output_type": "execute_result"
    }
   ],
   "source": [
    "df.head()"
   ]
  },
  {
   "cell_type": "markdown",
   "id": "d6663b07",
   "metadata": {},
   "source": [
    "Dikarenakan sudah dilakukan penggabungan, kolom `title` dan `text` dapat dibuang."
   ]
  },
  {
   "cell_type": "code",
   "execution_count": 14,
   "id": "9ce1625e",
   "metadata": {
    "ExecuteTime": {
     "end_time": "2021-10-28T16:14:19.349598Z",
     "start_time": "2021-10-28T16:14:19.325070Z"
    },
    "id": "9ce1625e"
   },
   "outputs": [],
   "source": [
    "df = df.drop(['title', 'text'], axis=1)[['content', 'label']]"
   ]
  },
  {
   "cell_type": "code",
   "execution_count": 15,
   "id": "daaafbf9",
   "metadata": {
    "ExecuteTime": {
     "end_time": "2021-10-28T16:14:22.472485Z",
     "start_time": "2021-10-28T16:14:22.464465Z"
    },
    "colab": {
     "base_uri": "https://localhost:8080/",
     "height": 204
    },
    "id": "daaafbf9",
    "outputId": "84f3bd5f-5046-4199-c7c4-3a42a2d9c754"
   },
   "outputs": [
    {
     "data": {
      "text/html": [
       "<div>\n",
       "<style scoped>\n",
       "    .dataframe tbody tr th:only-of-type {\n",
       "        vertical-align: middle;\n",
       "    }\n",
       "\n",
       "    .dataframe tbody tr th {\n",
       "        vertical-align: top;\n",
       "    }\n",
       "\n",
       "    .dataframe thead th {\n",
       "        text-align: right;\n",
       "    }\n",
       "</style>\n",
       "<table border=\"1\" class=\"dataframe\">\n",
       "  <thead>\n",
       "    <tr style=\"text-align: right;\">\n",
       "      <th></th>\n",
       "      <th>content</th>\n",
       "      <th>label</th>\n",
       "    </tr>\n",
       "  </thead>\n",
       "  <tbody>\n",
       "    <tr>\n",
       "      <th>0</th>\n",
       "      <td>Donald Trump Sends Out Embarrassing New Year’...</td>\n",
       "      <td>1</td>\n",
       "    </tr>\n",
       "    <tr>\n",
       "      <th>1</th>\n",
       "      <td>Drunk Bragging Trump Staffer Started Russian ...</td>\n",
       "      <td>1</td>\n",
       "    </tr>\n",
       "    <tr>\n",
       "      <th>2</th>\n",
       "      <td>Sheriff David Clarke Becomes An Internet Joke...</td>\n",
       "      <td>1</td>\n",
       "    </tr>\n",
       "    <tr>\n",
       "      <th>3</th>\n",
       "      <td>Trump Is So Obsessed He Even Has Obama’s Name...</td>\n",
       "      <td>1</td>\n",
       "    </tr>\n",
       "    <tr>\n",
       "      <th>4</th>\n",
       "      <td>Pope Francis Just Called Out Donald Trump Dur...</td>\n",
       "      <td>1</td>\n",
       "    </tr>\n",
       "  </tbody>\n",
       "</table>\n",
       "</div>"
      ],
      "text/plain": [
       "                                             content  label\n",
       "0   Donald Trump Sends Out Embarrassing New Year’...      1\n",
       "1   Drunk Bragging Trump Staffer Started Russian ...      1\n",
       "2   Sheriff David Clarke Becomes An Internet Joke...      1\n",
       "3   Trump Is So Obsessed He Even Has Obama’s Name...      1\n",
       "4   Pope Francis Just Called Out Donald Trump Dur...      1"
      ]
     },
     "execution_count": 15,
     "metadata": {},
     "output_type": "execute_result"
    }
   ],
   "source": [
    "df.head()"
   ]
  },
  {
   "cell_type": "markdown",
   "id": "27c0e436",
   "metadata": {},
   "source": [
    "Definisikan fungsi `text_preprocessing` yang akan melakukan *processing* pada teks dengan membuang karakter selain huruf, mengubah karakter menjadi *lower case*, membuang *stop words*, dan melakukan proses lemmatisasi untuk mengembalikan kata kepada kata dasarnya."
   ]
  },
  {
   "cell_type": "code",
   "execution_count": 29,
   "id": "6a30e867",
   "metadata": {
    "ExecuteTime": {
     "end_time": "2021-10-28T16:30:55.720993Z",
     "start_time": "2021-10-28T16:30:55.683956Z"
    },
    "id": "6a30e867"
   },
   "outputs": [],
   "source": [
    "def text_preprocessing(texts):\n",
    "    text_list = []\n",
    "    for i in range(len(texts)):\n",
    "        text_process = re.sub('[^a-zA-Z]', ' ', texts[i]).lower().split()\n",
    "        text_process = [word for word in text_process if not word in stop_en]\n",
    "        text_process = [lemmatizer.lemmatize(word) for word in text_process]\n",
    "        combined = ''\n",
    "        for text in text_process:\n",
    "            combined = combined + text + ' '\n",
    "        text_list.append(combined)\n",
    "    return text_list"
   ]
  },
  {
   "cell_type": "markdown",
   "id": "ff24ef7e",
   "metadata": {},
   "source": [
    "Dilakukan proses pengacakan pada dataset."
   ]
  },
  {
   "cell_type": "code",
   "execution_count": 30,
   "id": "nlD9T0Dj1Lft",
   "metadata": {
    "id": "nlD9T0Dj1Lft"
   },
   "outputs": [],
   "source": [
    "df = df.sample(frac=1).reset_index(drop=True)"
   ]
  },
  {
   "cell_type": "code",
   "execution_count": 31,
   "id": "becf964c",
   "metadata": {
    "ExecuteTime": {
     "end_time": "2021-10-28T16:31:34.735324Z",
     "start_time": "2021-10-28T16:31:34.667645Z"
    },
    "id": "becf964c"
   },
   "outputs": [],
   "source": [
    "news = df['content'].copy()\n",
    "target = df['label'].copy()"
   ]
  },
  {
   "cell_type": "markdown",
   "id": "c4a019d1",
   "metadata": {},
   "source": [
    "Lakukan *preprocessing* pada teks dan simpan ke dalam `news`. Selain itu simpan nilai label dari artikel tersebut ke dalam `target`."
   ]
  },
  {
   "cell_type": "code",
   "execution_count": 32,
   "id": "3a1b97e1",
   "metadata": {
    "ExecuteTime": {
     "start_time": "2021-10-28T16:31:50.443Z"
    },
    "id": "3a1b97e1"
   },
   "outputs": [],
   "source": [
    "news = text_preprocessing(news)"
   ]
  },
  {
   "cell_type": "code",
   "execution_count": 33,
   "id": "7ed0f0d0",
   "metadata": {
    "ExecuteTime": {
     "start_time": "2021-10-28T16:31:57.061Z"
    },
    "id": "7ed0f0d0"
   },
   "outputs": [],
   "source": [
    "target = target.values"
   ]
  },
  {
   "cell_type": "markdown",
   "id": "_MfUhtcEYxIF",
   "metadata": {
    "id": "_MfUhtcEYxIF"
   },
   "source": [
    "### Build Model"
   ]
  },
  {
   "cell_type": "markdown",
   "id": "4a87e015",
   "metadata": {},
   "source": [
    "Sebelum membangun model, akan dibagi dataset kita ke dalam train data dan test data dengan proporsi train data sebanyak 80% dan test data sebanyak 20%."
   ]
  },
  {
   "cell_type": "code",
   "execution_count": 34,
   "id": "982c4b33",
   "metadata": {
    "id": "982c4b33"
   },
   "outputs": [],
   "source": [
    "X_train, X_test, y_train, y_test = train_test_split(news, target, test_size=0.2, random_state=0)"
   ]
  },
  {
   "cell_type": "markdown",
   "id": "bee4c63d",
   "metadata": {},
   "source": [
    "Lakukan proses tokenisasi pada data teks dan lakukan proses *padding* agar panjang kata dari setiap artikel sama."
   ]
  },
  {
   "cell_type": "code",
   "execution_count": 35,
   "id": "vYngazpSzlJi",
   "metadata": {
    "id": "vYngazpSzlJi"
   },
   "outputs": [],
   "source": [
    "tokenizer = Tokenizer(num_words=20000, oov_token='-')\n",
    "tokenizer.fit_on_texts(X_train)\n",
    "tokenizer.fit_on_texts(X_test)\n",
    "\n",
    "sequence_train = tokenizer.texts_to_sequences(X_train)\n",
    "sequence_test = tokenizer.texts_to_sequences(X_test)\n",
    "\n",
    "pad_train = pad_sequences(sequence_train)\n",
    "pad_test = pad_sequences(sequence_test)"
   ]
  },
  {
   "cell_type": "markdown",
   "id": "0d1e70ed",
   "metadata": {},
   "source": [
    "Bangun sebuah model *sequential* dengan arsitektur *neural network* seperti yang didefinisikan pada *code* di bawah. Untuk dapat menerapkan proses **`Bidirectional LSTM`**, kita cukup memanggil *class* `Bidirectional` pada *layer* LSTM. Pada *output layer* akan berisi 1 unit dengan fungsi aktivasi *sigmoid*."
   ]
  },
  {
   "cell_type": "code",
   "execution_count": 36,
   "id": "8woK7Ci0ZOal",
   "metadata": {
    "id": "8woK7Ci0ZOal"
   },
   "outputs": [],
   "source": [
    "model = tf.keras.models.Sequential([\n",
    "   tf.keras.layers.Embedding(input_dim=20000, output_dim=64),\n",
    "   tf.keras.layers.Bidirectional(\n",
    "       tf.keras.layers.LSTM(64)\n",
    "       ),\n",
    "   tf.keras.layers.Dropout(0.2),\n",
    "   tf.keras.layers.Dense(32, activation='relu'),\n",
    "   tf.keras.layers.Dropout(0.25),\n",
    "   tf.keras.layers.Dense(16, activation='relu'),\n",
    "   tf.keras.layers.Dropout(0.5),\n",
    "   tf.keras.layers.Dense(1, activation='sigmoid')\n",
    "])"
   ]
  },
  {
   "cell_type": "code",
   "execution_count": 38,
   "id": "VjR48r7p34Ib",
   "metadata": {
    "colab": {
     "base_uri": "https://localhost:8080/"
    },
    "id": "VjR48r7p34Ib",
    "outputId": "5bec867c-cf2a-4c9d-e1d1-e96ffbf1f15d"
   },
   "outputs": [
    {
     "name": "stdout",
     "output_type": "stream",
     "text": [
      "Model: \"sequential\"\n",
      "_________________________________________________________________\n",
      "Layer (type)                 Output Shape              Param #   \n",
      "=================================================================\n",
      "embedding (Embedding)        (None, None, 64)          1280000   \n",
      "_________________________________________________________________\n",
      "bidirectional (Bidirectional (None, 128)               66048     \n",
      "_________________________________________________________________\n",
      "dropout (Dropout)            (None, 128)               0         \n",
      "_________________________________________________________________\n",
      "dense (Dense)                (None, 32)                4128      \n",
      "_________________________________________________________________\n",
      "dropout_1 (Dropout)          (None, 32)                0         \n",
      "_________________________________________________________________\n",
      "dense_1 (Dense)              (None, 16)                528       \n",
      "_________________________________________________________________\n",
      "dropout_2 (Dropout)          (None, 16)                0         \n",
      "_________________________________________________________________\n",
      "dense_2 (Dense)              (None, 1)                 17        \n",
      "=================================================================\n",
      "Total params: 1,350,721\n",
      "Trainable params: 1,350,721\n",
      "Non-trainable params: 0\n",
      "_________________________________________________________________\n"
     ]
    }
   ],
   "source": [
    "model.summary()"
   ]
  },
  {
   "cell_type": "markdown",
   "id": "05879932",
   "metadata": {},
   "source": [
    "Pada proses `.compile()`, digunakan optimizer berupa `Adam`, dengan loss function berupa `binary_crossentropy` dikarenakan kelas yang kita miliki berupa biner, dan penggunaaan metrics berupa *accuracy* untuk melihat seberapa baik model kita melakukan klasifikasi pada teks."
   ]
  },
  {
   "cell_type": "code",
   "execution_count": 39,
   "id": "MM5cuDCn34Nv",
   "metadata": {
    "id": "MM5cuDCn34Nv"
   },
   "outputs": [],
   "source": [
    "model.compile(\n",
    "    optimizer= 'Adam',\n",
    "    loss = 'binary_crossentropy',\n",
    "    metrics = ['accuracy']\n",
    ")"
   ]
  },
  {
   "cell_type": "markdown",
   "id": "bb52913e",
   "metadata": {},
   "source": [
    "Lakukan `.fit()` untuk melakukan proses training pada model. Definisikan parameter `epochs` sebanyak 30 dan `batch_size` sebanyak 64."
   ]
  },
  {
   "cell_type": "code",
   "execution_count": 40,
   "id": "sQWq91pK34Q7",
   "metadata": {
    "colab": {
     "base_uri": "https://localhost:8080/"
    },
    "id": "sQWq91pK34Q7",
    "outputId": "a846ea46-6711-49cf-9dab-cace0e6d6893"
   },
   "outputs": [
    {
     "name": "stdout",
     "output_type": "stream",
     "text": [
      "Epoch 1/10\n",
      "562/562 [==============================] - 604s 1s/step - loss: 0.2229 - accuracy: 0.9136 - val_loss: 0.0849 - val_accuracy: 0.9700\n",
      "Epoch 2/10\n",
      "562/562 [==============================] - 589s 1s/step - loss: 0.0699 - accuracy: 0.9787 - val_loss: 0.0614 - val_accuracy: 0.9815\n",
      "Epoch 3/10\n",
      "562/562 [==============================] - 589s 1s/step - loss: 0.0331 - accuracy: 0.9892 - val_loss: 0.0559 - val_accuracy: 0.9867\n",
      "Epoch 4/10\n",
      "562/562 [==============================] - 588s 1s/step - loss: 0.0461 - accuracy: 0.9847 - val_loss: 0.0610 - val_accuracy: 0.9835\n",
      "Epoch 5/10\n",
      "562/562 [==============================] - 588s 1s/step - loss: 0.0620 - accuracy: 0.9806 - val_loss: 0.0745 - val_accuracy: 0.9818\n",
      "Epoch 6/10\n",
      "562/562 [==============================] - 589s 1s/step - loss: 0.0210 - accuracy: 0.9922 - val_loss: 0.0688 - val_accuracy: 0.9816\n",
      "Epoch 7/10\n",
      "562/562 [==============================] - 588s 1s/step - loss: 0.0120 - accuracy: 0.9969 - val_loss: 0.0758 - val_accuracy: 0.9894\n",
      "Epoch 8/10\n",
      "562/562 [==============================] - 589s 1s/step - loss: 0.0075 - accuracy: 0.9985 - val_loss: 0.0907 - val_accuracy: 0.9890\n",
      "Epoch 9/10\n",
      "562/562 [==============================] - 589s 1s/step - loss: 0.0059 - accuracy: 0.9988 - val_loss: 0.1110 - val_accuracy: 0.9863\n",
      "Epoch 10/10\n",
      "562/562 [==============================] - 589s 1s/step - loss: 0.0076 - accuracy: 0.9982 - val_loss: 0.1181 - val_accuracy: 0.9884\n"
     ]
    }
   ],
   "source": [
    "history = model.fit(\n",
    "    pad_train,\n",
    "    y_train,\n",
    "    epochs = 10,\n",
    "    batch_size = 64,\n",
    "    validation_data = (pad_test, y_test),\n",
    "    verbose = 1\n",
    ")"
   ]
  },
  {
   "cell_type": "markdown",
   "id": "ecb41def",
   "metadata": {},
   "source": [
    "Simpan model ke dalam `model.h5`."
   ]
  },
  {
   "cell_type": "code",
   "execution_count": 41,
   "id": "TO98SnSL5VA0",
   "metadata": {
    "id": "TO98SnSL5VA0"
   },
   "outputs": [],
   "source": [
    "model.save('model.h5')"
   ]
  },
  {
   "cell_type": "markdown",
   "id": "43492a24",
   "metadata": {},
   "source": [
    "Definisikan fungsi untuk melakukan plot *accuracy* dan *loss* dari model yang telah dilakukan proses *training*."
   ]
  },
  {
   "cell_type": "code",
   "execution_count": 42,
   "id": "TTV6VUMrabru",
   "metadata": {
    "id": "TTV6VUMrabru"
   },
   "outputs": [],
   "source": [
    "def plot_accuracy(history):\n",
    "    plt.figure(figsize=(18,5))\n",
    "    acc = history.history['accuracy']\n",
    "    val_acc = history.history['val_accuracy']\n",
    "    epochs = range(len(acc))\n",
    "    plot_acc = plt.plot(epochs, acc, 'red', label='Training Accuracy')\n",
    "    plot_val_acc = plt.plot(epochs, val_acc, 'blue', label='Validation Accuracy')\n",
    "    plt.xlabel('Epoch', fontsize=15)\n",
    "    plt.ylabel('Accuracy', fontsize=15)\n",
    "    plt.title('Training and Validation Accuracy', fontsize=25)\n",
    "    plt.legend(bbox_to_anchor=(1,1), loc='best')\n",
    "    plt.grid()\n",
    "    plt.show()\n",
    "\n",
    "def plot_loss(history):\n",
    "    plt.figure(figsize=(18,5))\n",
    "    loss = history.history['loss']\n",
    "    val_loss = history.history['val_loss']\n",
    "    epochs = range(len(loss))\n",
    "    plot_loss = plt.plot(epochs, loss, 'red', label='Training Loss')\n",
    "    plot_val_loss = plt.plot(epochs, val_loss, 'blue', label='Validation Loss')\n",
    "    plt.xlabel('Epoch', fontsize=15)\n",
    "    plt.ylabel('Loss', fontsize=15)\n",
    "    plt.title('Training and Validation Loss', fontsize=25)\n",
    "    plt.legend(bbox_to_anchor=(1,1), loc='best')\n",
    "    plt.grid()\n",
    "    plt.show()"
   ]
  },
  {
   "cell_type": "code",
   "execution_count": 43,
   "id": "JO4OttcXadXz",
   "metadata": {
    "colab": {
     "base_uri": "https://localhost:8080/",
     "height": 286
    },
    "id": "JO4OttcXadXz",
    "outputId": "d3056eec-e2fe-45fd-8071-bc4a89e96049"
   },
   "outputs": [
    {
     "data": {
      "image/png": "[encoded data removed]",
      "text/plain": [
       "<Figure size 1296x360 with 1 Axes>"
      ]
     },
     "metadata": {
      "needs_background": "light"
     },
     "output_type": "display_data"
    }
   ],
   "source": [
    "plot_accuracy(history)"
   ]
  },
  {
   "cell_type": "code",
   "execution_count": 44,
   "id": "Ea7sSMebadac",
   "metadata": {
    "colab": {
     "base_uri": "https://localhost:8080/",
     "height": 366
    },
    "id": "Ea7sSMebadac",
    "outputId": "312b2399-1d91-4efe-a0cd-7b03ed32f774"
   },
   "outputs": [
    {
     "data": {
      "image/png": "[encoded data removed]",
      "text/plain": [
       "<Figure size 1296x360 with 1 Axes>"
      ]
     },
     "metadata": {
      "needs_background": "light"
     },
     "output_type": "display_data"
    }
   ],
   "source": [
    "plot_loss(history)"
   ]
  },
  {
   "cell_type": "markdown",
   "id": "3a3e8f63",
   "metadata": {},
   "source": [
    "Hitung nilai *accuracy* pada *training* dan *test data*"
   ]
  },
  {
   "cell_type": "code",
   "execution_count": 45,
   "id": "cK4BeLuDd71d",
   "metadata": {
    "colab": {
     "base_uri": "https://localhost:8080/"
    },
    "id": "cK4BeLuDd71d",
    "outputId": "27bfc033-60db-4e46-ca65-610823a962ac"
   },
   "outputs": [
    {
     "name": "stdout",
     "output_type": "stream",
     "text": [
      "1123/1123 [==============================] - 490s 436ms/step - loss: 0.0037 - accuracy: 0.9992\n",
      "281/281 [==============================] - 119s 422ms/step - loss: 0.1181 - accuracy: 0.9884\n",
      "Training Accuracy:99.91647601127625 %\n",
      "Testing Accuracy:98.8418698310852 %\n"
     ]
    }
   ],
   "source": [
    "train_stats = model.evaluate(pad_train,y_train)\n",
    "test_stats = model.evaluate(pad_test,y_test)\n",
    "print(f'Training Accuracy:{train_stats[1]*100} %')\n",
    "print(f'Testing Accuracy:{test_stats[1]*100} %')"
   ]
  },
  {
   "cell_type": "markdown",
   "id": "a330c171",
   "metadata": {},
   "source": [
    "Diperoleh nilai *accuracy* sebesar 99.91647601127625% untuk *training data* dan 98.8418698310852% untuk *test data*."
   ]
  },
  {
   "cell_type": "code",
   "execution_count": 50,
   "id": "MZhpR3d_d7-T",
   "metadata": {
    "id": "MZhpR3d_d7-T"
   },
   "outputs": [],
   "source": [
    "y_pred = model.predict(pad_test)\n",
    "y_prob_pred = y_pred.reshape(8980)\n",
    "y_pred_label = y_prob_pred\n",
    "for i in range(len(y_prob_pred)):\n",
    "    if y_prob_pred[i] >= 0.5:\n",
    "        y_pred_label[i] = 1\n",
    "    else:\n",
    "        y_pred_label[i] = 0"
   ]
  },
  {
   "cell_type": "code",
   "execution_count": 80,
   "id": "hdF69uRF3GXj",
   "metadata": {
    "colab": {
     "base_uri": "https://localhost:8080/"
    },
    "id": "hdF69uRF3GXj",
    "outputId": "15fdcaf3-0f01-44af-b955-cbde6499e43d"
   },
   "outputs": [
    {
     "name": "stdout",
     "output_type": "stream",
     "text": [
      "Classification Report : \n",
      "                precision    recall  f1-score   support\n",
      "\n",
      "           0       0.99      0.99      0.99      4328\n",
      "           1       0.99      0.99      0.99      4652\n",
      "\n",
      "    accuracy                           0.99      8980\n",
      "   macro avg       0.99      0.99      0.99      8980\n",
      "weighted avg       0.99      0.99      0.99      8980\n",
      "\n"
     ]
    }
   ],
   "source": [
    "print(\"Classification Report : \\n \", classification_report(y_test,y_pred_label))"
   ]
  },
  {
   "cell_type": "code",
   "execution_count": 89,
   "id": "b4YT0evN3dvq",
   "metadata": {
    "id": "b4YT0evN3dvq"
   },
   "outputs": [],
   "source": [
    "def make_confusion_matrix(pred):\n",
    "    cam = confusion_matrix(y_test, pred)\n",
    "    sns.heatmap(cam, annot=True, cmap='viridis', \n",
    "                xticklabels=['True News', 'Fake News'],\n",
    "                yticklabels=['True News', 'Fake News'],\n",
    "                fmt=\"d\")\n",
    "    plt.xlabel('Predicted Label', fontsize=12)\n",
    "    plt.ylabel('True Label', fontsize=12)\n",
    "    plt.title('Confusion Matrix', fontsize=15)\n",
    "    plt.show()"
   ]
  },
  {
   "cell_type": "code",
   "execution_count": 90,
   "id": "027tvBey4WVu",
   "metadata": {
    "colab": {
     "base_uri": "https://localhost:8080/",
     "height": 303
    },
    "id": "027tvBey4WVu",
    "outputId": "a9da5e7d-0fd3-4f32-c2d3-a0a2084be372"
   },
   "outputs": [
    {
     "data": {
      "image/png": "[encoded data removed]",
      "text/plain": [
       "<Figure size 432x288 with 2 Axes>"
      ]
     },
     "metadata": {},
     "output_type": "display_data"
    }
   ],
   "source": [
    "make_confusion_matrix(label_y)"
   ]
  },
  {
   "cell_type": "markdown",
   "id": "5e0ca624",
   "metadata": {},
   "source": [
    "Berdasarkan *confusion matrix* di atas, terlihat untuk model yang dibangun sudah dapat mengkategorikan suatu artikel adalah *true news* atau *fake news* dengan baik. Pada model tersebut, hanya terdapat 104 artikel yang mengalami kesalahan dalam proses klasifikasi dari keseluruhan *test data*."
   ]
  },
  {
   "cell_type": "markdown",
   "id": "6Fz6pWkk5T16",
   "metadata": {
    "id": "6Fz6pWkk5T16"
   },
   "source": [
    "## Conclusion"
   ]
  },
  {
   "cell_type": "code",
   "execution_count": null,
   "id": "9Obrikx64Z61",
   "metadata": {
    "id": "9Obrikx64Z61"
   },
   "outputs": [],
   "source": []
  }
 ],
 "metadata": {
  "accelerator": "GPU",
  "colab": {
   "collapsed_sections": [
    "ebac2f62"
   ],
   "name": "Fake News Detection.ipynb",
   "provenance": []
  },
  "kernelspec": {
   "display_name": "NLP",
   "language": "python",
   "name": "nlp"
  },
  "language_info": {
   "codemirror_mode": {
    "name": "ipython",
    "version": 3
   },
   "file_extension": ".py",
   "mimetype": "text/x-python",
   "name": "python",
   "nbconvert_exporter": "python",
   "pygments_lexer": "ipython3",
   "version": "3.8.11"
  },
  "toc": {
   "base_numbering": 1,
   "nav_menu": {},
   "number_sections": false,
   "sideBar": true,
   "skip_h1_title": false,
   "title_cell": "Table of Contents",
   "title_sidebar": "Contents",
   "toc_cell": false,
   "toc_position": {},
   "toc_section_display": true,
   "toc_window_display": false
  },
  "varInspector": {
   "cols": {
    "lenName": 16,
    "lenType": 16,
    "lenVar": 40
   },
   "kernels_config": {
    "python": {
     "delete_cmd_postfix": "",
     "delete_cmd_prefix": "del ",
     "library": "var_list.py",
     "varRefreshCmd": "print(var_dic_list())"
    },
    "r": {
     "delete_cmd_postfix": ") ",
     "delete_cmd_prefix": "rm(",
     "library": "var_list.r",
     "varRefreshCmd": "cat(var_dic_list()) "
    }
   },
   "types_to_exclude": [
    "module",
    "function",
    "builtin_function_or_method",
    "instance",
    "_Feature"
   ],
   "window_display": false
  }
 },
 "nbformat": 4,
 "nbformat_minor": 5
}
